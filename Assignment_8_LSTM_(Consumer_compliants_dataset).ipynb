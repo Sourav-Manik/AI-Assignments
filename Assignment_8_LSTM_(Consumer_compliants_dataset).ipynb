{
  "nbformat": 4,
  "nbformat_minor": 0,
  "metadata": {
    "colab": {
      "provenance": [],
      "toc_visible": true,
      "mount_file_id": "1m7-T3g6BzBhRlcIvxzIiZCK6AzTxXG67",
      "authorship_tag": "ABX9TyPi/liMwHyFU4f23EFHi8Av",
      "include_colab_link": true
    },
    "kernelspec": {
      "name": "python3",
      "display_name": "Python 3"
    },
    "language_info": {
      "name": "python"
    },
    "gpuClass": "standard"
  },
  "cells": [
    {
      "cell_type": "markdown",
      "metadata": {
        "id": "view-in-github",
        "colab_type": "text"
      },
      "source": [
        "<a href=\"https://colab.research.google.com/github/Sourav-Manik/AI-Assignments/blob/main/Assignment_8_LSTM_(Consumer_compliants_dataset).ipynb\" target=\"_parent\"><img src=\"https://colab.research.google.com/assets/colab-badge.svg\" alt=\"Open In Colab\"/></a>"
      ]
    },
    {
      "cell_type": "markdown",
      "source": [
        "##1. Import Libraries##"
      ],
      "metadata": {
        "id": "P2BxALrUEBkr"
      }
    },
    {
      "cell_type": "code",
      "source": [
        "import pandas as pd\n",
        "import warnings\n",
        "warnings.filterwarnings('ignore')\n",
        "import numpy as np\n",
        "import matplotlib\n",
        "from matplotlib import pyplot as plt\n",
        "import re\n",
        "import nltk\n",
        "nltk.download('stopwords')\n",
        "from nltk.corpus import stopwords\n",
        "from nltk.stem.porter import PorterStemmer\n",
        "from keras.preprocessing.text import Tokenizer\n",
        "import tensorflow as tf\n",
        "tf.keras.utils.pad_sequences\n",
        "from sklearn.model_selection import train_test_split\n",
        "from keras.models import Sequential\n",
        "from keras.layers import Dense, Embedding, LSTM, SimpleRNN, SpatialDropout1D"
      ],
      "metadata": {
        "id": "DfjlTT70EBks",
        "colab": {
          "base_uri": "https://localhost:8080/"
        },
        "outputId": "31ba0d61-d092-4f05-eced-36648830cceb"
      },
      "execution_count": null,
      "outputs": [
        {
          "output_type": "stream",
          "name": "stderr",
          "text": [
            "[nltk_data] Downloading package stopwords to /root/nltk_data...\n",
            "[nltk_data]   Unzipping corpora/stopwords.zip.\n"
          ]
        }
      ]
    },
    {
      "cell_type": "markdown",
      "source": [
        "##2. Import Data##"
      ],
      "metadata": {
        "id": "sRzlfM03EBks"
      }
    },
    {
      "cell_type": "code",
      "source": [
        "consumer_complaints_data = pd.read_csv('/content/drive/MyDrive/AI/consumer_complaints.csv')\n",
        "consumer_complaints_data"
      ],
      "metadata": {
        "colab": {
          "base_uri": "https://localhost:8080/",
          "height": 852
        },
        "outputId": "c4a3154c-649c-4a23-e9b9-bf07f01b0f35",
        "id": "KAt8XVdkEBks"
      },
      "execution_count": null,
      "outputs": [
        {
          "output_type": "execute_result",
          "data": {
            "text/plain": [
              "       date_received           product                  sub_product  \\\n",
              "0         08/30/2013          Mortgage               Other mortgage   \n",
              "1         08/30/2013          Mortgage               Other mortgage   \n",
              "2         08/30/2013  Credit reporting                          NaN   \n",
              "3         08/30/2013      Student loan     Non-federal student loan   \n",
              "4         08/30/2013   Debt collection                  Credit card   \n",
              "...              ...               ...                          ...   \n",
              "555952    07/01/2014          Mortgage               Other mortgage   \n",
              "555953    07/01/2014          Mortgage               Other mortgage   \n",
              "555954    07/10/2012          Mortgage  Conventional fixed mortgage   \n",
              "555955    04/14/2015   Debt collection                I do not know   \n",
              "555956    08/14/2014   Debt collection                I do not know   \n",
              "\n",
              "                                           issue  \\\n",
              "0       Loan modification,collection,foreclosure   \n",
              "1       Loan servicing, payments, escrow account   \n",
              "2         Incorrect information on credit report   \n",
              "3                             Repaying your loan   \n",
              "4             False statements or representation   \n",
              "...                                          ...   \n",
              "555952  Loan modification,collection,foreclosure   \n",
              "555953  Loan servicing, payments, escrow account   \n",
              "555954  Loan modification,collection,foreclosure   \n",
              "555955                     Communication tactics   \n",
              "555956     Cont'd attempts collect debt not owed   \n",
              "\n",
              "                                sub_issue consumer_complaint_narrative  \\\n",
              "0                                     NaN                          NaN   \n",
              "1                                     NaN                          NaN   \n",
              "2                          Account status                          NaN   \n",
              "3                      Repaying your loan                          NaN   \n",
              "4       Attempted to collect wrong amount                          NaN   \n",
              "...                                   ...                          ...   \n",
              "555952                                NaN                          NaN   \n",
              "555953                                NaN                          NaN   \n",
              "555954                                NaN                          NaN   \n",
              "555955         Frequent or repeated calls                          NaN   \n",
              "555956                   Debt is not mine                          NaN   \n",
              "\n",
              "       company_public_response                          company state zipcode  \\\n",
              "0                          NaN                     U.S. Bancorp    CA   95993   \n",
              "1                          NaN            Wells Fargo & Company    CA   91104   \n",
              "2                          NaN            Wells Fargo & Company    NY   11764   \n",
              "3                          NaN          Navient Solutions, Inc.    MD   21402   \n",
              "4                          NaN  Resurgent Capital Services L.P.    GA   30106   \n",
              "...                        ...                              ...   ...     ...   \n",
              "555952                     NaN                  Bank of America   NaN     NaN   \n",
              "555953                     NaN     Residential Credit Solutions   NaN     NaN   \n",
              "555954                     NaN                   BB&T Financial   NaN     NaN   \n",
              "555955                     NaN            Global Recovery Group   NaN     NaN   \n",
              "555956                     NaN     CCS Financial Services, Inc.   NaN     NaN   \n",
              "\n",
              "                                 tags consumer_consent_provided submitted_via  \\\n",
              "0                                 NaN                       NaN      Referral   \n",
              "1                                 NaN                       NaN      Referral   \n",
              "2                                 NaN                       NaN   Postal mail   \n",
              "3                                 NaN                       NaN         Email   \n",
              "4                                 NaN                       NaN           Web   \n",
              "...                               ...                       ...           ...   \n",
              "555952                            NaN                       NaN      Referral   \n",
              "555953  Older American, Servicemember                       NaN      Referral   \n",
              "555954                            NaN                       NaN         Phone   \n",
              "555955                            NaN                       NaN         Phone   \n",
              "555956                            NaN                       NaN         Phone   \n",
              "\n",
              "       date_sent_to_company company_response_to_consumer timely_response  \\\n",
              "0                09/03/2013      Closed with explanation             Yes   \n",
              "1                09/03/2013      Closed with explanation             Yes   \n",
              "2                09/18/2013      Closed with explanation             Yes   \n",
              "3                08/30/2013      Closed with explanation             Yes   \n",
              "4                08/30/2013      Closed with explanation             Yes   \n",
              "...                     ...                          ...             ...   \n",
              "555952           07/07/2014      Closed with explanation             Yes   \n",
              "555953           07/23/2014      Closed with explanation              No   \n",
              "555954           11/18/2013      Closed with explanation             Yes   \n",
              "555955           04/14/2015            Untimely response              No   \n",
              "555956           08/18/2014      Closed with explanation             Yes   \n",
              "\n",
              "       consumer_disputed?  complaint_id  \n",
              "0                     Yes        511074  \n",
              "1                     Yes        511080  \n",
              "2                      No        510473  \n",
              "3                     Yes        510326  \n",
              "4                     Yes        511067  \n",
              "...                   ...           ...  \n",
              "555952                 No        919529  \n",
              "555953                 No        918447  \n",
              "555954                 No        114550  \n",
              "555955                 No       1329963  \n",
              "555956                 No        984116  \n",
              "\n",
              "[555957 rows x 18 columns]"
            ],
            "text/html": [
              "\n",
              "  <div id=\"df-febc3f89-a4d2-4c4c-b8f4-ac8f3f7daf94\">\n",
              "    <div class=\"colab-df-container\">\n",
              "      <div>\n",
              "<style scoped>\n",
              "    .dataframe tbody tr th:only-of-type {\n",
              "        vertical-align: middle;\n",
              "    }\n",
              "\n",
              "    .dataframe tbody tr th {\n",
              "        vertical-align: top;\n",
              "    }\n",
              "\n",
              "    .dataframe thead th {\n",
              "        text-align: right;\n",
              "    }\n",
              "</style>\n",
              "<table border=\"1\" class=\"dataframe\">\n",
              "  <thead>\n",
              "    <tr style=\"text-align: right;\">\n",
              "      <th></th>\n",
              "      <th>date_received</th>\n",
              "      <th>product</th>\n",
              "      <th>sub_product</th>\n",
              "      <th>issue</th>\n",
              "      <th>sub_issue</th>\n",
              "      <th>consumer_complaint_narrative</th>\n",
              "      <th>company_public_response</th>\n",
              "      <th>company</th>\n",
              "      <th>state</th>\n",
              "      <th>zipcode</th>\n",
              "      <th>tags</th>\n",
              "      <th>consumer_consent_provided</th>\n",
              "      <th>submitted_via</th>\n",
              "      <th>date_sent_to_company</th>\n",
              "      <th>company_response_to_consumer</th>\n",
              "      <th>timely_response</th>\n",
              "      <th>consumer_disputed?</th>\n",
              "      <th>complaint_id</th>\n",
              "    </tr>\n",
              "  </thead>\n",
              "  <tbody>\n",
              "    <tr>\n",
              "      <th>0</th>\n",
              "      <td>08/30/2013</td>\n",
              "      <td>Mortgage</td>\n",
              "      <td>Other mortgage</td>\n",
              "      <td>Loan modification,collection,foreclosure</td>\n",
              "      <td>NaN</td>\n",
              "      <td>NaN</td>\n",
              "      <td>NaN</td>\n",
              "      <td>U.S. Bancorp</td>\n",
              "      <td>CA</td>\n",
              "      <td>95993</td>\n",
              "      <td>NaN</td>\n",
              "      <td>NaN</td>\n",
              "      <td>Referral</td>\n",
              "      <td>09/03/2013</td>\n",
              "      <td>Closed with explanation</td>\n",
              "      <td>Yes</td>\n",
              "      <td>Yes</td>\n",
              "      <td>511074</td>\n",
              "    </tr>\n",
              "    <tr>\n",
              "      <th>1</th>\n",
              "      <td>08/30/2013</td>\n",
              "      <td>Mortgage</td>\n",
              "      <td>Other mortgage</td>\n",
              "      <td>Loan servicing, payments, escrow account</td>\n",
              "      <td>NaN</td>\n",
              "      <td>NaN</td>\n",
              "      <td>NaN</td>\n",
              "      <td>Wells Fargo &amp; Company</td>\n",
              "      <td>CA</td>\n",
              "      <td>91104</td>\n",
              "      <td>NaN</td>\n",
              "      <td>NaN</td>\n",
              "      <td>Referral</td>\n",
              "      <td>09/03/2013</td>\n",
              "      <td>Closed with explanation</td>\n",
              "      <td>Yes</td>\n",
              "      <td>Yes</td>\n",
              "      <td>511080</td>\n",
              "    </tr>\n",
              "    <tr>\n",
              "      <th>2</th>\n",
              "      <td>08/30/2013</td>\n",
              "      <td>Credit reporting</td>\n",
              "      <td>NaN</td>\n",
              "      <td>Incorrect information on credit report</td>\n",
              "      <td>Account status</td>\n",
              "      <td>NaN</td>\n",
              "      <td>NaN</td>\n",
              "      <td>Wells Fargo &amp; Company</td>\n",
              "      <td>NY</td>\n",
              "      <td>11764</td>\n",
              "      <td>NaN</td>\n",
              "      <td>NaN</td>\n",
              "      <td>Postal mail</td>\n",
              "      <td>09/18/2013</td>\n",
              "      <td>Closed with explanation</td>\n",
              "      <td>Yes</td>\n",
              "      <td>No</td>\n",
              "      <td>510473</td>\n",
              "    </tr>\n",
              "    <tr>\n",
              "      <th>3</th>\n",
              "      <td>08/30/2013</td>\n",
              "      <td>Student loan</td>\n",
              "      <td>Non-federal student loan</td>\n",
              "      <td>Repaying your loan</td>\n",
              "      <td>Repaying your loan</td>\n",
              "      <td>NaN</td>\n",
              "      <td>NaN</td>\n",
              "      <td>Navient Solutions, Inc.</td>\n",
              "      <td>MD</td>\n",
              "      <td>21402</td>\n",
              "      <td>NaN</td>\n",
              "      <td>NaN</td>\n",
              "      <td>Email</td>\n",
              "      <td>08/30/2013</td>\n",
              "      <td>Closed with explanation</td>\n",
              "      <td>Yes</td>\n",
              "      <td>Yes</td>\n",
              "      <td>510326</td>\n",
              "    </tr>\n",
              "    <tr>\n",
              "      <th>4</th>\n",
              "      <td>08/30/2013</td>\n",
              "      <td>Debt collection</td>\n",
              "      <td>Credit card</td>\n",
              "      <td>False statements or representation</td>\n",
              "      <td>Attempted to collect wrong amount</td>\n",
              "      <td>NaN</td>\n",
              "      <td>NaN</td>\n",
              "      <td>Resurgent Capital Services L.P.</td>\n",
              "      <td>GA</td>\n",
              "      <td>30106</td>\n",
              "      <td>NaN</td>\n",
              "      <td>NaN</td>\n",
              "      <td>Web</td>\n",
              "      <td>08/30/2013</td>\n",
              "      <td>Closed with explanation</td>\n",
              "      <td>Yes</td>\n",
              "      <td>Yes</td>\n",
              "      <td>511067</td>\n",
              "    </tr>\n",
              "    <tr>\n",
              "      <th>...</th>\n",
              "      <td>...</td>\n",
              "      <td>...</td>\n",
              "      <td>...</td>\n",
              "      <td>...</td>\n",
              "      <td>...</td>\n",
              "      <td>...</td>\n",
              "      <td>...</td>\n",
              "      <td>...</td>\n",
              "      <td>...</td>\n",
              "      <td>...</td>\n",
              "      <td>...</td>\n",
              "      <td>...</td>\n",
              "      <td>...</td>\n",
              "      <td>...</td>\n",
              "      <td>...</td>\n",
              "      <td>...</td>\n",
              "      <td>...</td>\n",
              "      <td>...</td>\n",
              "    </tr>\n",
              "    <tr>\n",
              "      <th>555952</th>\n",
              "      <td>07/01/2014</td>\n",
              "      <td>Mortgage</td>\n",
              "      <td>Other mortgage</td>\n",
              "      <td>Loan modification,collection,foreclosure</td>\n",
              "      <td>NaN</td>\n",
              "      <td>NaN</td>\n",
              "      <td>NaN</td>\n",
              "      <td>Bank of America</td>\n",
              "      <td>NaN</td>\n",
              "      <td>NaN</td>\n",
              "      <td>NaN</td>\n",
              "      <td>NaN</td>\n",
              "      <td>Referral</td>\n",
              "      <td>07/07/2014</td>\n",
              "      <td>Closed with explanation</td>\n",
              "      <td>Yes</td>\n",
              "      <td>No</td>\n",
              "      <td>919529</td>\n",
              "    </tr>\n",
              "    <tr>\n",
              "      <th>555953</th>\n",
              "      <td>07/01/2014</td>\n",
              "      <td>Mortgage</td>\n",
              "      <td>Other mortgage</td>\n",
              "      <td>Loan servicing, payments, escrow account</td>\n",
              "      <td>NaN</td>\n",
              "      <td>NaN</td>\n",
              "      <td>NaN</td>\n",
              "      <td>Residential Credit Solutions</td>\n",
              "      <td>NaN</td>\n",
              "      <td>NaN</td>\n",
              "      <td>Older American, Servicemember</td>\n",
              "      <td>NaN</td>\n",
              "      <td>Referral</td>\n",
              "      <td>07/23/2014</td>\n",
              "      <td>Closed with explanation</td>\n",
              "      <td>No</td>\n",
              "      <td>No</td>\n",
              "      <td>918447</td>\n",
              "    </tr>\n",
              "    <tr>\n",
              "      <th>555954</th>\n",
              "      <td>07/10/2012</td>\n",
              "      <td>Mortgage</td>\n",
              "      <td>Conventional fixed mortgage</td>\n",
              "      <td>Loan modification,collection,foreclosure</td>\n",
              "      <td>NaN</td>\n",
              "      <td>NaN</td>\n",
              "      <td>NaN</td>\n",
              "      <td>BB&amp;T Financial</td>\n",
              "      <td>NaN</td>\n",
              "      <td>NaN</td>\n",
              "      <td>NaN</td>\n",
              "      <td>NaN</td>\n",
              "      <td>Phone</td>\n",
              "      <td>11/18/2013</td>\n",
              "      <td>Closed with explanation</td>\n",
              "      <td>Yes</td>\n",
              "      <td>No</td>\n",
              "      <td>114550</td>\n",
              "    </tr>\n",
              "    <tr>\n",
              "      <th>555955</th>\n",
              "      <td>04/14/2015</td>\n",
              "      <td>Debt collection</td>\n",
              "      <td>I do not know</td>\n",
              "      <td>Communication tactics</td>\n",
              "      <td>Frequent or repeated calls</td>\n",
              "      <td>NaN</td>\n",
              "      <td>NaN</td>\n",
              "      <td>Global Recovery Group</td>\n",
              "      <td>NaN</td>\n",
              "      <td>NaN</td>\n",
              "      <td>NaN</td>\n",
              "      <td>NaN</td>\n",
              "      <td>Phone</td>\n",
              "      <td>04/14/2015</td>\n",
              "      <td>Untimely response</td>\n",
              "      <td>No</td>\n",
              "      <td>No</td>\n",
              "      <td>1329963</td>\n",
              "    </tr>\n",
              "    <tr>\n",
              "      <th>555956</th>\n",
              "      <td>08/14/2014</td>\n",
              "      <td>Debt collection</td>\n",
              "      <td>I do not know</td>\n",
              "      <td>Cont'd attempts collect debt not owed</td>\n",
              "      <td>Debt is not mine</td>\n",
              "      <td>NaN</td>\n",
              "      <td>NaN</td>\n",
              "      <td>CCS Financial Services, Inc.</td>\n",
              "      <td>NaN</td>\n",
              "      <td>NaN</td>\n",
              "      <td>NaN</td>\n",
              "      <td>NaN</td>\n",
              "      <td>Phone</td>\n",
              "      <td>08/18/2014</td>\n",
              "      <td>Closed with explanation</td>\n",
              "      <td>Yes</td>\n",
              "      <td>No</td>\n",
              "      <td>984116</td>\n",
              "    </tr>\n",
              "  </tbody>\n",
              "</table>\n",
              "<p>555957 rows × 18 columns</p>\n",
              "</div>\n",
              "      <button class=\"colab-df-convert\" onclick=\"convertToInteractive('df-febc3f89-a4d2-4c4c-b8f4-ac8f3f7daf94')\"\n",
              "              title=\"Convert this dataframe to an interactive table.\"\n",
              "              style=\"display:none;\">\n",
              "        \n",
              "  <svg xmlns=\"http://www.w3.org/2000/svg\" height=\"24px\"viewBox=\"0 0 24 24\"\n",
              "       width=\"24px\">\n",
              "    <path d=\"M0 0h24v24H0V0z\" fill=\"none\"/>\n",
              "    <path d=\"M18.56 5.44l.94 2.06.94-2.06 2.06-.94-2.06-.94-.94-2.06-.94 2.06-2.06.94zm-11 1L8.5 8.5l.94-2.06 2.06-.94-2.06-.94L8.5 2.5l-.94 2.06-2.06.94zm10 10l.94 2.06.94-2.06 2.06-.94-2.06-.94-.94-2.06-.94 2.06-2.06.94z\"/><path d=\"M17.41 7.96l-1.37-1.37c-.4-.4-.92-.59-1.43-.59-.52 0-1.04.2-1.43.59L10.3 9.45l-7.72 7.72c-.78.78-.78 2.05 0 2.83L4 21.41c.39.39.9.59 1.41.59.51 0 1.02-.2 1.41-.59l7.78-7.78 2.81-2.81c.8-.78.8-2.07 0-2.86zM5.41 20L4 18.59l7.72-7.72 1.47 1.35L5.41 20z\"/>\n",
              "  </svg>\n",
              "      </button>\n",
              "      \n",
              "  <style>\n",
              "    .colab-df-container {\n",
              "      display:flex;\n",
              "      flex-wrap:wrap;\n",
              "      gap: 12px;\n",
              "    }\n",
              "\n",
              "    .colab-df-convert {\n",
              "      background-color: #E8F0FE;\n",
              "      border: none;\n",
              "      border-radius: 50%;\n",
              "      cursor: pointer;\n",
              "      display: none;\n",
              "      fill: #1967D2;\n",
              "      height: 32px;\n",
              "      padding: 0 0 0 0;\n",
              "      width: 32px;\n",
              "    }\n",
              "\n",
              "    .colab-df-convert:hover {\n",
              "      background-color: #E2EBFA;\n",
              "      box-shadow: 0px 1px 2px rgba(60, 64, 67, 0.3), 0px 1px 3px 1px rgba(60, 64, 67, 0.15);\n",
              "      fill: #174EA6;\n",
              "    }\n",
              "\n",
              "    [theme=dark] .colab-df-convert {\n",
              "      background-color: #3B4455;\n",
              "      fill: #D2E3FC;\n",
              "    }\n",
              "\n",
              "    [theme=dark] .colab-df-convert:hover {\n",
              "      background-color: #434B5C;\n",
              "      box-shadow: 0px 1px 3px 1px rgba(0, 0, 0, 0.15);\n",
              "      filter: drop-shadow(0px 1px 2px rgba(0, 0, 0, 0.3));\n",
              "      fill: #FFFFFF;\n",
              "    }\n",
              "  </style>\n",
              "\n",
              "      <script>\n",
              "        const buttonEl =\n",
              "          document.querySelector('#df-febc3f89-a4d2-4c4c-b8f4-ac8f3f7daf94 button.colab-df-convert');\n",
              "        buttonEl.style.display =\n",
              "          google.colab.kernel.accessAllowed ? 'block' : 'none';\n",
              "\n",
              "        async function convertToInteractive(key) {\n",
              "          const element = document.querySelector('#df-febc3f89-a4d2-4c4c-b8f4-ac8f3f7daf94');\n",
              "          const dataTable =\n",
              "            await google.colab.kernel.invokeFunction('convertToInteractive',\n",
              "                                                     [key], {});\n",
              "          if (!dataTable) return;\n",
              "\n",
              "          const docLinkHtml = 'Like what you see? Visit the ' +\n",
              "            '<a target=\"_blank\" href=https://colab.research.google.com/notebooks/data_table.ipynb>data table notebook</a>'\n",
              "            + ' to learn more about interactive tables.';\n",
              "          element.innerHTML = '';\n",
              "          dataTable['output_type'] = 'display_data';\n",
              "          await google.colab.output.renderOutput(dataTable, element);\n",
              "          const docLink = document.createElement('div');\n",
              "          docLink.innerHTML = docLinkHtml;\n",
              "          element.appendChild(docLink);\n",
              "        }\n",
              "      </script>\n",
              "    </div>\n",
              "  </div>\n",
              "  "
            ]
          },
          "metadata": {},
          "execution_count": 3
        }
      ]
    },
    {
      "cell_type": "markdown",
      "source": [
        "##3. Data Understanding##"
      ],
      "metadata": {
        "id": "XvMw_LhUEBks"
      }
    },
    {
      "cell_type": "markdown",
      "source": [
        "This data set is from US Government and our goal is to use sequence learners [RNN/LSTM] and try classifying it to one of the classes from column “Product”.  Given that this is a text classification problem and based on our internal analysis, we have realized that this task can be well achieved using column “Consumer Complaint Narrative”, but if required participants are free to explore other columns."
      ],
      "metadata": {
        "id": "jCHPIKzzpxWO"
      }
    },
    {
      "cell_type": "markdown",
      "source": [
        "Assumption - \n",
        "\n",
        "As advised by client we'll use only “Consumer Complaint Narrative” as input feature and \"Product\" as our output feature.\n",
        "\n",
        "Also \"date\" doesn't seem material for this classification. Thus will also drop this feature."
      ],
      "metadata": {
        "id": "DsamoAOvpz1A"
      }
    },
    {
      "cell_type": "code",
      "source": [
        "consumer_complaints_data.dtypes"
      ],
      "metadata": {
        "colab": {
          "base_uri": "https://localhost:8080/"
        },
        "outputId": "e6c3845e-51ba-45d0-d314-ae0f7394c387",
        "id": "Ox4ERKGEEBkx"
      },
      "execution_count": null,
      "outputs": [
        {
          "output_type": "execute_result",
          "data": {
            "text/plain": [
              "date_received                   object\n",
              "product                         object\n",
              "sub_product                     object\n",
              "issue                           object\n",
              "sub_issue                       object\n",
              "consumer_complaint_narrative    object\n",
              "company_public_response         object\n",
              "company                         object\n",
              "state                           object\n",
              "zipcode                         object\n",
              "tags                            object\n",
              "consumer_consent_provided       object\n",
              "submitted_via                   object\n",
              "date_sent_to_company            object\n",
              "company_response_to_consumer    object\n",
              "timely_response                 object\n",
              "consumer_disputed?              object\n",
              "complaint_id                     int64\n",
              "dtype: object"
            ]
          },
          "metadata": {},
          "execution_count": 4
        }
      ]
    },
    {
      "cell_type": "code",
      "source": [
        "labels = consumer_complaints_data['product'].unique()\n",
        "labels"
      ],
      "metadata": {
        "colab": {
          "base_uri": "https://localhost:8080/"
        },
        "id": "7IQzCJ5RztPy",
        "outputId": "4f9dfdca-0ef4-43ec-a252-a4058d3880b5"
      },
      "execution_count": null,
      "outputs": [
        {
          "output_type": "execute_result",
          "data": {
            "text/plain": [
              "array(['Mortgage', 'Credit reporting', 'Student loan', 'Debt collection',\n",
              "       'Credit card', 'Bank account or service', 'Consumer Loan',\n",
              "       'Money transfers', 'Payday loan', 'Prepaid card',\n",
              "       'Other financial service'], dtype=object)"
            ]
          },
          "metadata": {},
          "execution_count": 5
        }
      ]
    },
    {
      "cell_type": "code",
      "source": [
        "consumer_complaints_data['product'].value_counts()"
      ],
      "metadata": {
        "colab": {
          "base_uri": "https://localhost:8080/"
        },
        "id": "3KfaBFFGX6ea",
        "outputId": "5e102ade-3717-4399-87ae-40a7245942f9"
      },
      "execution_count": null,
      "outputs": [
        {
          "output_type": "execute_result",
          "data": {
            "text/plain": [
              "Mortgage                   186475\n",
              "Debt collection            101052\n",
              "Credit reporting            91854\n",
              "Credit card                 66468\n",
              "Bank account or service     62563\n",
              "Consumer Loan               20990\n",
              "Student loan                15839\n",
              "Payday loan                  3877\n",
              "Money transfers              3812\n",
              "Prepaid card                 2470\n",
              "Other financial service       557\n",
              "Name: product, dtype: int64"
            ]
          },
          "metadata": {},
          "execution_count": 6
        }
      ]
    },
    {
      "cell_type": "markdown",
      "source": [
        "##4. Data Preparation##"
      ],
      "metadata": {
        "id": "CzYrcvQgEBkx"
      }
    },
    {
      "cell_type": "code",
      "source": [
        "consumer_complaints_data = consumer_complaints_data[['product','consumer_complaint_narrative']]\n",
        "consumer_complaints_data"
      ],
      "metadata": {
        "colab": {
          "base_uri": "https://localhost:8080/",
          "height": 424
        },
        "outputId": "860ef823-116f-4ff6-b776-d70cdd08291b",
        "id": "fC3SLQZBEBkx"
      },
      "execution_count": null,
      "outputs": [
        {
          "output_type": "execute_result",
          "data": {
            "text/plain": [
              "                 product consumer_complaint_narrative\n",
              "0               Mortgage                          NaN\n",
              "1               Mortgage                          NaN\n",
              "2       Credit reporting                          NaN\n",
              "3           Student loan                          NaN\n",
              "4        Debt collection                          NaN\n",
              "...                  ...                          ...\n",
              "555952          Mortgage                          NaN\n",
              "555953          Mortgage                          NaN\n",
              "555954          Mortgage                          NaN\n",
              "555955   Debt collection                          NaN\n",
              "555956   Debt collection                          NaN\n",
              "\n",
              "[555957 rows x 2 columns]"
            ],
            "text/html": [
              "\n",
              "  <div id=\"df-53335c23-8f63-478d-a737-d2ef8ea31f04\">\n",
              "    <div class=\"colab-df-container\">\n",
              "      <div>\n",
              "<style scoped>\n",
              "    .dataframe tbody tr th:only-of-type {\n",
              "        vertical-align: middle;\n",
              "    }\n",
              "\n",
              "    .dataframe tbody tr th {\n",
              "        vertical-align: top;\n",
              "    }\n",
              "\n",
              "    .dataframe thead th {\n",
              "        text-align: right;\n",
              "    }\n",
              "</style>\n",
              "<table border=\"1\" class=\"dataframe\">\n",
              "  <thead>\n",
              "    <tr style=\"text-align: right;\">\n",
              "      <th></th>\n",
              "      <th>product</th>\n",
              "      <th>consumer_complaint_narrative</th>\n",
              "    </tr>\n",
              "  </thead>\n",
              "  <tbody>\n",
              "    <tr>\n",
              "      <th>0</th>\n",
              "      <td>Mortgage</td>\n",
              "      <td>NaN</td>\n",
              "    </tr>\n",
              "    <tr>\n",
              "      <th>1</th>\n",
              "      <td>Mortgage</td>\n",
              "      <td>NaN</td>\n",
              "    </tr>\n",
              "    <tr>\n",
              "      <th>2</th>\n",
              "      <td>Credit reporting</td>\n",
              "      <td>NaN</td>\n",
              "    </tr>\n",
              "    <tr>\n",
              "      <th>3</th>\n",
              "      <td>Student loan</td>\n",
              "      <td>NaN</td>\n",
              "    </tr>\n",
              "    <tr>\n",
              "      <th>4</th>\n",
              "      <td>Debt collection</td>\n",
              "      <td>NaN</td>\n",
              "    </tr>\n",
              "    <tr>\n",
              "      <th>...</th>\n",
              "      <td>...</td>\n",
              "      <td>...</td>\n",
              "    </tr>\n",
              "    <tr>\n",
              "      <th>555952</th>\n",
              "      <td>Mortgage</td>\n",
              "      <td>NaN</td>\n",
              "    </tr>\n",
              "    <tr>\n",
              "      <th>555953</th>\n",
              "      <td>Mortgage</td>\n",
              "      <td>NaN</td>\n",
              "    </tr>\n",
              "    <tr>\n",
              "      <th>555954</th>\n",
              "      <td>Mortgage</td>\n",
              "      <td>NaN</td>\n",
              "    </tr>\n",
              "    <tr>\n",
              "      <th>555955</th>\n",
              "      <td>Debt collection</td>\n",
              "      <td>NaN</td>\n",
              "    </tr>\n",
              "    <tr>\n",
              "      <th>555956</th>\n",
              "      <td>Debt collection</td>\n",
              "      <td>NaN</td>\n",
              "    </tr>\n",
              "  </tbody>\n",
              "</table>\n",
              "<p>555957 rows × 2 columns</p>\n",
              "</div>\n",
              "      <button class=\"colab-df-convert\" onclick=\"convertToInteractive('df-53335c23-8f63-478d-a737-d2ef8ea31f04')\"\n",
              "              title=\"Convert this dataframe to an interactive table.\"\n",
              "              style=\"display:none;\">\n",
              "        \n",
              "  <svg xmlns=\"http://www.w3.org/2000/svg\" height=\"24px\"viewBox=\"0 0 24 24\"\n",
              "       width=\"24px\">\n",
              "    <path d=\"M0 0h24v24H0V0z\" fill=\"none\"/>\n",
              "    <path d=\"M18.56 5.44l.94 2.06.94-2.06 2.06-.94-2.06-.94-.94-2.06-.94 2.06-2.06.94zm-11 1L8.5 8.5l.94-2.06 2.06-.94-2.06-.94L8.5 2.5l-.94 2.06-2.06.94zm10 10l.94 2.06.94-2.06 2.06-.94-2.06-.94-.94-2.06-.94 2.06-2.06.94z\"/><path d=\"M17.41 7.96l-1.37-1.37c-.4-.4-.92-.59-1.43-.59-.52 0-1.04.2-1.43.59L10.3 9.45l-7.72 7.72c-.78.78-.78 2.05 0 2.83L4 21.41c.39.39.9.59 1.41.59.51 0 1.02-.2 1.41-.59l7.78-7.78 2.81-2.81c.8-.78.8-2.07 0-2.86zM5.41 20L4 18.59l7.72-7.72 1.47 1.35L5.41 20z\"/>\n",
              "  </svg>\n",
              "      </button>\n",
              "      \n",
              "  <style>\n",
              "    .colab-df-container {\n",
              "      display:flex;\n",
              "      flex-wrap:wrap;\n",
              "      gap: 12px;\n",
              "    }\n",
              "\n",
              "    .colab-df-convert {\n",
              "      background-color: #E8F0FE;\n",
              "      border: none;\n",
              "      border-radius: 50%;\n",
              "      cursor: pointer;\n",
              "      display: none;\n",
              "      fill: #1967D2;\n",
              "      height: 32px;\n",
              "      padding: 0 0 0 0;\n",
              "      width: 32px;\n",
              "    }\n",
              "\n",
              "    .colab-df-convert:hover {\n",
              "      background-color: #E2EBFA;\n",
              "      box-shadow: 0px 1px 2px rgba(60, 64, 67, 0.3), 0px 1px 3px 1px rgba(60, 64, 67, 0.15);\n",
              "      fill: #174EA6;\n",
              "    }\n",
              "\n",
              "    [theme=dark] .colab-df-convert {\n",
              "      background-color: #3B4455;\n",
              "      fill: #D2E3FC;\n",
              "    }\n",
              "\n",
              "    [theme=dark] .colab-df-convert:hover {\n",
              "      background-color: #434B5C;\n",
              "      box-shadow: 0px 1px 3px 1px rgba(0, 0, 0, 0.15);\n",
              "      filter: drop-shadow(0px 1px 2px rgba(0, 0, 0, 0.3));\n",
              "      fill: #FFFFFF;\n",
              "    }\n",
              "  </style>\n",
              "\n",
              "      <script>\n",
              "        const buttonEl =\n",
              "          document.querySelector('#df-53335c23-8f63-478d-a737-d2ef8ea31f04 button.colab-df-convert');\n",
              "        buttonEl.style.display =\n",
              "          google.colab.kernel.accessAllowed ? 'block' : 'none';\n",
              "\n",
              "        async function convertToInteractive(key) {\n",
              "          const element = document.querySelector('#df-53335c23-8f63-478d-a737-d2ef8ea31f04');\n",
              "          const dataTable =\n",
              "            await google.colab.kernel.invokeFunction('convertToInteractive',\n",
              "                                                     [key], {});\n",
              "          if (!dataTable) return;\n",
              "\n",
              "          const docLinkHtml = 'Like what you see? Visit the ' +\n",
              "            '<a target=\"_blank\" href=https://colab.research.google.com/notebooks/data_table.ipynb>data table notebook</a>'\n",
              "            + ' to learn more about interactive tables.';\n",
              "          element.innerHTML = '';\n",
              "          dataTable['output_type'] = 'display_data';\n",
              "          await google.colab.output.renderOutput(dataTable, element);\n",
              "          const docLink = document.createElement('div');\n",
              "          docLink.innerHTML = docLinkHtml;\n",
              "          element.appendChild(docLink);\n",
              "        }\n",
              "      </script>\n",
              "    </div>\n",
              "  </div>\n",
              "  "
            ]
          },
          "metadata": {},
          "execution_count": 7
        }
      ]
    },
    {
      "cell_type": "code",
      "source": [
        "consumer_complaints_data.dtypes"
      ],
      "metadata": {
        "colab": {
          "base_uri": "https://localhost:8080/"
        },
        "outputId": "732a53d8-6c07-4411-a20b-bcd7257b5250",
        "id": "nya_Y8b8EBky"
      },
      "execution_count": null,
      "outputs": [
        {
          "output_type": "execute_result",
          "data": {
            "text/plain": [
              "product                         object\n",
              "consumer_complaint_narrative    object\n",
              "dtype: object"
            ]
          },
          "metadata": {},
          "execution_count": 8
        }
      ]
    },
    {
      "cell_type": "code",
      "source": [
        "consumer_complaints_data.shape"
      ],
      "metadata": {
        "colab": {
          "base_uri": "https://localhost:8080/"
        },
        "id": "x3q_r31iuQuo",
        "outputId": "966a014a-e5a7-4dc3-d163-57ce0bf591b4"
      },
      "execution_count": null,
      "outputs": [
        {
          "output_type": "execute_result",
          "data": {
            "text/plain": [
              "(555957, 2)"
            ]
          },
          "metadata": {},
          "execution_count": 9
        }
      ]
    },
    {
      "cell_type": "markdown",
      "source": [
        "With client approval we'll be dropping Nan Values from \n",
        "\"consumer_complaint_narrative\""
      ],
      "metadata": {
        "id": "bG5nYd1itv_L"
      }
    },
    {
      "cell_type": "code",
      "source": [
        "consumer_complaints_data = consumer_complaints_data.dropna(axis = 0)\n",
        "consumer_complaints_data.reset_index(drop = True, inplace=True)\n",
        "\n",
        "consumer_complaints_data"
      ],
      "metadata": {
        "colab": {
          "base_uri": "https://localhost:8080/",
          "height": 424
        },
        "outputId": "78fc3dd8-3ce6-4d82-8730-fd8f10a5c2e4",
        "id": "gSm9zLssEBky"
      },
      "execution_count": null,
      "outputs": [
        {
          "output_type": "execute_result",
          "data": {
            "text/plain": [
              "                product                       consumer_complaint_narrative\n",
              "0       Debt collection  XXXX has claimed I owe them {$27.00} for XXXX ...\n",
              "1         Consumer Loan  Due to inconsistencies in the amount owed that...\n",
              "2              Mortgage  In XX/XX/XXXX my wages that I earned at my job...\n",
              "3              Mortgage  I have an open and current mortgage with Chase...\n",
              "4              Mortgage  XXXX was submitted XX/XX/XXXX. At the time I s...\n",
              "...                 ...                                                ...\n",
              "66801  Credit reporting  XXXX XXXX is reporting incorrectly, payments h...\n",
              "66802  Credit reporting  Reflecting incorrect payment status. Have been...\n",
              "66803       Payday loan  I have been paying {$180.00} a month through d...\n",
              "66804          Mortgage  I recently became aware that Amerisave Mortgag...\n",
              "66805          Mortgage  Bank of America has demonstrated an on-going l...\n",
              "\n",
              "[66806 rows x 2 columns]"
            ],
            "text/html": [
              "\n",
              "  <div id=\"df-16cb8676-478d-4b4b-af02-cd030675c8ad\">\n",
              "    <div class=\"colab-df-container\">\n",
              "      <div>\n",
              "<style scoped>\n",
              "    .dataframe tbody tr th:only-of-type {\n",
              "        vertical-align: middle;\n",
              "    }\n",
              "\n",
              "    .dataframe tbody tr th {\n",
              "        vertical-align: top;\n",
              "    }\n",
              "\n",
              "    .dataframe thead th {\n",
              "        text-align: right;\n",
              "    }\n",
              "</style>\n",
              "<table border=\"1\" class=\"dataframe\">\n",
              "  <thead>\n",
              "    <tr style=\"text-align: right;\">\n",
              "      <th></th>\n",
              "      <th>product</th>\n",
              "      <th>consumer_complaint_narrative</th>\n",
              "    </tr>\n",
              "  </thead>\n",
              "  <tbody>\n",
              "    <tr>\n",
              "      <th>0</th>\n",
              "      <td>Debt collection</td>\n",
              "      <td>XXXX has claimed I owe them {$27.00} for XXXX ...</td>\n",
              "    </tr>\n",
              "    <tr>\n",
              "      <th>1</th>\n",
              "      <td>Consumer Loan</td>\n",
              "      <td>Due to inconsistencies in the amount owed that...</td>\n",
              "    </tr>\n",
              "    <tr>\n",
              "      <th>2</th>\n",
              "      <td>Mortgage</td>\n",
              "      <td>In XX/XX/XXXX my wages that I earned at my job...</td>\n",
              "    </tr>\n",
              "    <tr>\n",
              "      <th>3</th>\n",
              "      <td>Mortgage</td>\n",
              "      <td>I have an open and current mortgage with Chase...</td>\n",
              "    </tr>\n",
              "    <tr>\n",
              "      <th>4</th>\n",
              "      <td>Mortgage</td>\n",
              "      <td>XXXX was submitted XX/XX/XXXX. At the time I s...</td>\n",
              "    </tr>\n",
              "    <tr>\n",
              "      <th>...</th>\n",
              "      <td>...</td>\n",
              "      <td>...</td>\n",
              "    </tr>\n",
              "    <tr>\n",
              "      <th>66801</th>\n",
              "      <td>Credit reporting</td>\n",
              "      <td>XXXX XXXX is reporting incorrectly, payments h...</td>\n",
              "    </tr>\n",
              "    <tr>\n",
              "      <th>66802</th>\n",
              "      <td>Credit reporting</td>\n",
              "      <td>Reflecting incorrect payment status. Have been...</td>\n",
              "    </tr>\n",
              "    <tr>\n",
              "      <th>66803</th>\n",
              "      <td>Payday loan</td>\n",
              "      <td>I have been paying {$180.00} a month through d...</td>\n",
              "    </tr>\n",
              "    <tr>\n",
              "      <th>66804</th>\n",
              "      <td>Mortgage</td>\n",
              "      <td>I recently became aware that Amerisave Mortgag...</td>\n",
              "    </tr>\n",
              "    <tr>\n",
              "      <th>66805</th>\n",
              "      <td>Mortgage</td>\n",
              "      <td>Bank of America has demonstrated an on-going l...</td>\n",
              "    </tr>\n",
              "  </tbody>\n",
              "</table>\n",
              "<p>66806 rows × 2 columns</p>\n",
              "</div>\n",
              "      <button class=\"colab-df-convert\" onclick=\"convertToInteractive('df-16cb8676-478d-4b4b-af02-cd030675c8ad')\"\n",
              "              title=\"Convert this dataframe to an interactive table.\"\n",
              "              style=\"display:none;\">\n",
              "        \n",
              "  <svg xmlns=\"http://www.w3.org/2000/svg\" height=\"24px\"viewBox=\"0 0 24 24\"\n",
              "       width=\"24px\">\n",
              "    <path d=\"M0 0h24v24H0V0z\" fill=\"none\"/>\n",
              "    <path d=\"M18.56 5.44l.94 2.06.94-2.06 2.06-.94-2.06-.94-.94-2.06-.94 2.06-2.06.94zm-11 1L8.5 8.5l.94-2.06 2.06-.94-2.06-.94L8.5 2.5l-.94 2.06-2.06.94zm10 10l.94 2.06.94-2.06 2.06-.94-2.06-.94-.94-2.06-.94 2.06-2.06.94z\"/><path d=\"M17.41 7.96l-1.37-1.37c-.4-.4-.92-.59-1.43-.59-.52 0-1.04.2-1.43.59L10.3 9.45l-7.72 7.72c-.78.78-.78 2.05 0 2.83L4 21.41c.39.39.9.59 1.41.59.51 0 1.02-.2 1.41-.59l7.78-7.78 2.81-2.81c.8-.78.8-2.07 0-2.86zM5.41 20L4 18.59l7.72-7.72 1.47 1.35L5.41 20z\"/>\n",
              "  </svg>\n",
              "      </button>\n",
              "      \n",
              "  <style>\n",
              "    .colab-df-container {\n",
              "      display:flex;\n",
              "      flex-wrap:wrap;\n",
              "      gap: 12px;\n",
              "    }\n",
              "\n",
              "    .colab-df-convert {\n",
              "      background-color: #E8F0FE;\n",
              "      border: none;\n",
              "      border-radius: 50%;\n",
              "      cursor: pointer;\n",
              "      display: none;\n",
              "      fill: #1967D2;\n",
              "      height: 32px;\n",
              "      padding: 0 0 0 0;\n",
              "      width: 32px;\n",
              "    }\n",
              "\n",
              "    .colab-df-convert:hover {\n",
              "      background-color: #E2EBFA;\n",
              "      box-shadow: 0px 1px 2px rgba(60, 64, 67, 0.3), 0px 1px 3px 1px rgba(60, 64, 67, 0.15);\n",
              "      fill: #174EA6;\n",
              "    }\n",
              "\n",
              "    [theme=dark] .colab-df-convert {\n",
              "      background-color: #3B4455;\n",
              "      fill: #D2E3FC;\n",
              "    }\n",
              "\n",
              "    [theme=dark] .colab-df-convert:hover {\n",
              "      background-color: #434B5C;\n",
              "      box-shadow: 0px 1px 3px 1px rgba(0, 0, 0, 0.15);\n",
              "      filter: drop-shadow(0px 1px 2px rgba(0, 0, 0, 0.3));\n",
              "      fill: #FFFFFF;\n",
              "    }\n",
              "  </style>\n",
              "\n",
              "      <script>\n",
              "        const buttonEl =\n",
              "          document.querySelector('#df-16cb8676-478d-4b4b-af02-cd030675c8ad button.colab-df-convert');\n",
              "        buttonEl.style.display =\n",
              "          google.colab.kernel.accessAllowed ? 'block' : 'none';\n",
              "\n",
              "        async function convertToInteractive(key) {\n",
              "          const element = document.querySelector('#df-16cb8676-478d-4b4b-af02-cd030675c8ad');\n",
              "          const dataTable =\n",
              "            await google.colab.kernel.invokeFunction('convertToInteractive',\n",
              "                                                     [key], {});\n",
              "          if (!dataTable) return;\n",
              "\n",
              "          const docLinkHtml = 'Like what you see? Visit the ' +\n",
              "            '<a target=\"_blank\" href=https://colab.research.google.com/notebooks/data_table.ipynb>data table notebook</a>'\n",
              "            + ' to learn more about interactive tables.';\n",
              "          element.innerHTML = '';\n",
              "          dataTable['output_type'] = 'display_data';\n",
              "          await google.colab.output.renderOutput(dataTable, element);\n",
              "          const docLink = document.createElement('div');\n",
              "          docLink.innerHTML = docLinkHtml;\n",
              "          element.appendChild(docLink);\n",
              "        }\n",
              "      </script>\n",
              "    </div>\n",
              "  </div>\n",
              "  "
            ]
          },
          "metadata": {},
          "execution_count": 10
        }
      ]
    },
    {
      "cell_type": "code",
      "source": [
        "consumer_complaints_data.shape"
      ],
      "metadata": {
        "colab": {
          "base_uri": "https://localhost:8080/"
        },
        "id": "85QuqjJtuHck",
        "outputId": "783490f1-4104-4149-c1d3-edfd27c20ceb"
      },
      "execution_count": null,
      "outputs": [
        {
          "output_type": "execute_result",
          "data": {
            "text/plain": [
              "(66806, 2)"
            ]
          },
          "metadata": {},
          "execution_count": 11
        }
      ]
    },
    {
      "cell_type": "code",
      "source": [
        "consumer_complaints_data['product'].value_counts()"
      ],
      "metadata": {
        "colab": {
          "base_uri": "https://localhost:8080/"
        },
        "outputId": "1e62d325-0223-4a09-c27b-b8e33901895a",
        "id": "4oZ9Zj9TEBk2"
      },
      "execution_count": null,
      "outputs": [
        {
          "output_type": "execute_result",
          "data": {
            "text/plain": [
              "Debt collection            17552\n",
              "Mortgage                   14919\n",
              "Credit reporting           12526\n",
              "Credit card                 7929\n",
              "Bank account or service     5711\n",
              "Consumer Loan               3678\n",
              "Student loan                2128\n",
              "Prepaid card                 861\n",
              "Payday loan                  726\n",
              "Money transfers              666\n",
              "Other financial service      110\n",
              "Name: product, dtype: int64"
            ]
          },
          "metadata": {},
          "execution_count": 12
        }
      ]
    },
    {
      "cell_type": "markdown",
      "source": [
        "##Text Preprocessing"
      ],
      "metadata": {
        "id": "Y2_nPwbYYnMN"
      }
    },
    {
      "cell_type": "markdown",
      "source": [
        "**Text preprocessing will include the following steps:**\n",
        "\n",
        "\n",
        "Convert all text to lower case.\n",
        "\n",
        "Replace REPLACE_BY_SPACE_RE symbols by space in text.\n",
        "\n",
        "Remove symbols that are in BAD_SYMBOLS_RE from text.\n",
        "\n",
        "Remove “x” in text.\n",
        "\n",
        "Remove stop words.\n",
        "\n",
        "Remove digits in text."
      ],
      "metadata": {
        "id": "aA3_wYgOYtbE"
      }
    },
    {
      "cell_type": "code",
      "source": [
        "def print_plot(index):\n",
        "    example = consumer_complaints_data[consumer_complaints_data.index == index][['product','consumer_complaint_narrative']].values[0]\n",
        "\n",
        "    if len(example) > 0:\n",
        "        print(example[0])\n",
        "        print('Product:', example[1])\n",
        "print_plot(10)"
      ],
      "metadata": {
        "colab": {
          "base_uri": "https://localhost:8080/"
        },
        "id": "fBMSA3__YqVL",
        "outputId": "0b9b440a-9d4e-4e5a-ae53-e5bc3b44b92f"
      },
      "execution_count": null,
      "outputs": [
        {
          "output_type": "stream",
          "name": "stdout",
          "text": [
            "Mortgage\n",
            "Product: I am very disappointed that the CFPB did not help to resolve this fraudulant loan. # XXXX between XXXX XXXX and XXXX, FF ( AKA ) One West. Case # XXXX with CFPB. \n",
            "\n"
          ]
        }
      ]
    },
    {
      "cell_type": "code",
      "source": [
        "consumer_complaints_data = consumer_complaints_data.reset_index(drop=True)\n",
        "REPLACE_BY_SPACE_RE = re.compile('[/(){}\\[\\]\\|@,;]')\n",
        "BAD_SYMBOLS_RE = re.compile('[^0-9a-z #+_]')\n",
        "STOPWORDS = set(stopwords.words('english'))\n",
        "\n",
        "def clean_text(text):\n",
        "    \"\"\"\n",
        "        text: a string\n",
        "        \n",
        "        return: modified initial string\n",
        "    \"\"\"\n",
        "    text = text.lower() # lowercase text\n",
        "    text = REPLACE_BY_SPACE_RE.sub(' ', text) # replace REPLACE_BY_SPACE_RE symbols by space in text. substitute the matched string in REPLACE_BY_SPACE_RE with space.\n",
        "    text = BAD_SYMBOLS_RE.sub('', text) # remove symbols which are in BAD_SYMBOLS_RE from text. substitute the matched string in BAD_SYMBOLS_RE with nothing. \n",
        "    text = text.replace('x', '')\n",
        "#    text = re.sub(r'\\W+', '', text)\n",
        "    text = ' '.join(word for word in text.split() if word not in STOPWORDS) # remove stopwors from text\n",
        "    return text\n",
        "consumer_complaints_data['consumer_complaint_narrative'] = consumer_complaints_data['consumer_complaint_narrative'].apply(clean_text)\n",
        "consumer_complaints_data['consumer_complaint_narrative'] = consumer_complaints_data['consumer_complaint_narrative'].str.replace('\\d+', '')"
      ],
      "metadata": {
        "id": "b_liKKimYqYH"
      },
      "execution_count": null,
      "outputs": []
    },
    {
      "cell_type": "code",
      "source": [
        "print_plot(100)"
      ],
      "metadata": {
        "colab": {
          "base_uri": "https://localhost:8080/"
        },
        "id": "SWNei0xQYqax",
        "outputId": "62d98336-e32e-4716-f6ae-48d73674765d"
      },
      "execution_count": null,
      "outputs": [
        {
          "output_type": "stream",
          "name": "stdout",
          "text": [
            "Consumer Loan\n",
            "Product: contacted drivetime several different occasions regarding car loan account # number loan removed also credit bureau positive credit rating closed paid full company insisted avoiding agreement entered company representative corporate position agreed upon resolution provide agency copy capability computer drivetime month removed credit reporting information credit bureaus reporting agencies believe discovered positive credit ratings longer credit bureaus another positive account another car loan longer reporting credit file removals adversely affected credit ratings ability purchase something lower interest rate never missed payment drivetime company car loans inclusive different auto loans destroy credit ratings despicable spoke today regarding issues response drivetime process updating consumers credit files consumers credit files removed credit bureaus updated however know process performed records updated corrected process timeframes process take furthermore process involves consumers credit reports updating reports eisting customers would apply loans paid closed however thing credit reports therefore process would leave credit ratings accounts paid good faith never missed payment however kept trying report latest account repossession account satisfied make corrections back discovered yet tampered accounts removing positive information bureau account paid account prior removed credit bureau entirely left account bureau believe credit bureau method operations done eisting consumers therefore drivetime representative gave erroneous information accounts reasons submitting complaint consumer financial protection bureau based ruling implemented terms enforcement drivetime violations consumer rights dated prior dates\n"
          ]
        }
      ]
    },
    {
      "cell_type": "markdown",
      "source": [
        "#LSTM Modeling"
      ],
      "metadata": {
        "id": "4k8vXMVd5vdx"
      }
    },
    {
      "cell_type": "markdown",
      "source": [
        "\n",
        "Vectorize consumer complaints text, by turning each text into either a sequence of integers or into a vector.\n",
        "\n",
        "Limit the data set to the top 50,000 words.\n",
        "\n",
        "Set the max number of words in each complaint at 250."
      ],
      "metadata": {
        "id": "TwLmmJnChYcv"
      }
    },
    {
      "cell_type": "code",
      "source": [
        "# The maximum number of words to be used. (most frequent)\n",
        "MAX_NB_WORDS = 50000\n",
        "# Max number of words in each complaint.\n",
        "MAX_SEQUENCE_LENGTH = 250\n",
        "# This is fixed.\n",
        "EMBEDDING_DIM = 100\n",
        "tokenizer = Tokenizer(num_words=MAX_NB_WORDS, filters='!\"#$%&()*+,-./:;<=>?@[\\]^_`{|}~', lower=True)\n",
        "tokenizer.fit_on_texts(consumer_complaints_data['consumer_complaint_narrative'].values)\n",
        "word_index = tokenizer.word_index\n",
        "print('Found %s unique tokens.' % len(word_index))"
      ],
      "metadata": {
        "colab": {
          "base_uri": "https://localhost:8080/"
        },
        "id": "3r0FzxF0Yqd0",
        "outputId": "802eb118-64a9-45ef-c3da-8a225565117f"
      },
      "execution_count": null,
      "outputs": [
        {
          "output_type": "stream",
          "name": "stdout",
          "text": [
            "Found 56802 unique tokens.\n"
          ]
        }
      ]
    },
    {
      "cell_type": "code",
      "source": [
        "X = tokenizer.texts_to_sequences(consumer_complaints_data['consumer_complaint_narrative'].values)\n",
        "X = tf.keras.utils.pad_sequences(X, maxlen=MAX_SEQUENCE_LENGTH)\n",
        "print('Shape of data tensor:', X.shape)"
      ],
      "metadata": {
        "colab": {
          "base_uri": "https://localhost:8080/"
        },
        "id": "l4pG3UTvjWFp",
        "outputId": "ee8c33a6-f64a-41cf-a003-ab6be9e7da62"
      },
      "execution_count": null,
      "outputs": [
        {
          "output_type": "stream",
          "name": "stdout",
          "text": [
            "Shape of data tensor: (66806, 250)\n"
          ]
        }
      ]
    },
    {
      "cell_type": "code",
      "source": [
        "X"
      ],
      "metadata": {
        "colab": {
          "base_uri": "https://localhost:8080/"
        },
        "id": "VImOn0kuk-PS",
        "outputId": "c9783b54-0947-4405-c9d3-8dcc68e009f0"
      },
      "execution_count": null,
      "outputs": [
        {
          "output_type": "execute_result",
          "data": {
            "text/plain": [
              "array([[   0,    0,    0, ..., 1166,   40,  193],\n",
              "       [   0,    0,    0, ..., 2044,  168,  191],\n",
              "       [1125,  385, 4134, ...,  557, 3398, 1845],\n",
              "       ...,\n",
              "       [   0,    0,    0, ...,   48, 1105,   84],\n",
              "       [   0,    0,    0, ...,   67,  936,  312],\n",
              "       [2699, 1842, 1061, ..., 1540,    2,  721]], dtype=int32)"
            ]
          },
          "metadata": {},
          "execution_count": 18
        }
      ]
    },
    {
      "cell_type": "code",
      "source": [
        "from sklearn.preprocessing import LabelEncoder\n",
        "labelencoder = LabelEncoder() #applying label encoder to my dependent feature\n",
        "Y = labelencoder.fit_transform(consumer_complaints_data['product'])"
      ],
      "metadata": {
        "id": "Lhj2ZrTSFXuv"
      },
      "execution_count": null,
      "outputs": []
    },
    {
      "cell_type": "code",
      "source": [
        "Y"
      ],
      "metadata": {
        "colab": {
          "base_uri": "https://localhost:8080/"
        },
        "id": "Be_sOSIWFtGv",
        "outputId": "eab91352-9e27-4267-b809-edf35f92441a"
      },
      "execution_count": null,
      "outputs": [
        {
          "output_type": "execute_result",
          "data": {
            "text/plain": [
              "array([4, 1, 6, ..., 8, 6, 6])"
            ]
          },
          "metadata": {},
          "execution_count": 20
        }
      ]
    },
    {
      "cell_type": "code",
      "source": [
        "print('Shape of label tensor:', Y.shape)"
      ],
      "metadata": {
        "colab": {
          "base_uri": "https://localhost:8080/"
        },
        "id": "LKGtadGyFwjh",
        "outputId": "6da934f6-9638-4fdb-e91d-09bfad0ab346"
      },
      "execution_count": null,
      "outputs": [
        {
          "output_type": "stream",
          "name": "stdout",
          "text": [
            "Shape of label tensor: (66806,)\n"
          ]
        }
      ]
    },
    {
      "cell_type": "code",
      "source": [
        "# Y = pd.get_dummies(consumer_complaints_data['product']).values\n",
        "# print('Shape of label tensor:', Y.shape)\n",
        "# Y"
      ],
      "metadata": {
        "id": "mlMGOS2pjWI4"
      },
      "execution_count": null,
      "outputs": []
    },
    {
      "cell_type": "code",
      "source": [
        "X_train, X_test, Y_train, Y_test = train_test_split(X,Y, test_size = 0.10, random_state = 42)\n",
        "print(X_train.shape,Y_train.shape)\n",
        "print(X_test.shape,Y_test.shape)"
      ],
      "metadata": {
        "colab": {
          "base_uri": "https://localhost:8080/"
        },
        "id": "q8mSinEhjWM6",
        "outputId": "8addefdc-4668-418b-de52-5913575a543b"
      },
      "execution_count": null,
      "outputs": [
        {
          "output_type": "stream",
          "name": "stdout",
          "text": [
            "(60125, 250) (60125,)\n",
            "(6681, 250) (6681,)\n"
          ]
        }
      ]
    },
    {
      "cell_type": "code",
      "source": [
        "consumer_complaints_data['product'].value_counts()"
      ],
      "metadata": {
        "colab": {
          "base_uri": "https://localhost:8080/"
        },
        "id": "BDm9zpT6VaBd",
        "outputId": "de32fbb3-16f9-4ffe-ad2d-77da48d7b308"
      },
      "execution_count": null,
      "outputs": [
        {
          "output_type": "execute_result",
          "data": {
            "text/plain": [
              "Debt collection            17552\n",
              "Mortgage                   14919\n",
              "Credit reporting           12526\n",
              "Credit card                 7929\n",
              "Bank account or service     5711\n",
              "Consumer Loan               3678\n",
              "Student loan                2128\n",
              "Prepaid card                 861\n",
              "Payday loan                  726\n",
              "Money transfers              666\n",
              "Other financial service      110\n",
              "Name: product, dtype: int64"
            ]
          },
          "metadata": {},
          "execution_count": 24
        }
      ]
    },
    {
      "cell_type": "code",
      "source": [
        "classes = np.unique(Y_train)\n",
        "classes"
      ],
      "metadata": {
        "colab": {
          "base_uri": "https://localhost:8080/"
        },
        "id": "13M1xP60CfV8",
        "outputId": "994c662d-a285-4333-a623-3ffb6b4df017"
      },
      "execution_count": null,
      "outputs": [
        {
          "output_type": "execute_result",
          "data": {
            "text/plain": [
              "array([ 0,  1,  2,  3,  4,  5,  6,  7,  8,  9, 10])"
            ]
          },
          "metadata": {},
          "execution_count": 25
        }
      ]
    },
    {
      "cell_type": "code",
      "source": [
        "from sklearn.utils import compute_class_weight           #Handling Imbalance Data\n",
        "\n",
        "\n",
        "class_weights = compute_class_weight(class_weight = \"balanced\",\n",
        "                                     classes = np.unique(Y_train),\n",
        "                                     y = Y_train)\n",
        "class_weights = dict(zip(np.unique(Y_train), class_weights))\n",
        "class_weights"
      ],
      "metadata": {
        "colab": {
          "base_uri": "https://localhost:8080/"
        },
        "id": "T2Bh_veRAaW4",
        "outputId": "d6c60d01-6225-4d67-cd59-538bed35d54a"
      },
      "execution_count": null,
      "outputs": [
        {
          "output_type": "execute_result",
          "data": {
            "text/plain": [
              "{0: 1.0661028068868912,\n",
              " 1: 1.652330438606134,\n",
              " 2: 0.7676838610827375,\n",
              " 3: 0.48426588915647123,\n",
              " 4: 0.34576854066985646,\n",
              " 5: 9.248577141978156,\n",
              " 6: 0.4059948815946736,\n",
              " 7: 55.211202938475665,\n",
              " 8: 8.540482954545455,\n",
              " 9: 7.117069128787879,\n",
              " 10: 2.8557518761280516}"
            ]
          },
          "metadata": {},
          "execution_count": 26
        }
      ]
    },
    {
      "cell_type": "code",
      "source": [
        "from sklearn.utils import class_weight\n",
        "model = Sequential()\n",
        "model.add(Embedding(MAX_NB_WORDS, EMBEDDING_DIM, input_length=X.shape[1]))\n",
        "model.add(SpatialDropout1D(0.2))\n",
        "model.add(LSTM(100, dropout=0.2, recurrent_dropout=0.2))\n",
        "model.add(Dense(11, activation='softmax'))\n",
        "\n",
        "model.compile(loss='sparse_categorical_crossentropy', optimizer='adam', metrics=['accuracy'])\n",
        "\n",
        "epochs = 5\n",
        "batch_size = 64"
      ],
      "metadata": {
        "id": "4rMN5c6zjWQN"
      },
      "execution_count": null,
      "outputs": []
    },
    {
      "cell_type": "code",
      "source": [
        "history = model.fit(X_train, Y_train, epochs=epochs, batch_size=batch_size,validation_split=0.1,class_weight = class_weights)"
      ],
      "metadata": {
        "colab": {
          "base_uri": "https://localhost:8080/"
        },
        "id": "G8GzA08HHVlq",
        "outputId": "206fa254-acd0-4376-ea8b-68c083924988"
      },
      "execution_count": null,
      "outputs": [
        {
          "output_type": "stream",
          "name": "stdout",
          "text": [
            "Epoch 1/5\n",
            "846/846 [==============================] - 707s 833ms/step - loss: 1.8173 - accuracy: 0.5091 - val_loss: 1.2292 - val_accuracy: 0.6203\n",
            "Epoch 2/5\n",
            "846/846 [==============================] - 684s 809ms/step - loss: 1.3730 - accuracy: 0.6330 - val_loss: 1.1963 - val_accuracy: 0.6554\n",
            "Epoch 3/5\n",
            "846/846 [==============================] - 685s 810ms/step - loss: 1.0756 - accuracy: 0.7237 - val_loss: 0.9349 - val_accuracy: 0.7303\n",
            "Epoch 4/5\n",
            "846/846 [==============================] - 682s 806ms/step - loss: 0.8615 - accuracy: 0.7742 - val_loss: 0.9945 - val_accuracy: 0.7196\n",
            "Epoch 5/5\n",
            "846/846 [==============================] - 678s 801ms/step - loss: 0.6851 - accuracy: 0.7891 - val_loss: 0.8197 - val_accuracy: 0.7500\n"
          ]
        }
      ]
    },
    {
      "cell_type": "code",
      "source": [
        "accr = model.evaluate(X_test,Y_test)\n",
        "print('Test set\\n  Loss: {:0.3f}\\n  Accuracy: {:0.3f}'.format(accr[0],accr[1]))"
      ],
      "metadata": {
        "colab": {
          "base_uri": "https://localhost:8080/"
        },
        "id": "SfkMCkgxm9zI",
        "outputId": "1483e7cf-1720-479f-85e0-914d1adb6601"
      },
      "execution_count": null,
      "outputs": [
        {
          "output_type": "stream",
          "name": "stdout",
          "text": [
            "209/209 [==============================] - 17s 80ms/step - loss: 0.8331 - accuracy: 0.7499\n",
            "Test set\n",
            "  Loss: 0.833\n",
            "  Accuracy: 0.750\n"
          ]
        }
      ]
    },
    {
      "cell_type": "code",
      "source": [
        "plt.title('Loss')\n",
        "plt.plot(history.history['loss'], label='train')\n",
        "plt.plot(history.history['val_loss'], label='test')\n",
        "plt.legend()\n",
        "plt.show();"
      ],
      "metadata": {
        "colab": {
          "base_uri": "https://localhost:8080/",
          "height": 281
        },
        "id": "7ejG3NTnm92M",
        "outputId": "1a4497e0-6d47-42fa-c5ca-1287a1432a36"
      },
      "execution_count": null,
      "outputs": [
        {
          "output_type": "display_data",
          "data": {
            "text/plain": [
              "<Figure size 432x288 with 1 Axes>"
            ],
            "image/png": "[encoded data removed]"
          },
          "metadata": {
            "needs_background": "light"
          }
        }
      ]
    },
    {
      "cell_type": "code",
      "source": [
        "plt.title('Accuracy')\n",
        "plt.plot(history.history['accuracy'], label='train')\n",
        "plt.plot(history.history['val_accuracy'], label='test')\n",
        "plt.legend()\n",
        "plt.show();"
      ],
      "metadata": {
        "colab": {
          "base_uri": "https://localhost:8080/",
          "height": 281
        },
        "id": "MkUB086-m94_",
        "outputId": "dd6ed7e9-101b-4888-e2b3-fd92d2688ecc"
      },
      "execution_count": null,
      "outputs": [
        {
          "output_type": "display_data",
          "data": {
            "text/plain": [
              "<Figure size 432x288 with 1 Axes>"
            ],
            "image/png": "[encoded data removed]"
          },
          "metadata": {
            "needs_background": "light"
          }
        }
      ]
    },
    {
      "cell_type": "markdown",
      "source": [
        "Test with a New Complaint\n"
      ],
      "metadata": {
        "id": "2A-0lshSnQ6o"
      }
    },
    {
      "cell_type": "code",
      "source": [
        "new_complaint = ['I am a victim of credit card fraud and I believe someone stole my identity and personal information to open up a Visa credit card account with Bank of America. The following Bank of America Visa credit card account do not belong to me : 557896581259.']\n",
        "seq = tokenizer.texts_to_sequences(new_complaint)\n",
        "padded = tf.keras.utils.pad_sequences(seq, maxlen=MAX_SEQUENCE_LENGTH)\n",
        "pred = model.predict(padded)\n",
        "#labels = ['Credit reporting, credit repair services, or other personal consumer reports', 'Debt collection', 'Mortgage', 'Credit card or prepaid card', 'Student loan', 'Bank account or service', 'Checking or savings account', 'Consumer Loan', 'Payday loan, title loan, or personal loan', 'Vehicle loan or lease', 'Money transfer, virtual currency, or money service', 'Money transfers', 'Prepaid card']\n",
        "print(pred, labels[np.argmax(pred)])"
      ],
      "metadata": {
        "colab": {
          "base_uri": "https://localhost:8080/"
        },
        "id": "cLj3LsHcm97f",
        "outputId": "8c27837a-85f2-4262-fd63-4bfa05bfd1dc"
      },
      "execution_count": null,
      "outputs": [
        {
          "output_type": "stream",
          "name": "stdout",
          "text": [
            "1/1 [==============================] - 0s 429ms/step\n",
            "[[0.27576202 0.00236376 0.66538936 0.00265244 0.00367621 0.00760424\n",
            "  0.0010833  0.03668286 0.00121393 0.00216478 0.00140709]] Student loan\n"
          ]
        }
      ]
    },
    {
      "cell_type": "markdown",
      "source": [
        "End"
      ],
      "metadata": {
        "id": "ZQ1m_iU95h-7"
      }
    }
  ]
}