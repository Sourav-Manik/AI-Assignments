{
  "nbformat": 4,
  "nbformat_minor": 0,
  "metadata": {
    "colab": {
      "provenance": [],
      "authorship_tag": "ABX9TyOYLDdQhERbQbXF59Vo+nUW",
      "include_colab_link": true
    },
    "kernelspec": {
      "name": "python3",
      "display_name": "Python 3"
    },
    "language_info": {
      "name": "python"
    }
  },
  "cells": [
    {
      "cell_type": "markdown",
      "metadata": {
        "id": "view-in-github",
        "colab_type": "text"
      },
      "source": [
        "<a href=\"https://colab.research.google.com/github/Sourav-Manik/AI-Assignments/blob/main/Assignment_2_Python_Programming.ipynb\" target=\"_parent\"><img src=\"https://colab.research.google.com/assets/colab-badge.svg\" alt=\"Open In Colab\"/></a>"
      ]
    },
    {
      "cell_type": "markdown",
      "source": [
        "Import Libraries"
      ],
      "metadata": {
        "id": "xGrPWnP39YUQ"
      }
    },
    {
      "cell_type": "code",
      "source": [
        "import pandas as pd"
      ],
      "metadata": {
        "id": "-n_I8cOI9X_n"
      },
      "execution_count": null,
      "outputs": []
    },
    {
      "cell_type": "markdown",
      "source": [
        "Import Data"
      ],
      "metadata": {
        "id": "cJTJ80d29eYu"
      }
    },
    {
      "cell_type": "code",
      "execution_count": null,
      "metadata": {
        "colab": {
          "base_uri": "https://localhost:8080/",
          "height": 488
        },
        "id": "LfhgI7T285Ow",
        "outputId": "8255387e-7683-4307-e920-31266d2f9daa"
      },
      "outputs": [
        {
          "output_type": "execute_result",
          "data": {
            "text/plain": [
              "      EID      Employee Name Gender   Salary Date of Joining   Department\n",
              "0   E123D        Nitin Bhole      M  1900000      01-11-2016     Products\n",
              "1   E876G     Mayur Kulkarni      M  1200000      03-06-2016    Semantics\n",
              "2   E798G      Anurag Pandey      M  1200000      04-07-2016           IT\n",
              "3   E123B      Pankaj Bansal      M   900000      01-12-2015     Research\n",
              "4   E098Z    Rajendra Prabhu      M  1000000      11-11-2015    Semantics\n",
              "5   E294M     Sumanth Mishra      M  1800000      04-09-2017     Research\n",
              "6   E972L          Sai Bodha      M  1100000      11-11-2017    Semantics\n",
              "7   E184A  Kushmakar Krishna      M  1100000      01-01-2015     Products\n",
              "8   E104S     Amarnath Patil      M   600000      29-11-2015  Engineering\n",
              "9   E093V   Shashidhar Reddy      M   700000      29-11-2018  Engineering\n",
              "10  E983Q     Chakshu Bansal      F   300000      04-12-2017     Products\n",
              "11  E092E       Mitali Gupta      F  1600000      02-05-2019    Semantics\n",
              "12  E620Y     Kumar Abhishek      M  1100000      01-12-2014    Semantics\n",
              "13  E109U     Sanket Gibbidi      M  5000000      11-01-2019     Products"
            ],
            "text/html": [
              "\n",
              "  <div id=\"df-65103dc9-01a7-4689-86b6-7223af18e8b4\">\n",
              "    <div class=\"colab-df-container\">\n",
              "      <div>\n",
              "<style scoped>\n",
              "    .dataframe tbody tr th:only-of-type {\n",
              "        vertical-align: middle;\n",
              "    }\n",
              "\n",
              "    .dataframe tbody tr th {\n",
              "        vertical-align: top;\n",
              "    }\n",
              "\n",
              "    .dataframe thead th {\n",
              "        text-align: right;\n",
              "    }\n",
              "</style>\n",
              "<table border=\"1\" class=\"dataframe\">\n",
              "  <thead>\n",
              "    <tr style=\"text-align: right;\">\n",
              "      <th></th>\n",
              "      <th>EID</th>\n",
              "      <th>Employee Name</th>\n",
              "      <th>Gender</th>\n",
              "      <th>Salary</th>\n",
              "      <th>Date of Joining</th>\n",
              "      <th>Department</th>\n",
              "    </tr>\n",
              "  </thead>\n",
              "  <tbody>\n",
              "    <tr>\n",
              "      <th>0</th>\n",
              "      <td>E123D</td>\n",
              "      <td>Nitin Bhole</td>\n",
              "      <td>M</td>\n",
              "      <td>1900000</td>\n",
              "      <td>01-11-2016</td>\n",
              "      <td>Products</td>\n",
              "    </tr>\n",
              "    <tr>\n",
              "      <th>1</th>\n",
              "      <td>E876G</td>\n",
              "      <td>Mayur Kulkarni</td>\n",
              "      <td>M</td>\n",
              "      <td>1200000</td>\n",
              "      <td>03-06-2016</td>\n",
              "      <td>Semantics</td>\n",
              "    </tr>\n",
              "    <tr>\n",
              "      <th>2</th>\n",
              "      <td>E798G</td>\n",
              "      <td>Anurag Pandey</td>\n",
              "      <td>M</td>\n",
              "      <td>1200000</td>\n",
              "      <td>04-07-2016</td>\n",
              "      <td>IT</td>\n",
              "    </tr>\n",
              "    <tr>\n",
              "      <th>3</th>\n",
              "      <td>E123B</td>\n",
              "      <td>Pankaj Bansal</td>\n",
              "      <td>M</td>\n",
              "      <td>900000</td>\n",
              "      <td>01-12-2015</td>\n",
              "      <td>Research</td>\n",
              "    </tr>\n",
              "    <tr>\n",
              "      <th>4</th>\n",
              "      <td>E098Z</td>\n",
              "      <td>Rajendra Prabhu</td>\n",
              "      <td>M</td>\n",
              "      <td>1000000</td>\n",
              "      <td>11-11-2015</td>\n",
              "      <td>Semantics</td>\n",
              "    </tr>\n",
              "    <tr>\n",
              "      <th>5</th>\n",
              "      <td>E294M</td>\n",
              "      <td>Sumanth Mishra</td>\n",
              "      <td>M</td>\n",
              "      <td>1800000</td>\n",
              "      <td>04-09-2017</td>\n",
              "      <td>Research</td>\n",
              "    </tr>\n",
              "    <tr>\n",
              "      <th>6</th>\n",
              "      <td>E972L</td>\n",
              "      <td>Sai Bodha</td>\n",
              "      <td>M</td>\n",
              "      <td>1100000</td>\n",
              "      <td>11-11-2017</td>\n",
              "      <td>Semantics</td>\n",
              "    </tr>\n",
              "    <tr>\n",
              "      <th>7</th>\n",
              "      <td>E184A</td>\n",
              "      <td>Kushmakar Krishna</td>\n",
              "      <td>M</td>\n",
              "      <td>1100000</td>\n",
              "      <td>01-01-2015</td>\n",
              "      <td>Products</td>\n",
              "    </tr>\n",
              "    <tr>\n",
              "      <th>8</th>\n",
              "      <td>E104S</td>\n",
              "      <td>Amarnath Patil</td>\n",
              "      <td>M</td>\n",
              "      <td>600000</td>\n",
              "      <td>29-11-2015</td>\n",
              "      <td>Engineering</td>\n",
              "    </tr>\n",
              "    <tr>\n",
              "      <th>9</th>\n",
              "      <td>E093V</td>\n",
              "      <td>Shashidhar Reddy</td>\n",
              "      <td>M</td>\n",
              "      <td>700000</td>\n",
              "      <td>29-11-2018</td>\n",
              "      <td>Engineering</td>\n",
              "    </tr>\n",
              "    <tr>\n",
              "      <th>10</th>\n",
              "      <td>E983Q</td>\n",
              "      <td>Chakshu Bansal</td>\n",
              "      <td>F</td>\n",
              "      <td>300000</td>\n",
              "      <td>04-12-2017</td>\n",
              "      <td>Products</td>\n",
              "    </tr>\n",
              "    <tr>\n",
              "      <th>11</th>\n",
              "      <td>E092E</td>\n",
              "      <td>Mitali Gupta</td>\n",
              "      <td>F</td>\n",
              "      <td>1600000</td>\n",
              "      <td>02-05-2019</td>\n",
              "      <td>Semantics</td>\n",
              "    </tr>\n",
              "    <tr>\n",
              "      <th>12</th>\n",
              "      <td>E620Y</td>\n",
              "      <td>Kumar Abhishek</td>\n",
              "      <td>M</td>\n",
              "      <td>1100000</td>\n",
              "      <td>01-12-2014</td>\n",
              "      <td>Semantics</td>\n",
              "    </tr>\n",
              "    <tr>\n",
              "      <th>13</th>\n",
              "      <td>E109U</td>\n",
              "      <td>Sanket Gibbidi</td>\n",
              "      <td>M</td>\n",
              "      <td>5000000</td>\n",
              "      <td>11-01-2019</td>\n",
              "      <td>Products</td>\n",
              "    </tr>\n",
              "  </tbody>\n",
              "</table>\n",
              "</div>\n",
              "      <button class=\"colab-df-convert\" onclick=\"convertToInteractive('df-65103dc9-01a7-4689-86b6-7223af18e8b4')\"\n",
              "              title=\"Convert this dataframe to an interactive table.\"\n",
              "              style=\"display:none;\">\n",
              "        \n",
              "  <svg xmlns=\"http://www.w3.org/2000/svg\" height=\"24px\"viewBox=\"0 0 24 24\"\n",
              "       width=\"24px\">\n",
              "    <path d=\"M0 0h24v24H0V0z\" fill=\"none\"/>\n",
              "    <path d=\"M18.56 5.44l.94 2.06.94-2.06 2.06-.94-2.06-.94-.94-2.06-.94 2.06-2.06.94zm-11 1L8.5 8.5l.94-2.06 2.06-.94-2.06-.94L8.5 2.5l-.94 2.06-2.06.94zm10 10l.94 2.06.94-2.06 2.06-.94-2.06-.94-.94-2.06-.94 2.06-2.06.94z\"/><path d=\"M17.41 7.96l-1.37-1.37c-.4-.4-.92-.59-1.43-.59-.52 0-1.04.2-1.43.59L10.3 9.45l-7.72 7.72c-.78.78-.78 2.05 0 2.83L4 21.41c.39.39.9.59 1.41.59.51 0 1.02-.2 1.41-.59l7.78-7.78 2.81-2.81c.8-.78.8-2.07 0-2.86zM5.41 20L4 18.59l7.72-7.72 1.47 1.35L5.41 20z\"/>\n",
              "  </svg>\n",
              "      </button>\n",
              "      \n",
              "  <style>\n",
              "    .colab-df-container {\n",
              "      display:flex;\n",
              "      flex-wrap:wrap;\n",
              "      gap: 12px;\n",
              "    }\n",
              "\n",
              "    .colab-df-convert {\n",
              "      background-color: #E8F0FE;\n",
              "      border: none;\n",
              "      border-radius: 50%;\n",
              "      cursor: pointer;\n",
              "      display: none;\n",
              "      fill: #1967D2;\n",
              "      height: 32px;\n",
              "      padding: 0 0 0 0;\n",
              "      width: 32px;\n",
              "    }\n",
              "\n",
              "    .colab-df-convert:hover {\n",
              "      background-color: #E2EBFA;\n",
              "      box-shadow: 0px 1px 2px rgba(60, 64, 67, 0.3), 0px 1px 3px 1px rgba(60, 64, 67, 0.15);\n",
              "      fill: #174EA6;\n",
              "    }\n",
              "\n",
              "    [theme=dark] .colab-df-convert {\n",
              "      background-color: #3B4455;\n",
              "      fill: #D2E3FC;\n",
              "    }\n",
              "\n",
              "    [theme=dark] .colab-df-convert:hover {\n",
              "      background-color: #434B5C;\n",
              "      box-shadow: 0px 1px 3px 1px rgba(0, 0, 0, 0.15);\n",
              "      filter: drop-shadow(0px 1px 2px rgba(0, 0, 0, 0.3));\n",
              "      fill: #FFFFFF;\n",
              "    }\n",
              "  </style>\n",
              "\n",
              "      <script>\n",
              "        const buttonEl =\n",
              "          document.querySelector('#df-65103dc9-01a7-4689-86b6-7223af18e8b4 button.colab-df-convert');\n",
              "        buttonEl.style.display =\n",
              "          google.colab.kernel.accessAllowed ? 'block' : 'none';\n",
              "\n",
              "        async function convertToInteractive(key) {\n",
              "          const element = document.querySelector('#df-65103dc9-01a7-4689-86b6-7223af18e8b4');\n",
              "          const dataTable =\n",
              "            await google.colab.kernel.invokeFunction('convertToInteractive',\n",
              "                                                     [key], {});\n",
              "          if (!dataTable) return;\n",
              "\n",
              "          const docLinkHtml = 'Like what you see? Visit the ' +\n",
              "            '<a target=\"_blank\" href=https://colab.research.google.com/notebooks/data_table.ipynb>data table notebook</a>'\n",
              "            + ' to learn more about interactive tables.';\n",
              "          element.innerHTML = '';\n",
              "          dataTable['output_type'] = 'display_data';\n",
              "          await google.colab.output.renderOutput(dataTable, element);\n",
              "          const docLink = document.createElement('div');\n",
              "          docLink.innerHTML = docLinkHtml;\n",
              "          element.appendChild(docLink);\n",
              "        }\n",
              "      </script>\n",
              "    </div>\n",
              "  </div>\n",
              "  "
            ]
          },
          "metadata": {},
          "execution_count": 23
        }
      ],
      "source": [
        "employee_data = pd.read_csv('/content/employee.csv')\n",
        "employee_data"
      ]
    },
    {
      "cell_type": "code",
      "source": [
        "employee_data.shape"
      ],
      "metadata": {
        "colab": {
          "base_uri": "https://localhost:8080/"
        },
        "id": "wC8oi2rO9lLI",
        "outputId": "b2f93be7-1a8d-4f2e-9a41-7faeecfa7d71"
      },
      "execution_count": null,
      "outputs": [
        {
          "output_type": "execute_result",
          "data": {
            "text/plain": [
              "(14, 6)"
            ]
          },
          "metadata": {},
          "execution_count": 24
        }
      ]
    },
    {
      "cell_type": "code",
      "source": [
        "employee_data.dtypes"
      ],
      "metadata": {
        "colab": {
          "base_uri": "https://localhost:8080/"
        },
        "id": "99A-sT1_914n",
        "outputId": "b5e6902d-4292-4ad3-fa9f-729cd02a1ce3"
      },
      "execution_count": null,
      "outputs": [
        {
          "output_type": "execute_result",
          "data": {
            "text/plain": [
              "EID                object\n",
              "Employee Name      object\n",
              "Gender             object\n",
              "Salary              int64\n",
              "Date of Joining    object\n",
              "Department         object\n",
              "dtype: object"
            ]
          },
          "metadata": {},
          "execution_count": 25
        }
      ]
    },
    {
      "cell_type": "markdown",
      "source": [
        "#1.Given an employee id, greet them with their first name."
      ],
      "metadata": {
        "id": "5XGKeHMuC_s-"
      }
    },
    {
      "cell_type": "code",
      "source": [
        "enter_EID = input('Enter employee EID : ')\n",
        "\n",
        "get_emp_name = employee_data.loc[employee_data[\"EID\"] == enter_EID, \"Employee Name\"].unique()[0]\n",
        "\n",
        "print('Employee name is ',get_emp_name)"
      ],
      "metadata": {
        "colab": {
          "base_uri": "https://localhost:8080/"
        },
        "id": "-XEkkc1s99s4",
        "outputId": "b23ac7b6-f227-41fb-97f9-31ec9f4a1e04"
      },
      "execution_count": null,
      "outputs": [
        {
          "output_type": "stream",
          "name": "stdout",
          "text": [
            "Enter employee EID : E109U\n",
            "Employee name is  Sanket Gibbidi\n"
          ]
        }
      ]
    },
    {
      "cell_type": "markdown",
      "source": [
        "#2.Function for calculating the average salary of each department"
      ],
      "metadata": {
        "id": "WlMS8iTczo7N"
      }
    },
    {
      "cell_type": "code",
      "source": [
        "def get_dept_avg_sal(dept_name):\n",
        "\n",
        "  dept_total_sal = employee_data.loc[employee_data['Department'] == dept_name,'Salary'].sum()\n",
        "  dept_total_count = employee_data.loc[employee_data['Department'] == dept_name,'Salary'].count()\n",
        "\n",
        "  return dept_total_sal/dept_total_count"
      ],
      "metadata": {
        "id": "FwU-hKxPzsdU"
      },
      "execution_count": null,
      "outputs": []
    },
    {
      "cell_type": "code",
      "source": [
        "get_dept_avg_sal('IT')"
      ],
      "metadata": {
        "id": "gdAJTd4IzsgF",
        "colab": {
          "base_uri": "https://localhost:8080/"
        },
        "outputId": "fa577441-a32c-42de-9887-6ab62a076443"
      },
      "execution_count": null,
      "outputs": [
        {
          "output_type": "execute_result",
          "data": {
            "text/plain": [
              "1200000.0"
            ]
          },
          "metadata": {},
          "execution_count": 28
        }
      ]
    },
    {
      "cell_type": "markdown",
      "source": [
        "#3.Given an Employee id, display respective employees Name, Data of Joining and Department."
      ],
      "metadata": {
        "id": "vw1P4DVAyPGX"
      }
    },
    {
      "cell_type": "code",
      "source": [
        "enter_EID = input('Enter employee EID : ')\n",
        "\n",
        "get_emp_name = employee_data.loc[employee_data[\"EID\"] == enter_EID, \"Employee Name\"].unique()[0]\n",
        "get_DOJ = employee_data.loc[employee_data[\"EID\"] == enter_EID, \"Date of Joining\"].unique()[0]\n",
        "get_Department = employee_data.loc[employee_data[\"EID\"] == enter_EID, \"Department\"].unique()[0]\n",
        "\n",
        "print(get_emp_name , ' | ' , get_DOJ, ' | ' ,get_Department)"
      ],
      "metadata": {
        "colab": {
          "base_uri": "https://localhost:8080/"
        },
        "id": "Zpm8tbcnGocS",
        "outputId": "d3e5a515-6e12-4104-96a5-a128671fd67f"
      },
      "execution_count": null,
      "outputs": [
        {
          "output_type": "stream",
          "name": "stdout",
          "text": [
            "Enter employee EID : E109U\n",
            "Sanket Gibbidi  |  11-01-2019  |  Products\n"
          ]
        }
      ]
    },
    {
      "cell_type": "markdown",
      "source": [
        "#4.Function for sorting employees from Oldest to Newest"
      ],
      "metadata": {
        "id": "Q9DN7DBZztKU"
      }
    },
    {
      "cell_type": "code",
      "source": [
        "employee_data.head(5)"
      ],
      "metadata": {
        "id": "xqsBaAYctf0K",
        "colab": {
          "base_uri": "https://localhost:8080/",
          "height": 206
        },
        "outputId": "f1d62715-65c1-490d-d629-04b64484bb4a"
      },
      "execution_count": null,
      "outputs": [
        {
          "output_type": "execute_result",
          "data": {
            "text/plain": [
              "     EID    Employee Name Gender   Salary Date of Joining Department\n",
              "0  E123D      Nitin Bhole      M  1900000      01-11-2016   Products\n",
              "1  E876G   Mayur Kulkarni      M  1200000      03-06-2016  Semantics\n",
              "2  E798G    Anurag Pandey      M  1200000      04-07-2016         IT\n",
              "3  E123B    Pankaj Bansal      M   900000      01-12-2015   Research\n",
              "4  E098Z  Rajendra Prabhu      M  1000000      11-11-2015  Semantics"
            ],
            "text/html": [
              "\n",
              "  <div id=\"df-7e2c4c04-3cdf-4054-aa5a-291eaaa07f5c\">\n",
              "    <div class=\"colab-df-container\">\n",
              "      <div>\n",
              "<style scoped>\n",
              "    .dataframe tbody tr th:only-of-type {\n",
              "        vertical-align: middle;\n",
              "    }\n",
              "\n",
              "    .dataframe tbody tr th {\n",
              "        vertical-align: top;\n",
              "    }\n",
              "\n",
              "    .dataframe thead th {\n",
              "        text-align: right;\n",
              "    }\n",
              "</style>\n",
              "<table border=\"1\" class=\"dataframe\">\n",
              "  <thead>\n",
              "    <tr style=\"text-align: right;\">\n",
              "      <th></th>\n",
              "      <th>EID</th>\n",
              "      <th>Employee Name</th>\n",
              "      <th>Gender</th>\n",
              "      <th>Salary</th>\n",
              "      <th>Date of Joining</th>\n",
              "      <th>Department</th>\n",
              "    </tr>\n",
              "  </thead>\n",
              "  <tbody>\n",
              "    <tr>\n",
              "      <th>0</th>\n",
              "      <td>E123D</td>\n",
              "      <td>Nitin Bhole</td>\n",
              "      <td>M</td>\n",
              "      <td>1900000</td>\n",
              "      <td>01-11-2016</td>\n",
              "      <td>Products</td>\n",
              "    </tr>\n",
              "    <tr>\n",
              "      <th>1</th>\n",
              "      <td>E876G</td>\n",
              "      <td>Mayur Kulkarni</td>\n",
              "      <td>M</td>\n",
              "      <td>1200000</td>\n",
              "      <td>03-06-2016</td>\n",
              "      <td>Semantics</td>\n",
              "    </tr>\n",
              "    <tr>\n",
              "      <th>2</th>\n",
              "      <td>E798G</td>\n",
              "      <td>Anurag Pandey</td>\n",
              "      <td>M</td>\n",
              "      <td>1200000</td>\n",
              "      <td>04-07-2016</td>\n",
              "      <td>IT</td>\n",
              "    </tr>\n",
              "    <tr>\n",
              "      <th>3</th>\n",
              "      <td>E123B</td>\n",
              "      <td>Pankaj Bansal</td>\n",
              "      <td>M</td>\n",
              "      <td>900000</td>\n",
              "      <td>01-12-2015</td>\n",
              "      <td>Research</td>\n",
              "    </tr>\n",
              "    <tr>\n",
              "      <th>4</th>\n",
              "      <td>E098Z</td>\n",
              "      <td>Rajendra Prabhu</td>\n",
              "      <td>M</td>\n",
              "      <td>1000000</td>\n",
              "      <td>11-11-2015</td>\n",
              "      <td>Semantics</td>\n",
              "    </tr>\n",
              "  </tbody>\n",
              "</table>\n",
              "</div>\n",
              "      <button class=\"colab-df-convert\" onclick=\"convertToInteractive('df-7e2c4c04-3cdf-4054-aa5a-291eaaa07f5c')\"\n",
              "              title=\"Convert this dataframe to an interactive table.\"\n",
              "              style=\"display:none;\">\n",
              "        \n",
              "  <svg xmlns=\"http://www.w3.org/2000/svg\" height=\"24px\"viewBox=\"0 0 24 24\"\n",
              "       width=\"24px\">\n",
              "    <path d=\"M0 0h24v24H0V0z\" fill=\"none\"/>\n",
              "    <path d=\"M18.56 5.44l.94 2.06.94-2.06 2.06-.94-2.06-.94-.94-2.06-.94 2.06-2.06.94zm-11 1L8.5 8.5l.94-2.06 2.06-.94-2.06-.94L8.5 2.5l-.94 2.06-2.06.94zm10 10l.94 2.06.94-2.06 2.06-.94-2.06-.94-.94-2.06-.94 2.06-2.06.94z\"/><path d=\"M17.41 7.96l-1.37-1.37c-.4-.4-.92-.59-1.43-.59-.52 0-1.04.2-1.43.59L10.3 9.45l-7.72 7.72c-.78.78-.78 2.05 0 2.83L4 21.41c.39.39.9.59 1.41.59.51 0 1.02-.2 1.41-.59l7.78-7.78 2.81-2.81c.8-.78.8-2.07 0-2.86zM5.41 20L4 18.59l7.72-7.72 1.47 1.35L5.41 20z\"/>\n",
              "  </svg>\n",
              "      </button>\n",
              "      \n",
              "  <style>\n",
              "    .colab-df-container {\n",
              "      display:flex;\n",
              "      flex-wrap:wrap;\n",
              "      gap: 12px;\n",
              "    }\n",
              "\n",
              "    .colab-df-convert {\n",
              "      background-color: #E8F0FE;\n",
              "      border: none;\n",
              "      border-radius: 50%;\n",
              "      cursor: pointer;\n",
              "      display: none;\n",
              "      fill: #1967D2;\n",
              "      height: 32px;\n",
              "      padding: 0 0 0 0;\n",
              "      width: 32px;\n",
              "    }\n",
              "\n",
              "    .colab-df-convert:hover {\n",
              "      background-color: #E2EBFA;\n",
              "      box-shadow: 0px 1px 2px rgba(60, 64, 67, 0.3), 0px 1px 3px 1px rgba(60, 64, 67, 0.15);\n",
              "      fill: #174EA6;\n",
              "    }\n",
              "\n",
              "    [theme=dark] .colab-df-convert {\n",
              "      background-color: #3B4455;\n",
              "      fill: #D2E3FC;\n",
              "    }\n",
              "\n",
              "    [theme=dark] .colab-df-convert:hover {\n",
              "      background-color: #434B5C;\n",
              "      box-shadow: 0px 1px 3px 1px rgba(0, 0, 0, 0.15);\n",
              "      filter: drop-shadow(0px 1px 2px rgba(0, 0, 0, 0.3));\n",
              "      fill: #FFFFFF;\n",
              "    }\n",
              "  </style>\n",
              "\n",
              "      <script>\n",
              "        const buttonEl =\n",
              "          document.querySelector('#df-7e2c4c04-3cdf-4054-aa5a-291eaaa07f5c button.colab-df-convert');\n",
              "        buttonEl.style.display =\n",
              "          google.colab.kernel.accessAllowed ? 'block' : 'none';\n",
              "\n",
              "        async function convertToInteractive(key) {\n",
              "          const element = document.querySelector('#df-7e2c4c04-3cdf-4054-aa5a-291eaaa07f5c');\n",
              "          const dataTable =\n",
              "            await google.colab.kernel.invokeFunction('convertToInteractive',\n",
              "                                                     [key], {});\n",
              "          if (!dataTable) return;\n",
              "\n",
              "          const docLinkHtml = 'Like what you see? Visit the ' +\n",
              "            '<a target=\"_blank\" href=https://colab.research.google.com/notebooks/data_table.ipynb>data table notebook</a>'\n",
              "            + ' to learn more about interactive tables.';\n",
              "          element.innerHTML = '';\n",
              "          dataTable['output_type'] = 'display_data';\n",
              "          await google.colab.output.renderOutput(dataTable, element);\n",
              "          const docLink = document.createElement('div');\n",
              "          docLink.innerHTML = docLinkHtml;\n",
              "          element.appendChild(docLink);\n",
              "        }\n",
              "      </script>\n",
              "    </div>\n",
              "  </div>\n",
              "  "
            ]
          },
          "metadata": {},
          "execution_count": 30
        }
      ]
    },
    {
      "cell_type": "code",
      "source": [
        "employee_data['Date of Joining']= pd.to_datetime(employee_data['Date of Joining'])"
      ],
      "metadata": {
        "id": "zcI9Czto0vHN"
      },
      "execution_count": null,
      "outputs": []
    },
    {
      "cell_type": "code",
      "source": [
        "employee_data.dtypes"
      ],
      "metadata": {
        "colab": {
          "base_uri": "https://localhost:8080/"
        },
        "id": "syZx0VRH0vKR",
        "outputId": "b2e24ed4-071d-4052-a79d-bef7825135a4"
      },
      "execution_count": null,
      "outputs": [
        {
          "output_type": "execute_result",
          "data": {
            "text/plain": [
              "EID                        object\n",
              "Employee Name              object\n",
              "Gender                     object\n",
              "Salary                      int64\n",
              "Date of Joining    datetime64[ns]\n",
              "Department                 object\n",
              "dtype: object"
            ]
          },
          "metadata": {},
          "execution_count": 32
        }
      ]
    },
    {
      "cell_type": "code",
      "source": [
        "employee_data = employee_data.sort_values(by='Date of Joining').reset_index(drop=True)"
      ],
      "metadata": {
        "id": "Tj8l1W-W1vz8"
      },
      "execution_count": null,
      "outputs": []
    },
    {
      "cell_type": "code",
      "source": [
        "employee_data"
      ],
      "metadata": {
        "colab": {
          "base_uri": "https://localhost:8080/",
          "height": 488
        },
        "id": "iSWOkhUZ2KBO",
        "outputId": "b83aff67-4dc1-400c-8b43-6ff08fc77f3a"
      },
      "execution_count": null,
      "outputs": [
        {
          "output_type": "execute_result",
          "data": {
            "text/plain": [
              "      EID      Employee Name Gender   Salary Date of Joining   Department\n",
              "0   E620Y     Kumar Abhishek      M  1100000      2014-01-12    Semantics\n",
              "1   E184A  Kushmakar Krishna      M  1100000      2015-01-01     Products\n",
              "2   E123B      Pankaj Bansal      M   900000      2015-01-12     Research\n",
              "3   E098Z    Rajendra Prabhu      M  1000000      2015-11-11    Semantics\n",
              "4   E104S     Amarnath Patil      M   600000      2015-11-29  Engineering\n",
              "5   E123D        Nitin Bhole      M  1900000      2016-01-11     Products\n",
              "6   E876G     Mayur Kulkarni      M  1200000      2016-03-06    Semantics\n",
              "7   E798G      Anurag Pandey      M  1200000      2016-04-07           IT\n",
              "8   E294M     Sumanth Mishra      M  1800000      2017-04-09     Research\n",
              "9   E983Q     Chakshu Bansal      F   300000      2017-04-12     Products\n",
              "10  E972L          Sai Bodha      M  1100000      2017-11-11    Semantics\n",
              "11  E093V   Shashidhar Reddy      M   700000      2018-11-29  Engineering\n",
              "12  E092E       Mitali Gupta      F  1600000      2019-02-05    Semantics\n",
              "13  E109U     Sanket Gibbidi      M  5000000      2019-11-01     Products"
            ],
            "text/html": [
              "\n",
              "  <div id=\"df-e1d79006-0bb9-43be-8554-989d889ac0e5\">\n",
              "    <div class=\"colab-df-container\">\n",
              "      <div>\n",
              "<style scoped>\n",
              "    .dataframe tbody tr th:only-of-type {\n",
              "        vertical-align: middle;\n",
              "    }\n",
              "\n",
              "    .dataframe tbody tr th {\n",
              "        vertical-align: top;\n",
              "    }\n",
              "\n",
              "    .dataframe thead th {\n",
              "        text-align: right;\n",
              "    }\n",
              "</style>\n",
              "<table border=\"1\" class=\"dataframe\">\n",
              "  <thead>\n",
              "    <tr style=\"text-align: right;\">\n",
              "      <th></th>\n",
              "      <th>EID</th>\n",
              "      <th>Employee Name</th>\n",
              "      <th>Gender</th>\n",
              "      <th>Salary</th>\n",
              "      <th>Date of Joining</th>\n",
              "      <th>Department</th>\n",
              "    </tr>\n",
              "  </thead>\n",
              "  <tbody>\n",
              "    <tr>\n",
              "      <th>0</th>\n",
              "      <td>E620Y</td>\n",
              "      <td>Kumar Abhishek</td>\n",
              "      <td>M</td>\n",
              "      <td>1100000</td>\n",
              "      <td>2014-01-12</td>\n",
              "      <td>Semantics</td>\n",
              "    </tr>\n",
              "    <tr>\n",
              "      <th>1</th>\n",
              "      <td>E184A</td>\n",
              "      <td>Kushmakar Krishna</td>\n",
              "      <td>M</td>\n",
              "      <td>1100000</td>\n",
              "      <td>2015-01-01</td>\n",
              "      <td>Products</td>\n",
              "    </tr>\n",
              "    <tr>\n",
              "      <th>2</th>\n",
              "      <td>E123B</td>\n",
              "      <td>Pankaj Bansal</td>\n",
              "      <td>M</td>\n",
              "      <td>900000</td>\n",
              "      <td>2015-01-12</td>\n",
              "      <td>Research</td>\n",
              "    </tr>\n",
              "    <tr>\n",
              "      <th>3</th>\n",
              "      <td>E098Z</td>\n",
              "      <td>Rajendra Prabhu</td>\n",
              "      <td>M</td>\n",
              "      <td>1000000</td>\n",
              "      <td>2015-11-11</td>\n",
              "      <td>Semantics</td>\n",
              "    </tr>\n",
              "    <tr>\n",
              "      <th>4</th>\n",
              "      <td>E104S</td>\n",
              "      <td>Amarnath Patil</td>\n",
              "      <td>M</td>\n",
              "      <td>600000</td>\n",
              "      <td>2015-11-29</td>\n",
              "      <td>Engineering</td>\n",
              "    </tr>\n",
              "    <tr>\n",
              "      <th>5</th>\n",
              "      <td>E123D</td>\n",
              "      <td>Nitin Bhole</td>\n",
              "      <td>M</td>\n",
              "      <td>1900000</td>\n",
              "      <td>2016-01-11</td>\n",
              "      <td>Products</td>\n",
              "    </tr>\n",
              "    <tr>\n",
              "      <th>6</th>\n",
              "      <td>E876G</td>\n",
              "      <td>Mayur Kulkarni</td>\n",
              "      <td>M</td>\n",
              "      <td>1200000</td>\n",
              "      <td>2016-03-06</td>\n",
              "      <td>Semantics</td>\n",
              "    </tr>\n",
              "    <tr>\n",
              "      <th>7</th>\n",
              "      <td>E798G</td>\n",
              "      <td>Anurag Pandey</td>\n",
              "      <td>M</td>\n",
              "      <td>1200000</td>\n",
              "      <td>2016-04-07</td>\n",
              "      <td>IT</td>\n",
              "    </tr>\n",
              "    <tr>\n",
              "      <th>8</th>\n",
              "      <td>E294M</td>\n",
              "      <td>Sumanth Mishra</td>\n",
              "      <td>M</td>\n",
              "      <td>1800000</td>\n",
              "      <td>2017-04-09</td>\n",
              "      <td>Research</td>\n",
              "    </tr>\n",
              "    <tr>\n",
              "      <th>9</th>\n",
              "      <td>E983Q</td>\n",
              "      <td>Chakshu Bansal</td>\n",
              "      <td>F</td>\n",
              "      <td>300000</td>\n",
              "      <td>2017-04-12</td>\n",
              "      <td>Products</td>\n",
              "    </tr>\n",
              "    <tr>\n",
              "      <th>10</th>\n",
              "      <td>E972L</td>\n",
              "      <td>Sai Bodha</td>\n",
              "      <td>M</td>\n",
              "      <td>1100000</td>\n",
              "      <td>2017-11-11</td>\n",
              "      <td>Semantics</td>\n",
              "    </tr>\n",
              "    <tr>\n",
              "      <th>11</th>\n",
              "      <td>E093V</td>\n",
              "      <td>Shashidhar Reddy</td>\n",
              "      <td>M</td>\n",
              "      <td>700000</td>\n",
              "      <td>2018-11-29</td>\n",
              "      <td>Engineering</td>\n",
              "    </tr>\n",
              "    <tr>\n",
              "      <th>12</th>\n",
              "      <td>E092E</td>\n",
              "      <td>Mitali Gupta</td>\n",
              "      <td>F</td>\n",
              "      <td>1600000</td>\n",
              "      <td>2019-02-05</td>\n",
              "      <td>Semantics</td>\n",
              "    </tr>\n",
              "    <tr>\n",
              "      <th>13</th>\n",
              "      <td>E109U</td>\n",
              "      <td>Sanket Gibbidi</td>\n",
              "      <td>M</td>\n",
              "      <td>5000000</td>\n",
              "      <td>2019-11-01</td>\n",
              "      <td>Products</td>\n",
              "    </tr>\n",
              "  </tbody>\n",
              "</table>\n",
              "</div>\n",
              "      <button class=\"colab-df-convert\" onclick=\"convertToInteractive('df-e1d79006-0bb9-43be-8554-989d889ac0e5')\"\n",
              "              title=\"Convert this dataframe to an interactive table.\"\n",
              "              style=\"display:none;\">\n",
              "        \n",
              "  <svg xmlns=\"http://www.w3.org/2000/svg\" height=\"24px\"viewBox=\"0 0 24 24\"\n",
              "       width=\"24px\">\n",
              "    <path d=\"M0 0h24v24H0V0z\" fill=\"none\"/>\n",
              "    <path d=\"M18.56 5.44l.94 2.06.94-2.06 2.06-.94-2.06-.94-.94-2.06-.94 2.06-2.06.94zm-11 1L8.5 8.5l.94-2.06 2.06-.94-2.06-.94L8.5 2.5l-.94 2.06-2.06.94zm10 10l.94 2.06.94-2.06 2.06-.94-2.06-.94-.94-2.06-.94 2.06-2.06.94z\"/><path d=\"M17.41 7.96l-1.37-1.37c-.4-.4-.92-.59-1.43-.59-.52 0-1.04.2-1.43.59L10.3 9.45l-7.72 7.72c-.78.78-.78 2.05 0 2.83L4 21.41c.39.39.9.59 1.41.59.51 0 1.02-.2 1.41-.59l7.78-7.78 2.81-2.81c.8-.78.8-2.07 0-2.86zM5.41 20L4 18.59l7.72-7.72 1.47 1.35L5.41 20z\"/>\n",
              "  </svg>\n",
              "      </button>\n",
              "      \n",
              "  <style>\n",
              "    .colab-df-container {\n",
              "      display:flex;\n",
              "      flex-wrap:wrap;\n",
              "      gap: 12px;\n",
              "    }\n",
              "\n",
              "    .colab-df-convert {\n",
              "      background-color: #E8F0FE;\n",
              "      border: none;\n",
              "      border-radius: 50%;\n",
              "      cursor: pointer;\n",
              "      display: none;\n",
              "      fill: #1967D2;\n",
              "      height: 32px;\n",
              "      padding: 0 0 0 0;\n",
              "      width: 32px;\n",
              "    }\n",
              "\n",
              "    .colab-df-convert:hover {\n",
              "      background-color: #E2EBFA;\n",
              "      box-shadow: 0px 1px 2px rgba(60, 64, 67, 0.3), 0px 1px 3px 1px rgba(60, 64, 67, 0.15);\n",
              "      fill: #174EA6;\n",
              "    }\n",
              "\n",
              "    [theme=dark] .colab-df-convert {\n",
              "      background-color: #3B4455;\n",
              "      fill: #D2E3FC;\n",
              "    }\n",
              "\n",
              "    [theme=dark] .colab-df-convert:hover {\n",
              "      background-color: #434B5C;\n",
              "      box-shadow: 0px 1px 3px 1px rgba(0, 0, 0, 0.15);\n",
              "      filter: drop-shadow(0px 1px 2px rgba(0, 0, 0, 0.3));\n",
              "      fill: #FFFFFF;\n",
              "    }\n",
              "  </style>\n",
              "\n",
              "      <script>\n",
              "        const buttonEl =\n",
              "          document.querySelector('#df-e1d79006-0bb9-43be-8554-989d889ac0e5 button.colab-df-convert');\n",
              "        buttonEl.style.display =\n",
              "          google.colab.kernel.accessAllowed ? 'block' : 'none';\n",
              "\n",
              "        async function convertToInteractive(key) {\n",
              "          const element = document.querySelector('#df-e1d79006-0bb9-43be-8554-989d889ac0e5');\n",
              "          const dataTable =\n",
              "            await google.colab.kernel.invokeFunction('convertToInteractive',\n",
              "                                                     [key], {});\n",
              "          if (!dataTable) return;\n",
              "\n",
              "          const docLinkHtml = 'Like what you see? Visit the ' +\n",
              "            '<a target=\"_blank\" href=https://colab.research.google.com/notebooks/data_table.ipynb>data table notebook</a>'\n",
              "            + ' to learn more about interactive tables.';\n",
              "          element.innerHTML = '';\n",
              "          dataTable['output_type'] = 'display_data';\n",
              "          await google.colab.output.renderOutput(dataTable, element);\n",
              "          const docLink = document.createElement('div');\n",
              "          docLink.innerHTML = docLinkHtml;\n",
              "          element.appendChild(docLink);\n",
              "        }\n",
              "      </script>\n",
              "    </div>\n",
              "  </div>\n",
              "  "
            ]
          },
          "metadata": {},
          "execution_count": 34
        }
      ]
    }
  ]
}