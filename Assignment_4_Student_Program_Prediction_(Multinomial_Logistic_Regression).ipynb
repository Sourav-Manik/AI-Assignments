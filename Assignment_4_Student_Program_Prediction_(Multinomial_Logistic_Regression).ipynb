{
  "nbformat": 4,
  "nbformat_minor": 0,
  "metadata": {
    "colab": {
      "provenance": [],
      "toc_visible": true,
      "authorship_tag": "ABX9TyNNhNxyCL3j/YBWJaf529bC",
      "include_colab_link": true
    },
    "kernelspec": {
      "name": "python3",
      "display_name": "Python 3"
    },
    "language_info": {
      "name": "python"
    }
  },
  "cells": [
    {
      "cell_type": "markdown",
      "metadata": {
        "id": "view-in-github",
        "colab_type": "text"
      },
      "source": [
        "<a href=\"https://colab.research.google.com/github/Sourav-Manik/AI-Assignments/blob/main/Assignment_4_Student_Program_Prediction_(Multinomial_Logistic_Regression).ipynb\" target=\"_parent\"><img src=\"https://colab.research.google.com/assets/colab-badge.svg\" alt=\"Open In Colab\"/></a>"
      ]
    },
    {
      "cell_type": "markdown",
      "source": [
        "#1.Import Libraries"
      ],
      "metadata": {
        "id": "Di_C9tjSkV9f"
      }
    },
    {
      "cell_type": "code",
      "execution_count": null,
      "metadata": {
        "id": "dhsOe6_1jm1i"
      },
      "outputs": [],
      "source": [
        "import pandas as pd\n",
        "import numpy as np\n",
        "\n",
        "from sklearn.preprocessing import LabelEncoder"
      ]
    },
    {
      "cell_type": "markdown",
      "source": [
        "#2.Import Data"
      ],
      "metadata": {
        "id": "eYlnucEZkc5Y"
      }
    },
    {
      "cell_type": "code",
      "source": [
        "mdata = pd.read_csv('/content/mdata.csv')\n",
        "mdata"
      ],
      "metadata": {
        "colab": {
          "base_uri": "https://localhost:8080/",
          "height": 424
        },
        "id": "uBqftgnjkewM",
        "outputId": "c413f296-bb96-4553-df6a-d0738cbeecd5"
      },
      "execution_count": null,
      "outputs": [
        {
          "output_type": "execute_result",
          "data": {
            "text/plain": [
              "     Unnamed: 0   id  female     ses  schtyp      prog  read  write  math  \\\n",
              "0             1   45  female     low  public  vocation    34     35    41   \n",
              "1             2  108    male  middle  public   general    34     33    41   \n",
              "2             3   15    male    high  public  vocation    39     39    44   \n",
              "3             4   67    male     low  public  vocation    37     37    42   \n",
              "4             5  153    male  middle  public  vocation    39     31    40   \n",
              "..          ...  ...     ...     ...     ...       ...   ...    ...   ...   \n",
              "195         196  100  female    high  public  academic    63     65    71   \n",
              "196         197  143    male  middle  public  vocation    63     63    75   \n",
              "197         198   68    male  middle  public  academic    73     67    71   \n",
              "198         199   57  female  middle  public  academic    71     65    72   \n",
              "199         200  132    male  middle  public  academic    73     62    73   \n",
              "\n",
              "     science        honors  \n",
              "0         29  not enrolled  \n",
              "1         36  not enrolled  \n",
              "2         26  not enrolled  \n",
              "3         33  not enrolled  \n",
              "4         39  not enrolled  \n",
              "..       ...           ...  \n",
              "195       69      enrolled  \n",
              "196       72      enrolled  \n",
              "197       63      enrolled  \n",
              "198       66      enrolled  \n",
              "199       69      enrolled  \n",
              "\n",
              "[200 rows x 11 columns]"
            ],
            "text/html": [
              "\n",
              "  <div id=\"df-2479235b-941d-4db8-b7b5-cb0061cb9671\">\n",
              "    <div class=\"colab-df-container\">\n",
              "      <div>\n",
              "<style scoped>\n",
              "    .dataframe tbody tr th:only-of-type {\n",
              "        vertical-align: middle;\n",
              "    }\n",
              "\n",
              "    .dataframe tbody tr th {\n",
              "        vertical-align: top;\n",
              "    }\n",
              "\n",
              "    .dataframe thead th {\n",
              "        text-align: right;\n",
              "    }\n",
              "</style>\n",
              "<table border=\"1\" class=\"dataframe\">\n",
              "  <thead>\n",
              "    <tr style=\"text-align: right;\">\n",
              "      <th></th>\n",
              "      <th>Unnamed: 0</th>\n",
              "      <th>id</th>\n",
              "      <th>female</th>\n",
              "      <th>ses</th>\n",
              "      <th>schtyp</th>\n",
              "      <th>prog</th>\n",
              "      <th>read</th>\n",
              "      <th>write</th>\n",
              "      <th>math</th>\n",
              "      <th>science</th>\n",
              "      <th>honors</th>\n",
              "    </tr>\n",
              "  </thead>\n",
              "  <tbody>\n",
              "    <tr>\n",
              "      <th>0</th>\n",
              "      <td>1</td>\n",
              "      <td>45</td>\n",
              "      <td>female</td>\n",
              "      <td>low</td>\n",
              "      <td>public</td>\n",
              "      <td>vocation</td>\n",
              "      <td>34</td>\n",
              "      <td>35</td>\n",
              "      <td>41</td>\n",
              "      <td>29</td>\n",
              "      <td>not enrolled</td>\n",
              "    </tr>\n",
              "    <tr>\n",
              "      <th>1</th>\n",
              "      <td>2</td>\n",
              "      <td>108</td>\n",
              "      <td>male</td>\n",
              "      <td>middle</td>\n",
              "      <td>public</td>\n",
              "      <td>general</td>\n",
              "      <td>34</td>\n",
              "      <td>33</td>\n",
              "      <td>41</td>\n",
              "      <td>36</td>\n",
              "      <td>not enrolled</td>\n",
              "    </tr>\n",
              "    <tr>\n",
              "      <th>2</th>\n",
              "      <td>3</td>\n",
              "      <td>15</td>\n",
              "      <td>male</td>\n",
              "      <td>high</td>\n",
              "      <td>public</td>\n",
              "      <td>vocation</td>\n",
              "      <td>39</td>\n",
              "      <td>39</td>\n",
              "      <td>44</td>\n",
              "      <td>26</td>\n",
              "      <td>not enrolled</td>\n",
              "    </tr>\n",
              "    <tr>\n",
              "      <th>3</th>\n",
              "      <td>4</td>\n",
              "      <td>67</td>\n",
              "      <td>male</td>\n",
              "      <td>low</td>\n",
              "      <td>public</td>\n",
              "      <td>vocation</td>\n",
              "      <td>37</td>\n",
              "      <td>37</td>\n",
              "      <td>42</td>\n",
              "      <td>33</td>\n",
              "      <td>not enrolled</td>\n",
              "    </tr>\n",
              "    <tr>\n",
              "      <th>4</th>\n",
              "      <td>5</td>\n",
              "      <td>153</td>\n",
              "      <td>male</td>\n",
              "      <td>middle</td>\n",
              "      <td>public</td>\n",
              "      <td>vocation</td>\n",
              "      <td>39</td>\n",
              "      <td>31</td>\n",
              "      <td>40</td>\n",
              "      <td>39</td>\n",
              "      <td>not enrolled</td>\n",
              "    </tr>\n",
              "    <tr>\n",
              "      <th>...</th>\n",
              "      <td>...</td>\n",
              "      <td>...</td>\n",
              "      <td>...</td>\n",
              "      <td>...</td>\n",
              "      <td>...</td>\n",
              "      <td>...</td>\n",
              "      <td>...</td>\n",
              "      <td>...</td>\n",
              "      <td>...</td>\n",
              "      <td>...</td>\n",
              "      <td>...</td>\n",
              "    </tr>\n",
              "    <tr>\n",
              "      <th>195</th>\n",
              "      <td>196</td>\n",
              "      <td>100</td>\n",
              "      <td>female</td>\n",
              "      <td>high</td>\n",
              "      <td>public</td>\n",
              "      <td>academic</td>\n",
              "      <td>63</td>\n",
              "      <td>65</td>\n",
              "      <td>71</td>\n",
              "      <td>69</td>\n",
              "      <td>enrolled</td>\n",
              "    </tr>\n",
              "    <tr>\n",
              "      <th>196</th>\n",
              "      <td>197</td>\n",
              "      <td>143</td>\n",
              "      <td>male</td>\n",
              "      <td>middle</td>\n",
              "      <td>public</td>\n",
              "      <td>vocation</td>\n",
              "      <td>63</td>\n",
              "      <td>63</td>\n",
              "      <td>75</td>\n",
              "      <td>72</td>\n",
              "      <td>enrolled</td>\n",
              "    </tr>\n",
              "    <tr>\n",
              "      <th>197</th>\n",
              "      <td>198</td>\n",
              "      <td>68</td>\n",
              "      <td>male</td>\n",
              "      <td>middle</td>\n",
              "      <td>public</td>\n",
              "      <td>academic</td>\n",
              "      <td>73</td>\n",
              "      <td>67</td>\n",
              "      <td>71</td>\n",
              "      <td>63</td>\n",
              "      <td>enrolled</td>\n",
              "    </tr>\n",
              "    <tr>\n",
              "      <th>198</th>\n",
              "      <td>199</td>\n",
              "      <td>57</td>\n",
              "      <td>female</td>\n",
              "      <td>middle</td>\n",
              "      <td>public</td>\n",
              "      <td>academic</td>\n",
              "      <td>71</td>\n",
              "      <td>65</td>\n",
              "      <td>72</td>\n",
              "      <td>66</td>\n",
              "      <td>enrolled</td>\n",
              "    </tr>\n",
              "    <tr>\n",
              "      <th>199</th>\n",
              "      <td>200</td>\n",
              "      <td>132</td>\n",
              "      <td>male</td>\n",
              "      <td>middle</td>\n",
              "      <td>public</td>\n",
              "      <td>academic</td>\n",
              "      <td>73</td>\n",
              "      <td>62</td>\n",
              "      <td>73</td>\n",
              "      <td>69</td>\n",
              "      <td>enrolled</td>\n",
              "    </tr>\n",
              "  </tbody>\n",
              "</table>\n",
              "<p>200 rows × 11 columns</p>\n",
              "</div>\n",
              "      <button class=\"colab-df-convert\" onclick=\"convertToInteractive('df-2479235b-941d-4db8-b7b5-cb0061cb9671')\"\n",
              "              title=\"Convert this dataframe to an interactive table.\"\n",
              "              style=\"display:none;\">\n",
              "        \n",
              "  <svg xmlns=\"http://www.w3.org/2000/svg\" height=\"24px\"viewBox=\"0 0 24 24\"\n",
              "       width=\"24px\">\n",
              "    <path d=\"M0 0h24v24H0V0z\" fill=\"none\"/>\n",
              "    <path d=\"M18.56 5.44l.94 2.06.94-2.06 2.06-.94-2.06-.94-.94-2.06-.94 2.06-2.06.94zm-11 1L8.5 8.5l.94-2.06 2.06-.94-2.06-.94L8.5 2.5l-.94 2.06-2.06.94zm10 10l.94 2.06.94-2.06 2.06-.94-2.06-.94-.94-2.06-.94 2.06-2.06.94z\"/><path d=\"M17.41 7.96l-1.37-1.37c-.4-.4-.92-.59-1.43-.59-.52 0-1.04.2-1.43.59L10.3 9.45l-7.72 7.72c-.78.78-.78 2.05 0 2.83L4 21.41c.39.39.9.59 1.41.59.51 0 1.02-.2 1.41-.59l7.78-7.78 2.81-2.81c.8-.78.8-2.07 0-2.86zM5.41 20L4 18.59l7.72-7.72 1.47 1.35L5.41 20z\"/>\n",
              "  </svg>\n",
              "      </button>\n",
              "      \n",
              "  <style>\n",
              "    .colab-df-container {\n",
              "      display:flex;\n",
              "      flex-wrap:wrap;\n",
              "      gap: 12px;\n",
              "    }\n",
              "\n",
              "    .colab-df-convert {\n",
              "      background-color: #E8F0FE;\n",
              "      border: none;\n",
              "      border-radius: 50%;\n",
              "      cursor: pointer;\n",
              "      display: none;\n",
              "      fill: #1967D2;\n",
              "      height: 32px;\n",
              "      padding: 0 0 0 0;\n",
              "      width: 32px;\n",
              "    }\n",
              "\n",
              "    .colab-df-convert:hover {\n",
              "      background-color: #E2EBFA;\n",
              "      box-shadow: 0px 1px 2px rgba(60, 64, 67, 0.3), 0px 1px 3px 1px rgba(60, 64, 67, 0.15);\n",
              "      fill: #174EA6;\n",
              "    }\n",
              "\n",
              "    [theme=dark] .colab-df-convert {\n",
              "      background-color: #3B4455;\n",
              "      fill: #D2E3FC;\n",
              "    }\n",
              "\n",
              "    [theme=dark] .colab-df-convert:hover {\n",
              "      background-color: #434B5C;\n",
              "      box-shadow: 0px 1px 3px 1px rgba(0, 0, 0, 0.15);\n",
              "      filter: drop-shadow(0px 1px 2px rgba(0, 0, 0, 0.3));\n",
              "      fill: #FFFFFF;\n",
              "    }\n",
              "  </style>\n",
              "\n",
              "      <script>\n",
              "        const buttonEl =\n",
              "          document.querySelector('#df-2479235b-941d-4db8-b7b5-cb0061cb9671 button.colab-df-convert');\n",
              "        buttonEl.style.display =\n",
              "          google.colab.kernel.accessAllowed ? 'block' : 'none';\n",
              "\n",
              "        async function convertToInteractive(key) {\n",
              "          const element = document.querySelector('#df-2479235b-941d-4db8-b7b5-cb0061cb9671');\n",
              "          const dataTable =\n",
              "            await google.colab.kernel.invokeFunction('convertToInteractive',\n",
              "                                                     [key], {});\n",
              "          if (!dataTable) return;\n",
              "\n",
              "          const docLinkHtml = 'Like what you see? Visit the ' +\n",
              "            '<a target=\"_blank\" href=https://colab.research.google.com/notebooks/data_table.ipynb>data table notebook</a>'\n",
              "            + ' to learn more about interactive tables.';\n",
              "          element.innerHTML = '';\n",
              "          dataTable['output_type'] = 'display_data';\n",
              "          await google.colab.output.renderOutput(dataTable, element);\n",
              "          const docLink = document.createElement('div');\n",
              "          docLink.innerHTML = docLinkHtml;\n",
              "          element.appendChild(docLink);\n",
              "        }\n",
              "      </script>\n",
              "    </div>\n",
              "  </div>\n",
              "  "
            ]
          },
          "metadata": {},
          "execution_count": 2
        }
      ]
    },
    {
      "cell_type": "code",
      "source": [
        "# Dependent variable is 'prog' we will use label encoder for this\n",
        "# Other variable are to be considered as Indeoendent variable and we'll use one hot encoding. "
      ],
      "metadata": {
        "id": "Qg2LyY6qmONs"
      },
      "execution_count": null,
      "outputs": []
    },
    {
      "cell_type": "markdown",
      "source": [
        "#3.Data Understanding"
      ],
      "metadata": {
        "id": "z3copXe0kxya"
      }
    },
    {
      "cell_type": "code",
      "source": [
        "mdata.info()"
      ],
      "metadata": {
        "colab": {
          "base_uri": "https://localhost:8080/"
        },
        "id": "A7Dyszpvke5M",
        "outputId": "5b5fe308-06d9-44ad-abb3-7818cae6792f"
      },
      "execution_count": null,
      "outputs": [
        {
          "output_type": "stream",
          "name": "stdout",
          "text": [
            "<class 'pandas.core.frame.DataFrame'>\n",
            "RangeIndex: 200 entries, 0 to 199\n",
            "Data columns (total 11 columns):\n",
            " #   Column      Non-Null Count  Dtype \n",
            "---  ------      --------------  ----- \n",
            " 0   Unnamed: 0  200 non-null    int64 \n",
            " 1   id          200 non-null    int64 \n",
            " 2   female      200 non-null    object\n",
            " 3   ses         200 non-null    object\n",
            " 4   schtyp      200 non-null    object\n",
            " 5   prog        200 non-null    object\n",
            " 6   read        200 non-null    int64 \n",
            " 7   write       200 non-null    int64 \n",
            " 8   math        200 non-null    int64 \n",
            " 9   science     200 non-null    int64 \n",
            " 10  honors      200 non-null    object\n",
            "dtypes: int64(6), object(5)\n",
            "memory usage: 17.3+ KB\n"
          ]
        }
      ]
    },
    {
      "cell_type": "code",
      "source": [
        "mdata.isna().sum()"
      ],
      "metadata": {
        "colab": {
          "base_uri": "https://localhost:8080/"
        },
        "id": "UBCvNILBk9Lc",
        "outputId": "15c02526-ed92-42b3-f30f-0a1ba65941e8"
      },
      "execution_count": null,
      "outputs": [
        {
          "output_type": "execute_result",
          "data": {
            "text/plain": [
              "Unnamed: 0    0\n",
              "id            0\n",
              "female        0\n",
              "ses           0\n",
              "schtyp        0\n",
              "prog          0\n",
              "read          0\n",
              "write         0\n",
              "math          0\n",
              "science       0\n",
              "honors        0\n",
              "dtype: int64"
            ]
          },
          "metadata": {},
          "execution_count": 5
        }
      ]
    },
    {
      "cell_type": "code",
      "source": [
        "mdata"
      ],
      "metadata": {
        "colab": {
          "base_uri": "https://localhost:8080/",
          "height": 424
        },
        "id": "Metzo4melSsz",
        "outputId": "2160c00a-aa92-4dda-b210-42ea4eefe9e5"
      },
      "execution_count": null,
      "outputs": [
        {
          "output_type": "execute_result",
          "data": {
            "text/plain": [
              "     Unnamed: 0   id  female     ses  schtyp      prog  read  write  math  \\\n",
              "0             1   45  female     low  public  vocation    34     35    41   \n",
              "1             2  108    male  middle  public   general    34     33    41   \n",
              "2             3   15    male    high  public  vocation    39     39    44   \n",
              "3             4   67    male     low  public  vocation    37     37    42   \n",
              "4             5  153    male  middle  public  vocation    39     31    40   \n",
              "..          ...  ...     ...     ...     ...       ...   ...    ...   ...   \n",
              "195         196  100  female    high  public  academic    63     65    71   \n",
              "196         197  143    male  middle  public  vocation    63     63    75   \n",
              "197         198   68    male  middle  public  academic    73     67    71   \n",
              "198         199   57  female  middle  public  academic    71     65    72   \n",
              "199         200  132    male  middle  public  academic    73     62    73   \n",
              "\n",
              "     science        honors  \n",
              "0         29  not enrolled  \n",
              "1         36  not enrolled  \n",
              "2         26  not enrolled  \n",
              "3         33  not enrolled  \n",
              "4         39  not enrolled  \n",
              "..       ...           ...  \n",
              "195       69      enrolled  \n",
              "196       72      enrolled  \n",
              "197       63      enrolled  \n",
              "198       66      enrolled  \n",
              "199       69      enrolled  \n",
              "\n",
              "[200 rows x 11 columns]"
            ],
            "text/html": [
              "\n",
              "  <div id=\"df-87c42158-fb72-48da-8ba6-850adcc2ce2d\">\n",
              "    <div class=\"colab-df-container\">\n",
              "      <div>\n",
              "<style scoped>\n",
              "    .dataframe tbody tr th:only-of-type {\n",
              "        vertical-align: middle;\n",
              "    }\n",
              "\n",
              "    .dataframe tbody tr th {\n",
              "        vertical-align: top;\n",
              "    }\n",
              "\n",
              "    .dataframe thead th {\n",
              "        text-align: right;\n",
              "    }\n",
              "</style>\n",
              "<table border=\"1\" class=\"dataframe\">\n",
              "  <thead>\n",
              "    <tr style=\"text-align: right;\">\n",
              "      <th></th>\n",
              "      <th>Unnamed: 0</th>\n",
              "      <th>id</th>\n",
              "      <th>female</th>\n",
              "      <th>ses</th>\n",
              "      <th>schtyp</th>\n",
              "      <th>prog</th>\n",
              "      <th>read</th>\n",
              "      <th>write</th>\n",
              "      <th>math</th>\n",
              "      <th>science</th>\n",
              "      <th>honors</th>\n",
              "    </tr>\n",
              "  </thead>\n",
              "  <tbody>\n",
              "    <tr>\n",
              "      <th>0</th>\n",
              "      <td>1</td>\n",
              "      <td>45</td>\n",
              "      <td>female</td>\n",
              "      <td>low</td>\n",
              "      <td>public</td>\n",
              "      <td>vocation</td>\n",
              "      <td>34</td>\n",
              "      <td>35</td>\n",
              "      <td>41</td>\n",
              "      <td>29</td>\n",
              "      <td>not enrolled</td>\n",
              "    </tr>\n",
              "    <tr>\n",
              "      <th>1</th>\n",
              "      <td>2</td>\n",
              "      <td>108</td>\n",
              "      <td>male</td>\n",
              "      <td>middle</td>\n",
              "      <td>public</td>\n",
              "      <td>general</td>\n",
              "      <td>34</td>\n",
              "      <td>33</td>\n",
              "      <td>41</td>\n",
              "      <td>36</td>\n",
              "      <td>not enrolled</td>\n",
              "    </tr>\n",
              "    <tr>\n",
              "      <th>2</th>\n",
              "      <td>3</td>\n",
              "      <td>15</td>\n",
              "      <td>male</td>\n",
              "      <td>high</td>\n",
              "      <td>public</td>\n",
              "      <td>vocation</td>\n",
              "      <td>39</td>\n",
              "      <td>39</td>\n",
              "      <td>44</td>\n",
              "      <td>26</td>\n",
              "      <td>not enrolled</td>\n",
              "    </tr>\n",
              "    <tr>\n",
              "      <th>3</th>\n",
              "      <td>4</td>\n",
              "      <td>67</td>\n",
              "      <td>male</td>\n",
              "      <td>low</td>\n",
              "      <td>public</td>\n",
              "      <td>vocation</td>\n",
              "      <td>37</td>\n",
              "      <td>37</td>\n",
              "      <td>42</td>\n",
              "      <td>33</td>\n",
              "      <td>not enrolled</td>\n",
              "    </tr>\n",
              "    <tr>\n",
              "      <th>4</th>\n",
              "      <td>5</td>\n",
              "      <td>153</td>\n",
              "      <td>male</td>\n",
              "      <td>middle</td>\n",
              "      <td>public</td>\n",
              "      <td>vocation</td>\n",
              "      <td>39</td>\n",
              "      <td>31</td>\n",
              "      <td>40</td>\n",
              "      <td>39</td>\n",
              "      <td>not enrolled</td>\n",
              "    </tr>\n",
              "    <tr>\n",
              "      <th>...</th>\n",
              "      <td>...</td>\n",
              "      <td>...</td>\n",
              "      <td>...</td>\n",
              "      <td>...</td>\n",
              "      <td>...</td>\n",
              "      <td>...</td>\n",
              "      <td>...</td>\n",
              "      <td>...</td>\n",
              "      <td>...</td>\n",
              "      <td>...</td>\n",
              "      <td>...</td>\n",
              "    </tr>\n",
              "    <tr>\n",
              "      <th>195</th>\n",
              "      <td>196</td>\n",
              "      <td>100</td>\n",
              "      <td>female</td>\n",
              "      <td>high</td>\n",
              "      <td>public</td>\n",
              "      <td>academic</td>\n",
              "      <td>63</td>\n",
              "      <td>65</td>\n",
              "      <td>71</td>\n",
              "      <td>69</td>\n",
              "      <td>enrolled</td>\n",
              "    </tr>\n",
              "    <tr>\n",
              "      <th>196</th>\n",
              "      <td>197</td>\n",
              "      <td>143</td>\n",
              "      <td>male</td>\n",
              "      <td>middle</td>\n",
              "      <td>public</td>\n",
              "      <td>vocation</td>\n",
              "      <td>63</td>\n",
              "      <td>63</td>\n",
              "      <td>75</td>\n",
              "      <td>72</td>\n",
              "      <td>enrolled</td>\n",
              "    </tr>\n",
              "    <tr>\n",
              "      <th>197</th>\n",
              "      <td>198</td>\n",
              "      <td>68</td>\n",
              "      <td>male</td>\n",
              "      <td>middle</td>\n",
              "      <td>public</td>\n",
              "      <td>academic</td>\n",
              "      <td>73</td>\n",
              "      <td>67</td>\n",
              "      <td>71</td>\n",
              "      <td>63</td>\n",
              "      <td>enrolled</td>\n",
              "    </tr>\n",
              "    <tr>\n",
              "      <th>198</th>\n",
              "      <td>199</td>\n",
              "      <td>57</td>\n",
              "      <td>female</td>\n",
              "      <td>middle</td>\n",
              "      <td>public</td>\n",
              "      <td>academic</td>\n",
              "      <td>71</td>\n",
              "      <td>65</td>\n",
              "      <td>72</td>\n",
              "      <td>66</td>\n",
              "      <td>enrolled</td>\n",
              "    </tr>\n",
              "    <tr>\n",
              "      <th>199</th>\n",
              "      <td>200</td>\n",
              "      <td>132</td>\n",
              "      <td>male</td>\n",
              "      <td>middle</td>\n",
              "      <td>public</td>\n",
              "      <td>academic</td>\n",
              "      <td>73</td>\n",
              "      <td>62</td>\n",
              "      <td>73</td>\n",
              "      <td>69</td>\n",
              "      <td>enrolled</td>\n",
              "    </tr>\n",
              "  </tbody>\n",
              "</table>\n",
              "<p>200 rows × 11 columns</p>\n",
              "</div>\n",
              "      <button class=\"colab-df-convert\" onclick=\"convertToInteractive('df-87c42158-fb72-48da-8ba6-850adcc2ce2d')\"\n",
              "              title=\"Convert this dataframe to an interactive table.\"\n",
              "              style=\"display:none;\">\n",
              "        \n",
              "  <svg xmlns=\"http://www.w3.org/2000/svg\" height=\"24px\"viewBox=\"0 0 24 24\"\n",
              "       width=\"24px\">\n",
              "    <path d=\"M0 0h24v24H0V0z\" fill=\"none\"/>\n",
              "    <path d=\"M18.56 5.44l.94 2.06.94-2.06 2.06-.94-2.06-.94-.94-2.06-.94 2.06-2.06.94zm-11 1L8.5 8.5l.94-2.06 2.06-.94-2.06-.94L8.5 2.5l-.94 2.06-2.06.94zm10 10l.94 2.06.94-2.06 2.06-.94-2.06-.94-.94-2.06-.94 2.06-2.06.94z\"/><path d=\"M17.41 7.96l-1.37-1.37c-.4-.4-.92-.59-1.43-.59-.52 0-1.04.2-1.43.59L10.3 9.45l-7.72 7.72c-.78.78-.78 2.05 0 2.83L4 21.41c.39.39.9.59 1.41.59.51 0 1.02-.2 1.41-.59l7.78-7.78 2.81-2.81c.8-.78.8-2.07 0-2.86zM5.41 20L4 18.59l7.72-7.72 1.47 1.35L5.41 20z\"/>\n",
              "  </svg>\n",
              "      </button>\n",
              "      \n",
              "  <style>\n",
              "    .colab-df-container {\n",
              "      display:flex;\n",
              "      flex-wrap:wrap;\n",
              "      gap: 12px;\n",
              "    }\n",
              "\n",
              "    .colab-df-convert {\n",
              "      background-color: #E8F0FE;\n",
              "      border: none;\n",
              "      border-radius: 50%;\n",
              "      cursor: pointer;\n",
              "      display: none;\n",
              "      fill: #1967D2;\n",
              "      height: 32px;\n",
              "      padding: 0 0 0 0;\n",
              "      width: 32px;\n",
              "    }\n",
              "\n",
              "    .colab-df-convert:hover {\n",
              "      background-color: #E2EBFA;\n",
              "      box-shadow: 0px 1px 2px rgba(60, 64, 67, 0.3), 0px 1px 3px 1px rgba(60, 64, 67, 0.15);\n",
              "      fill: #174EA6;\n",
              "    }\n",
              "\n",
              "    [theme=dark] .colab-df-convert {\n",
              "      background-color: #3B4455;\n",
              "      fill: #D2E3FC;\n",
              "    }\n",
              "\n",
              "    [theme=dark] .colab-df-convert:hover {\n",
              "      background-color: #434B5C;\n",
              "      box-shadow: 0px 1px 3px 1px rgba(0, 0, 0, 0.15);\n",
              "      filter: drop-shadow(0px 1px 2px rgba(0, 0, 0, 0.3));\n",
              "      fill: #FFFFFF;\n",
              "    }\n",
              "  </style>\n",
              "\n",
              "      <script>\n",
              "        const buttonEl =\n",
              "          document.querySelector('#df-87c42158-fb72-48da-8ba6-850adcc2ce2d button.colab-df-convert');\n",
              "        buttonEl.style.display =\n",
              "          google.colab.kernel.accessAllowed ? 'block' : 'none';\n",
              "\n",
              "        async function convertToInteractive(key) {\n",
              "          const element = document.querySelector('#df-87c42158-fb72-48da-8ba6-850adcc2ce2d');\n",
              "          const dataTable =\n",
              "            await google.colab.kernel.invokeFunction('convertToInteractive',\n",
              "                                                     [key], {});\n",
              "          if (!dataTable) return;\n",
              "\n",
              "          const docLinkHtml = 'Like what you see? Visit the ' +\n",
              "            '<a target=\"_blank\" href=https://colab.research.google.com/notebooks/data_table.ipynb>data table notebook</a>'\n",
              "            + ' to learn more about interactive tables.';\n",
              "          element.innerHTML = '';\n",
              "          dataTable['output_type'] = 'display_data';\n",
              "          await google.colab.output.renderOutput(dataTable, element);\n",
              "          const docLink = document.createElement('div');\n",
              "          docLink.innerHTML = docLinkHtml;\n",
              "          element.appendChild(docLink);\n",
              "        }\n",
              "      </script>\n",
              "    </div>\n",
              "  </div>\n",
              "  "
            ]
          },
          "metadata": {},
          "execution_count": 6
        }
      ]
    },
    {
      "cell_type": "markdown",
      "source": [
        "#4.Data Preparation / Preprocessing"
      ],
      "metadata": {
        "id": "-2zUjqBzmBBZ"
      }
    },
    {
      "cell_type": "code",
      "source": [
        "mdata = mdata.drop(['Unnamed: 0','id'],axis = 1)\n",
        "\n",
        "# del mdata['Unnamed: 0']\n",
        "# del mdata['id']"
      ],
      "metadata": {
        "id": "ycWPxAfjmNzx"
      },
      "execution_count": null,
      "outputs": []
    },
    {
      "cell_type": "code",
      "source": [
        "mdata.head()"
      ],
      "metadata": {
        "colab": {
          "base_uri": "https://localhost:8080/",
          "height": 206
        },
        "id": "sUDe6iTkmSeS",
        "outputId": "d277945d-65cf-4cbc-cf77-b5fc3b5edb66"
      },
      "execution_count": null,
      "outputs": [
        {
          "output_type": "execute_result",
          "data": {
            "text/plain": [
              "   female     ses  schtyp      prog  read  write  math  science        honors\n",
              "0  female     low  public  vocation    34     35    41       29  not enrolled\n",
              "1    male  middle  public   general    34     33    41       36  not enrolled\n",
              "2    male    high  public  vocation    39     39    44       26  not enrolled\n",
              "3    male     low  public  vocation    37     37    42       33  not enrolled\n",
              "4    male  middle  public  vocation    39     31    40       39  not enrolled"
            ],
            "text/html": [
              "\n",
              "  <div id=\"df-8096ca95-4503-4431-940b-0d073dddcf06\">\n",
              "    <div class=\"colab-df-container\">\n",
              "      <div>\n",
              "<style scoped>\n",
              "    .dataframe tbody tr th:only-of-type {\n",
              "        vertical-align: middle;\n",
              "    }\n",
              "\n",
              "    .dataframe tbody tr th {\n",
              "        vertical-align: top;\n",
              "    }\n",
              "\n",
              "    .dataframe thead th {\n",
              "        text-align: right;\n",
              "    }\n",
              "</style>\n",
              "<table border=\"1\" class=\"dataframe\">\n",
              "  <thead>\n",
              "    <tr style=\"text-align: right;\">\n",
              "      <th></th>\n",
              "      <th>female</th>\n",
              "      <th>ses</th>\n",
              "      <th>schtyp</th>\n",
              "      <th>prog</th>\n",
              "      <th>read</th>\n",
              "      <th>write</th>\n",
              "      <th>math</th>\n",
              "      <th>science</th>\n",
              "      <th>honors</th>\n",
              "    </tr>\n",
              "  </thead>\n",
              "  <tbody>\n",
              "    <tr>\n",
              "      <th>0</th>\n",
              "      <td>female</td>\n",
              "      <td>low</td>\n",
              "      <td>public</td>\n",
              "      <td>vocation</td>\n",
              "      <td>34</td>\n",
              "      <td>35</td>\n",
              "      <td>41</td>\n",
              "      <td>29</td>\n",
              "      <td>not enrolled</td>\n",
              "    </tr>\n",
              "    <tr>\n",
              "      <th>1</th>\n",
              "      <td>male</td>\n",
              "      <td>middle</td>\n",
              "      <td>public</td>\n",
              "      <td>general</td>\n",
              "      <td>34</td>\n",
              "      <td>33</td>\n",
              "      <td>41</td>\n",
              "      <td>36</td>\n",
              "      <td>not enrolled</td>\n",
              "    </tr>\n",
              "    <tr>\n",
              "      <th>2</th>\n",
              "      <td>male</td>\n",
              "      <td>high</td>\n",
              "      <td>public</td>\n",
              "      <td>vocation</td>\n",
              "      <td>39</td>\n",
              "      <td>39</td>\n",
              "      <td>44</td>\n",
              "      <td>26</td>\n",
              "      <td>not enrolled</td>\n",
              "    </tr>\n",
              "    <tr>\n",
              "      <th>3</th>\n",
              "      <td>male</td>\n",
              "      <td>low</td>\n",
              "      <td>public</td>\n",
              "      <td>vocation</td>\n",
              "      <td>37</td>\n",
              "      <td>37</td>\n",
              "      <td>42</td>\n",
              "      <td>33</td>\n",
              "      <td>not enrolled</td>\n",
              "    </tr>\n",
              "    <tr>\n",
              "      <th>4</th>\n",
              "      <td>male</td>\n",
              "      <td>middle</td>\n",
              "      <td>public</td>\n",
              "      <td>vocation</td>\n",
              "      <td>39</td>\n",
              "      <td>31</td>\n",
              "      <td>40</td>\n",
              "      <td>39</td>\n",
              "      <td>not enrolled</td>\n",
              "    </tr>\n",
              "  </tbody>\n",
              "</table>\n",
              "</div>\n",
              "      <button class=\"colab-df-convert\" onclick=\"convertToInteractive('df-8096ca95-4503-4431-940b-0d073dddcf06')\"\n",
              "              title=\"Convert this dataframe to an interactive table.\"\n",
              "              style=\"display:none;\">\n",
              "        \n",
              "  <svg xmlns=\"http://www.w3.org/2000/svg\" height=\"24px\"viewBox=\"0 0 24 24\"\n",
              "       width=\"24px\">\n",
              "    <path d=\"M0 0h24v24H0V0z\" fill=\"none\"/>\n",
              "    <path d=\"M18.56 5.44l.94 2.06.94-2.06 2.06-.94-2.06-.94-.94-2.06-.94 2.06-2.06.94zm-11 1L8.5 8.5l.94-2.06 2.06-.94-2.06-.94L8.5 2.5l-.94 2.06-2.06.94zm10 10l.94 2.06.94-2.06 2.06-.94-2.06-.94-.94-2.06-.94 2.06-2.06.94z\"/><path d=\"M17.41 7.96l-1.37-1.37c-.4-.4-.92-.59-1.43-.59-.52 0-1.04.2-1.43.59L10.3 9.45l-7.72 7.72c-.78.78-.78 2.05 0 2.83L4 21.41c.39.39.9.59 1.41.59.51 0 1.02-.2 1.41-.59l7.78-7.78 2.81-2.81c.8-.78.8-2.07 0-2.86zM5.41 20L4 18.59l7.72-7.72 1.47 1.35L5.41 20z\"/>\n",
              "  </svg>\n",
              "      </button>\n",
              "      \n",
              "  <style>\n",
              "    .colab-df-container {\n",
              "      display:flex;\n",
              "      flex-wrap:wrap;\n",
              "      gap: 12px;\n",
              "    }\n",
              "\n",
              "    .colab-df-convert {\n",
              "      background-color: #E8F0FE;\n",
              "      border: none;\n",
              "      border-radius: 50%;\n",
              "      cursor: pointer;\n",
              "      display: none;\n",
              "      fill: #1967D2;\n",
              "      height: 32px;\n",
              "      padding: 0 0 0 0;\n",
              "      width: 32px;\n",
              "    }\n",
              "\n",
              "    .colab-df-convert:hover {\n",
              "      background-color: #E2EBFA;\n",
              "      box-shadow: 0px 1px 2px rgba(60, 64, 67, 0.3), 0px 1px 3px 1px rgba(60, 64, 67, 0.15);\n",
              "      fill: #174EA6;\n",
              "    }\n",
              "\n",
              "    [theme=dark] .colab-df-convert {\n",
              "      background-color: #3B4455;\n",
              "      fill: #D2E3FC;\n",
              "    }\n",
              "\n",
              "    [theme=dark] .colab-df-convert:hover {\n",
              "      background-color: #434B5C;\n",
              "      box-shadow: 0px 1px 3px 1px rgba(0, 0, 0, 0.15);\n",
              "      filter: drop-shadow(0px 1px 2px rgba(0, 0, 0, 0.3));\n",
              "      fill: #FFFFFF;\n",
              "    }\n",
              "  </style>\n",
              "\n",
              "      <script>\n",
              "        const buttonEl =\n",
              "          document.querySelector('#df-8096ca95-4503-4431-940b-0d073dddcf06 button.colab-df-convert');\n",
              "        buttonEl.style.display =\n",
              "          google.colab.kernel.accessAllowed ? 'block' : 'none';\n",
              "\n",
              "        async function convertToInteractive(key) {\n",
              "          const element = document.querySelector('#df-8096ca95-4503-4431-940b-0d073dddcf06');\n",
              "          const dataTable =\n",
              "            await google.colab.kernel.invokeFunction('convertToInteractive',\n",
              "                                                     [key], {});\n",
              "          if (!dataTable) return;\n",
              "\n",
              "          const docLinkHtml = 'Like what you see? Visit the ' +\n",
              "            '<a target=\"_blank\" href=https://colab.research.google.com/notebooks/data_table.ipynb>data table notebook</a>'\n",
              "            + ' to learn more about interactive tables.';\n",
              "          element.innerHTML = '';\n",
              "          dataTable['output_type'] = 'display_data';\n",
              "          await google.colab.output.renderOutput(dataTable, element);\n",
              "          const docLink = document.createElement('div');\n",
              "          docLink.innerHTML = docLinkHtml;\n",
              "          element.appendChild(docLink);\n",
              "        }\n",
              "      </script>\n",
              "    </div>\n",
              "  </div>\n",
              "  "
            ]
          },
          "metadata": {},
          "execution_count": 8
        }
      ]
    },
    {
      "cell_type": "code",
      "source": [
        "mdata = pd.get_dummies(mdata,columns=['female','ses','schtyp','honors'])"
      ],
      "metadata": {
        "id": "050zyzimnX_0"
      },
      "execution_count": null,
      "outputs": []
    },
    {
      "cell_type": "code",
      "source": [
        "labelencoder = LabelEncoder()\n",
        "mdata['prog'] = labelencoder.fit_transform(mdata['prog'])"
      ],
      "metadata": {
        "id": "M30YOFp2oI0s"
      },
      "execution_count": null,
      "outputs": []
    },
    {
      "cell_type": "code",
      "source": [
        "mdata.head()"
      ],
      "metadata": {
        "colab": {
          "base_uri": "https://localhost:8080/",
          "height": 250
        },
        "id": "3-sJIEQ8nYDC",
        "outputId": "93337de1-6b17-4a80-a18f-a5d41e32b0d3"
      },
      "execution_count": null,
      "outputs": [
        {
          "output_type": "execute_result",
          "data": {
            "text/plain": [
              "   prog  read  write  math  science  female_female  female_male  ses_high  \\\n",
              "0     2    34     35    41       29              1            0         0   \n",
              "1     1    34     33    41       36              0            1         0   \n",
              "2     2    39     39    44       26              0            1         1   \n",
              "3     2    37     37    42       33              0            1         0   \n",
              "4     2    39     31    40       39              0            1         0   \n",
              "\n",
              "   ses_low  ses_middle  schtyp_private  schtyp_public  honors_enrolled  \\\n",
              "0        1           0               0              1                0   \n",
              "1        0           1               0              1                0   \n",
              "2        0           0               0              1                0   \n",
              "3        1           0               0              1                0   \n",
              "4        0           1               0              1                0   \n",
              "\n",
              "   honors_not enrolled  \n",
              "0                    1  \n",
              "1                    1  \n",
              "2                    1  \n",
              "3                    1  \n",
              "4                    1  "
            ],
            "text/html": [
              "\n",
              "  <div id=\"df-3f65a5ae-a3ea-4d27-992d-93e0990a7014\">\n",
              "    <div class=\"colab-df-container\">\n",
              "      <div>\n",
              "<style scoped>\n",
              "    .dataframe tbody tr th:only-of-type {\n",
              "        vertical-align: middle;\n",
              "    }\n",
              "\n",
              "    .dataframe tbody tr th {\n",
              "        vertical-align: top;\n",
              "    }\n",
              "\n",
              "    .dataframe thead th {\n",
              "        text-align: right;\n",
              "    }\n",
              "</style>\n",
              "<table border=\"1\" class=\"dataframe\">\n",
              "  <thead>\n",
              "    <tr style=\"text-align: right;\">\n",
              "      <th></th>\n",
              "      <th>prog</th>\n",
              "      <th>read</th>\n",
              "      <th>write</th>\n",
              "      <th>math</th>\n",
              "      <th>science</th>\n",
              "      <th>female_female</th>\n",
              "      <th>female_male</th>\n",
              "      <th>ses_high</th>\n",
              "      <th>ses_low</th>\n",
              "      <th>ses_middle</th>\n",
              "      <th>schtyp_private</th>\n",
              "      <th>schtyp_public</th>\n",
              "      <th>honors_enrolled</th>\n",
              "      <th>honors_not enrolled</th>\n",
              "    </tr>\n",
              "  </thead>\n",
              "  <tbody>\n",
              "    <tr>\n",
              "      <th>0</th>\n",
              "      <td>2</td>\n",
              "      <td>34</td>\n",
              "      <td>35</td>\n",
              "      <td>41</td>\n",
              "      <td>29</td>\n",
              "      <td>1</td>\n",
              "      <td>0</td>\n",
              "      <td>0</td>\n",
              "      <td>1</td>\n",
              "      <td>0</td>\n",
              "      <td>0</td>\n",
              "      <td>1</td>\n",
              "      <td>0</td>\n",
              "      <td>1</td>\n",
              "    </tr>\n",
              "    <tr>\n",
              "      <th>1</th>\n",
              "      <td>1</td>\n",
              "      <td>34</td>\n",
              "      <td>33</td>\n",
              "      <td>41</td>\n",
              "      <td>36</td>\n",
              "      <td>0</td>\n",
              "      <td>1</td>\n",
              "      <td>0</td>\n",
              "      <td>0</td>\n",
              "      <td>1</td>\n",
              "      <td>0</td>\n",
              "      <td>1</td>\n",
              "      <td>0</td>\n",
              "      <td>1</td>\n",
              "    </tr>\n",
              "    <tr>\n",
              "      <th>2</th>\n",
              "      <td>2</td>\n",
              "      <td>39</td>\n",
              "      <td>39</td>\n",
              "      <td>44</td>\n",
              "      <td>26</td>\n",
              "      <td>0</td>\n",
              "      <td>1</td>\n",
              "      <td>1</td>\n",
              "      <td>0</td>\n",
              "      <td>0</td>\n",
              "      <td>0</td>\n",
              "      <td>1</td>\n",
              "      <td>0</td>\n",
              "      <td>1</td>\n",
              "    </tr>\n",
              "    <tr>\n",
              "      <th>3</th>\n",
              "      <td>2</td>\n",
              "      <td>37</td>\n",
              "      <td>37</td>\n",
              "      <td>42</td>\n",
              "      <td>33</td>\n",
              "      <td>0</td>\n",
              "      <td>1</td>\n",
              "      <td>0</td>\n",
              "      <td>1</td>\n",
              "      <td>0</td>\n",
              "      <td>0</td>\n",
              "      <td>1</td>\n",
              "      <td>0</td>\n",
              "      <td>1</td>\n",
              "    </tr>\n",
              "    <tr>\n",
              "      <th>4</th>\n",
              "      <td>2</td>\n",
              "      <td>39</td>\n",
              "      <td>31</td>\n",
              "      <td>40</td>\n",
              "      <td>39</td>\n",
              "      <td>0</td>\n",
              "      <td>1</td>\n",
              "      <td>0</td>\n",
              "      <td>0</td>\n",
              "      <td>1</td>\n",
              "      <td>0</td>\n",
              "      <td>1</td>\n",
              "      <td>0</td>\n",
              "      <td>1</td>\n",
              "    </tr>\n",
              "  </tbody>\n",
              "</table>\n",
              "</div>\n",
              "      <button class=\"colab-df-convert\" onclick=\"convertToInteractive('df-3f65a5ae-a3ea-4d27-992d-93e0990a7014')\"\n",
              "              title=\"Convert this dataframe to an interactive table.\"\n",
              "              style=\"display:none;\">\n",
              "        \n",
              "  <svg xmlns=\"http://www.w3.org/2000/svg\" height=\"24px\"viewBox=\"0 0 24 24\"\n",
              "       width=\"24px\">\n",
              "    <path d=\"M0 0h24v24H0V0z\" fill=\"none\"/>\n",
              "    <path d=\"M18.56 5.44l.94 2.06.94-2.06 2.06-.94-2.06-.94-.94-2.06-.94 2.06-2.06.94zm-11 1L8.5 8.5l.94-2.06 2.06-.94-2.06-.94L8.5 2.5l-.94 2.06-2.06.94zm10 10l.94 2.06.94-2.06 2.06-.94-2.06-.94-.94-2.06-.94 2.06-2.06.94z\"/><path d=\"M17.41 7.96l-1.37-1.37c-.4-.4-.92-.59-1.43-.59-.52 0-1.04.2-1.43.59L10.3 9.45l-7.72 7.72c-.78.78-.78 2.05 0 2.83L4 21.41c.39.39.9.59 1.41.59.51 0 1.02-.2 1.41-.59l7.78-7.78 2.81-2.81c.8-.78.8-2.07 0-2.86zM5.41 20L4 18.59l7.72-7.72 1.47 1.35L5.41 20z\"/>\n",
              "  </svg>\n",
              "      </button>\n",
              "      \n",
              "  <style>\n",
              "    .colab-df-container {\n",
              "      display:flex;\n",
              "      flex-wrap:wrap;\n",
              "      gap: 12px;\n",
              "    }\n",
              "\n",
              "    .colab-df-convert {\n",
              "      background-color: #E8F0FE;\n",
              "      border: none;\n",
              "      border-radius: 50%;\n",
              "      cursor: pointer;\n",
              "      display: none;\n",
              "      fill: #1967D2;\n",
              "      height: 32px;\n",
              "      padding: 0 0 0 0;\n",
              "      width: 32px;\n",
              "    }\n",
              "\n",
              "    .colab-df-convert:hover {\n",
              "      background-color: #E2EBFA;\n",
              "      box-shadow: 0px 1px 2px rgba(60, 64, 67, 0.3), 0px 1px 3px 1px rgba(60, 64, 67, 0.15);\n",
              "      fill: #174EA6;\n",
              "    }\n",
              "\n",
              "    [theme=dark] .colab-df-convert {\n",
              "      background-color: #3B4455;\n",
              "      fill: #D2E3FC;\n",
              "    }\n",
              "\n",
              "    [theme=dark] .colab-df-convert:hover {\n",
              "      background-color: #434B5C;\n",
              "      box-shadow: 0px 1px 3px 1px rgba(0, 0, 0, 0.15);\n",
              "      filter: drop-shadow(0px 1px 2px rgba(0, 0, 0, 0.3));\n",
              "      fill: #FFFFFF;\n",
              "    }\n",
              "  </style>\n",
              "\n",
              "      <script>\n",
              "        const buttonEl =\n",
              "          document.querySelector('#df-3f65a5ae-a3ea-4d27-992d-93e0990a7014 button.colab-df-convert');\n",
              "        buttonEl.style.display =\n",
              "          google.colab.kernel.accessAllowed ? 'block' : 'none';\n",
              "\n",
              "        async function convertToInteractive(key) {\n",
              "          const element = document.querySelector('#df-3f65a5ae-a3ea-4d27-992d-93e0990a7014');\n",
              "          const dataTable =\n",
              "            await google.colab.kernel.invokeFunction('convertToInteractive',\n",
              "                                                     [key], {});\n",
              "          if (!dataTable) return;\n",
              "\n",
              "          const docLinkHtml = 'Like what you see? Visit the ' +\n",
              "            '<a target=\"_blank\" href=https://colab.research.google.com/notebooks/data_table.ipynb>data table notebook</a>'\n",
              "            + ' to learn more about interactive tables.';\n",
              "          element.innerHTML = '';\n",
              "          dataTable['output_type'] = 'display_data';\n",
              "          await google.colab.output.renderOutput(dataTable, element);\n",
              "          const docLink = document.createElement('div');\n",
              "          docLink.innerHTML = docLinkHtml;\n",
              "          element.appendChild(docLink);\n",
              "        }\n",
              "      </script>\n",
              "    </div>\n",
              "  </div>\n",
              "  "
            ]
          },
          "metadata": {},
          "execution_count": 11
        }
      ]
    },
    {
      "cell_type": "code",
      "source": [
        "mdata.shape"
      ],
      "metadata": {
        "colab": {
          "base_uri": "https://localhost:8080/"
        },
        "id": "yhWIAT7UnYGD",
        "outputId": "0017db01-f11f-4bc7-812f-444c9a142e1b"
      },
      "execution_count": null,
      "outputs": [
        {
          "output_type": "execute_result",
          "data": {
            "text/plain": [
              "(200, 14)"
            ]
          },
          "metadata": {},
          "execution_count": 12
        }
      ]
    },
    {
      "cell_type": "code",
      "source": [
        "mdata.isna().sum()"
      ],
      "metadata": {
        "colab": {
          "base_uri": "https://localhost:8080/"
        },
        "id": "PKgoNK83nYI0",
        "outputId": "c7e21e68-5117-4f42-fbe2-3f9b62d834ef"
      },
      "execution_count": null,
      "outputs": [
        {
          "output_type": "execute_result",
          "data": {
            "text/plain": [
              "prog                   0\n",
              "read                   0\n",
              "write                  0\n",
              "math                   0\n",
              "science                0\n",
              "female_female          0\n",
              "female_male            0\n",
              "ses_high               0\n",
              "ses_low                0\n",
              "ses_middle             0\n",
              "schtyp_private         0\n",
              "schtyp_public          0\n",
              "honors_enrolled        0\n",
              "honors_not enrolled    0\n",
              "dtype: int64"
            ]
          },
          "metadata": {},
          "execution_count": 13
        }
      ]
    },
    {
      "cell_type": "markdown",
      "source": [
        "#5.Model Building"
      ],
      "metadata": {
        "id": "bp9F70V8matd"
      }
    },
    {
      "cell_type": "code",
      "source": [
        "X = mdata.drop(['prog'],axis = 1)\n",
        "y = mdata[['prog']]"
      ],
      "metadata": {
        "id": "rkUEtik-mc8Y"
      },
      "execution_count": null,
      "outputs": []
    },
    {
      "cell_type": "code",
      "source": [
        "X.shape, y.shape"
      ],
      "metadata": {
        "colab": {
          "base_uri": "https://localhost:8080/"
        },
        "id": "TDb7CiFamc_j",
        "outputId": "7daaf76d-2186-4ff3-fbb8-44f21602ed7a"
      },
      "execution_count": null,
      "outputs": [
        {
          "output_type": "execute_result",
          "data": {
            "text/plain": [
              "((200, 13), (200, 1))"
            ]
          },
          "metadata": {},
          "execution_count": 15
        }
      ]
    },
    {
      "cell_type": "markdown",
      "source": [
        "Standarization"
      ],
      "metadata": {
        "id": "MXGLwkV4wGsM"
      }
    },
    {
      "cell_type": "code",
      "source": [
        "X_columns = X.columns\n",
        "X_columns"
      ],
      "metadata": {
        "colab": {
          "base_uri": "https://localhost:8080/"
        },
        "id": "m4EhJCbztpUs",
        "outputId": "e524a109-a64e-4a28-9128-32e05497cc07"
      },
      "execution_count": null,
      "outputs": [
        {
          "output_type": "execute_result",
          "data": {
            "text/plain": [
              "Index(['read', 'write', 'math', 'science', 'female_female', 'female_male',\n",
              "       'ses_high', 'ses_low', 'ses_middle', 'schtyp_private', 'schtyp_public',\n",
              "       'honors_enrolled', 'honors_not enrolled'],\n",
              "      dtype='object')"
            ]
          },
          "metadata": {},
          "execution_count": 16
        }
      ]
    },
    {
      "cell_type": "code",
      "source": [
        "from sklearn.preprocessing import StandardScaler\n",
        "std_scaler = StandardScaler()\n",
        "X = std_scaler.fit_transform(X)\n",
        "X = pd.DataFrame(data = X,columns = X_columns)\n",
        "X"
      ],
      "metadata": {
        "colab": {
          "base_uri": "https://localhost:8080/",
          "height": 485
        },
        "id": "G_b9KnJhwPse",
        "outputId": "3db0542e-a94a-480d-ab22-7def90f6ed5b"
      },
      "execution_count": null,
      "outputs": [
        {
          "output_type": "execute_result",
          "data": {
            "text/plain": [
              "         read     write      math   science  female_female  female_male  \\\n",
              "0   -1.782489 -1.879986 -1.246121 -2.313665       0.913708    -0.913708   \n",
              "1   -1.782489 -2.091517 -1.246121 -1.604883      -1.094442     1.094442   \n",
              "2   -1.293600 -1.456923 -0.925094 -2.617428      -1.094442     1.094442   \n",
              "3   -1.489156 -1.668454 -1.139112 -1.908647      -1.094442     1.094442   \n",
              "4   -1.293600 -2.303048 -1.353130 -1.301120      -1.094442     1.094442   \n",
              "..        ...       ...       ...       ...            ...          ...   \n",
              "195  1.053067  1.292986  1.964153  1.736514       0.913708    -0.913708   \n",
              "196  1.053067  1.081454  2.392189  2.040278      -1.094442     1.094442   \n",
              "197  2.030845  1.504517  1.964153  1.128987      -1.094442     1.094442   \n",
              "198  1.835289  1.292986  2.071162  1.432751       0.913708    -0.913708   \n",
              "199  2.030845  0.975689  2.178171  1.736514      -1.094442     1.094442   \n",
              "\n",
              "     ses_high   ses_low  ses_middle  schtyp_private  schtyp_public  \\\n",
              "0   -0.639101  1.804250   -0.951190       -0.436436       0.436436   \n",
              "1   -0.639101 -0.554247    1.051315       -0.436436       0.436436   \n",
              "2    1.564697 -0.554247   -0.951190       -0.436436       0.436436   \n",
              "3   -0.639101  1.804250   -0.951190       -0.436436       0.436436   \n",
              "4   -0.639101 -0.554247    1.051315       -0.436436       0.436436   \n",
              "..        ...       ...         ...             ...            ...   \n",
              "195  1.564697 -0.554247   -0.951190       -0.436436       0.436436   \n",
              "196 -0.639101 -0.554247    1.051315       -0.436436       0.436436   \n",
              "197 -0.639101 -0.554247    1.051315       -0.436436       0.436436   \n",
              "198 -0.639101 -0.554247    1.051315       -0.436436       0.436436   \n",
              "199 -0.639101 -0.554247    1.051315       -0.436436       0.436436   \n",
              "\n",
              "     honors_enrolled  honors_not enrolled  \n",
              "0          -0.600453             0.600453  \n",
              "1          -0.600453             0.600453  \n",
              "2          -0.600453             0.600453  \n",
              "3          -0.600453             0.600453  \n",
              "4          -0.600453             0.600453  \n",
              "..               ...                  ...  \n",
              "195         1.665408            -1.665408  \n",
              "196         1.665408            -1.665408  \n",
              "197         1.665408            -1.665408  \n",
              "198         1.665408            -1.665408  \n",
              "199         1.665408            -1.665408  \n",
              "\n",
              "[200 rows x 13 columns]"
            ],
            "text/html": [
              "\n",
              "  <div id=\"df-27ca7dd4-caee-4ac4-a4a8-b56696a96a9a\">\n",
              "    <div class=\"colab-df-container\">\n",
              "      <div>\n",
              "<style scoped>\n",
              "    .dataframe tbody tr th:only-of-type {\n",
              "        vertical-align: middle;\n",
              "    }\n",
              "\n",
              "    .dataframe tbody tr th {\n",
              "        vertical-align: top;\n",
              "    }\n",
              "\n",
              "    .dataframe thead th {\n",
              "        text-align: right;\n",
              "    }\n",
              "</style>\n",
              "<table border=\"1\" class=\"dataframe\">\n",
              "  <thead>\n",
              "    <tr style=\"text-align: right;\">\n",
              "      <th></th>\n",
              "      <th>read</th>\n",
              "      <th>write</th>\n",
              "      <th>math</th>\n",
              "      <th>science</th>\n",
              "      <th>female_female</th>\n",
              "      <th>female_male</th>\n",
              "      <th>ses_high</th>\n",
              "      <th>ses_low</th>\n",
              "      <th>ses_middle</th>\n",
              "      <th>schtyp_private</th>\n",
              "      <th>schtyp_public</th>\n",
              "      <th>honors_enrolled</th>\n",
              "      <th>honors_not enrolled</th>\n",
              "    </tr>\n",
              "  </thead>\n",
              "  <tbody>\n",
              "    <tr>\n",
              "      <th>0</th>\n",
              "      <td>-1.782489</td>\n",
              "      <td>-1.879986</td>\n",
              "      <td>-1.246121</td>\n",
              "      <td>-2.313665</td>\n",
              "      <td>0.913708</td>\n",
              "      <td>-0.913708</td>\n",
              "      <td>-0.639101</td>\n",
              "      <td>1.804250</td>\n",
              "      <td>-0.951190</td>\n",
              "      <td>-0.436436</td>\n",
              "      <td>0.436436</td>\n",
              "      <td>-0.600453</td>\n",
              "      <td>0.600453</td>\n",
              "    </tr>\n",
              "    <tr>\n",
              "      <th>1</th>\n",
              "      <td>-1.782489</td>\n",
              "      <td>-2.091517</td>\n",
              "      <td>-1.246121</td>\n",
              "      <td>-1.604883</td>\n",
              "      <td>-1.094442</td>\n",
              "      <td>1.094442</td>\n",
              "      <td>-0.639101</td>\n",
              "      <td>-0.554247</td>\n",
              "      <td>1.051315</td>\n",
              "      <td>-0.436436</td>\n",
              "      <td>0.436436</td>\n",
              "      <td>-0.600453</td>\n",
              "      <td>0.600453</td>\n",
              "    </tr>\n",
              "    <tr>\n",
              "      <th>2</th>\n",
              "      <td>-1.293600</td>\n",
              "      <td>-1.456923</td>\n",
              "      <td>-0.925094</td>\n",
              "      <td>-2.617428</td>\n",
              "      <td>-1.094442</td>\n",
              "      <td>1.094442</td>\n",
              "      <td>1.564697</td>\n",
              "      <td>-0.554247</td>\n",
              "      <td>-0.951190</td>\n",
              "      <td>-0.436436</td>\n",
              "      <td>0.436436</td>\n",
              "      <td>-0.600453</td>\n",
              "      <td>0.600453</td>\n",
              "    </tr>\n",
              "    <tr>\n",
              "      <th>3</th>\n",
              "      <td>-1.489156</td>\n",
              "      <td>-1.668454</td>\n",
              "      <td>-1.139112</td>\n",
              "      <td>-1.908647</td>\n",
              "      <td>-1.094442</td>\n",
              "      <td>1.094442</td>\n",
              "      <td>-0.639101</td>\n",
              "      <td>1.804250</td>\n",
              "      <td>-0.951190</td>\n",
              "      <td>-0.436436</td>\n",
              "      <td>0.436436</td>\n",
              "      <td>-0.600453</td>\n",
              "      <td>0.600453</td>\n",
              "    </tr>\n",
              "    <tr>\n",
              "      <th>4</th>\n",
              "      <td>-1.293600</td>\n",
              "      <td>-2.303048</td>\n",
              "      <td>-1.353130</td>\n",
              "      <td>-1.301120</td>\n",
              "      <td>-1.094442</td>\n",
              "      <td>1.094442</td>\n",
              "      <td>-0.639101</td>\n",
              "      <td>-0.554247</td>\n",
              "      <td>1.051315</td>\n",
              "      <td>-0.436436</td>\n",
              "      <td>0.436436</td>\n",
              "      <td>-0.600453</td>\n",
              "      <td>0.600453</td>\n",
              "    </tr>\n",
              "    <tr>\n",
              "      <th>...</th>\n",
              "      <td>...</td>\n",
              "      <td>...</td>\n",
              "      <td>...</td>\n",
              "      <td>...</td>\n",
              "      <td>...</td>\n",
              "      <td>...</td>\n",
              "      <td>...</td>\n",
              "      <td>...</td>\n",
              "      <td>...</td>\n",
              "      <td>...</td>\n",
              "      <td>...</td>\n",
              "      <td>...</td>\n",
              "      <td>...</td>\n",
              "    </tr>\n",
              "    <tr>\n",
              "      <th>195</th>\n",
              "      <td>1.053067</td>\n",
              "      <td>1.292986</td>\n",
              "      <td>1.964153</td>\n",
              "      <td>1.736514</td>\n",
              "      <td>0.913708</td>\n",
              "      <td>-0.913708</td>\n",
              "      <td>1.564697</td>\n",
              "      <td>-0.554247</td>\n",
              "      <td>-0.951190</td>\n",
              "      <td>-0.436436</td>\n",
              "      <td>0.436436</td>\n",
              "      <td>1.665408</td>\n",
              "      <td>-1.665408</td>\n",
              "    </tr>\n",
              "    <tr>\n",
              "      <th>196</th>\n",
              "      <td>1.053067</td>\n",
              "      <td>1.081454</td>\n",
              "      <td>2.392189</td>\n",
              "      <td>2.040278</td>\n",
              "      <td>-1.094442</td>\n",
              "      <td>1.094442</td>\n",
              "      <td>-0.639101</td>\n",
              "      <td>-0.554247</td>\n",
              "      <td>1.051315</td>\n",
              "      <td>-0.436436</td>\n",
              "      <td>0.436436</td>\n",
              "      <td>1.665408</td>\n",
              "      <td>-1.665408</td>\n",
              "    </tr>\n",
              "    <tr>\n",
              "      <th>197</th>\n",
              "      <td>2.030845</td>\n",
              "      <td>1.504517</td>\n",
              "      <td>1.964153</td>\n",
              "      <td>1.128987</td>\n",
              "      <td>-1.094442</td>\n",
              "      <td>1.094442</td>\n",
              "      <td>-0.639101</td>\n",
              "      <td>-0.554247</td>\n",
              "      <td>1.051315</td>\n",
              "      <td>-0.436436</td>\n",
              "      <td>0.436436</td>\n",
              "      <td>1.665408</td>\n",
              "      <td>-1.665408</td>\n",
              "    </tr>\n",
              "    <tr>\n",
              "      <th>198</th>\n",
              "      <td>1.835289</td>\n",
              "      <td>1.292986</td>\n",
              "      <td>2.071162</td>\n",
              "      <td>1.432751</td>\n",
              "      <td>0.913708</td>\n",
              "      <td>-0.913708</td>\n",
              "      <td>-0.639101</td>\n",
              "      <td>-0.554247</td>\n",
              "      <td>1.051315</td>\n",
              "      <td>-0.436436</td>\n",
              "      <td>0.436436</td>\n",
              "      <td>1.665408</td>\n",
              "      <td>-1.665408</td>\n",
              "    </tr>\n",
              "    <tr>\n",
              "      <th>199</th>\n",
              "      <td>2.030845</td>\n",
              "      <td>0.975689</td>\n",
              "      <td>2.178171</td>\n",
              "      <td>1.736514</td>\n",
              "      <td>-1.094442</td>\n",
              "      <td>1.094442</td>\n",
              "      <td>-0.639101</td>\n",
              "      <td>-0.554247</td>\n",
              "      <td>1.051315</td>\n",
              "      <td>-0.436436</td>\n",
              "      <td>0.436436</td>\n",
              "      <td>1.665408</td>\n",
              "      <td>-1.665408</td>\n",
              "    </tr>\n",
              "  </tbody>\n",
              "</table>\n",
              "<p>200 rows × 13 columns</p>\n",
              "</div>\n",
              "      <button class=\"colab-df-convert\" onclick=\"convertToInteractive('df-27ca7dd4-caee-4ac4-a4a8-b56696a96a9a')\"\n",
              "              title=\"Convert this dataframe to an interactive table.\"\n",
              "              style=\"display:none;\">\n",
              "        \n",
              "  <svg xmlns=\"http://www.w3.org/2000/svg\" height=\"24px\"viewBox=\"0 0 24 24\"\n",
              "       width=\"24px\">\n",
              "    <path d=\"M0 0h24v24H0V0z\" fill=\"none\"/>\n",
              "    <path d=\"M18.56 5.44l.94 2.06.94-2.06 2.06-.94-2.06-.94-.94-2.06-.94 2.06-2.06.94zm-11 1L8.5 8.5l.94-2.06 2.06-.94-2.06-.94L8.5 2.5l-.94 2.06-2.06.94zm10 10l.94 2.06.94-2.06 2.06-.94-2.06-.94-.94-2.06-.94 2.06-2.06.94z\"/><path d=\"M17.41 7.96l-1.37-1.37c-.4-.4-.92-.59-1.43-.59-.52 0-1.04.2-1.43.59L10.3 9.45l-7.72 7.72c-.78.78-.78 2.05 0 2.83L4 21.41c.39.39.9.59 1.41.59.51 0 1.02-.2 1.41-.59l7.78-7.78 2.81-2.81c.8-.78.8-2.07 0-2.86zM5.41 20L4 18.59l7.72-7.72 1.47 1.35L5.41 20z\"/>\n",
              "  </svg>\n",
              "      </button>\n",
              "      \n",
              "  <style>\n",
              "    .colab-df-container {\n",
              "      display:flex;\n",
              "      flex-wrap:wrap;\n",
              "      gap: 12px;\n",
              "    }\n",
              "\n",
              "    .colab-df-convert {\n",
              "      background-color: #E8F0FE;\n",
              "      border: none;\n",
              "      border-radius: 50%;\n",
              "      cursor: pointer;\n",
              "      display: none;\n",
              "      fill: #1967D2;\n",
              "      height: 32px;\n",
              "      padding: 0 0 0 0;\n",
              "      width: 32px;\n",
              "    }\n",
              "\n",
              "    .colab-df-convert:hover {\n",
              "      background-color: #E2EBFA;\n",
              "      box-shadow: 0px 1px 2px rgba(60, 64, 67, 0.3), 0px 1px 3px 1px rgba(60, 64, 67, 0.15);\n",
              "      fill: #174EA6;\n",
              "    }\n",
              "\n",
              "    [theme=dark] .colab-df-convert {\n",
              "      background-color: #3B4455;\n",
              "      fill: #D2E3FC;\n",
              "    }\n",
              "\n",
              "    [theme=dark] .colab-df-convert:hover {\n",
              "      background-color: #434B5C;\n",
              "      box-shadow: 0px 1px 3px 1px rgba(0, 0, 0, 0.15);\n",
              "      filter: drop-shadow(0px 1px 2px rgba(0, 0, 0, 0.3));\n",
              "      fill: #FFFFFF;\n",
              "    }\n",
              "  </style>\n",
              "\n",
              "      <script>\n",
              "        const buttonEl =\n",
              "          document.querySelector('#df-27ca7dd4-caee-4ac4-a4a8-b56696a96a9a button.colab-df-convert');\n",
              "        buttonEl.style.display =\n",
              "          google.colab.kernel.accessAllowed ? 'block' : 'none';\n",
              "\n",
              "        async function convertToInteractive(key) {\n",
              "          const element = document.querySelector('#df-27ca7dd4-caee-4ac4-a4a8-b56696a96a9a');\n",
              "          const dataTable =\n",
              "            await google.colab.kernel.invokeFunction('convertToInteractive',\n",
              "                                                     [key], {});\n",
              "          if (!dataTable) return;\n",
              "\n",
              "          const docLinkHtml = 'Like what you see? Visit the ' +\n",
              "            '<a target=\"_blank\" href=https://colab.research.google.com/notebooks/data_table.ipynb>data table notebook</a>'\n",
              "            + ' to learn more about interactive tables.';\n",
              "          element.innerHTML = '';\n",
              "          dataTable['output_type'] = 'display_data';\n",
              "          await google.colab.output.renderOutput(dataTable, element);\n",
              "          const docLink = document.createElement('div');\n",
              "          docLink.innerHTML = docLinkHtml;\n",
              "          element.appendChild(docLink);\n",
              "        }\n",
              "      </script>\n",
              "    </div>\n",
              "  </div>\n",
              "  "
            ]
          },
          "metadata": {},
          "execution_count": 17
        }
      ]
    },
    {
      "cell_type": "code",
      "source": [
        "X.mean()"
      ],
      "metadata": {
        "colab": {
          "base_uri": "https://localhost:8080/"
        },
        "id": "UPlBs59CIiVs",
        "outputId": "7c758842-61c9-44c3-eb06-51ba05f7e327"
      },
      "execution_count": null,
      "outputs": [
        {
          "output_type": "execute_result",
          "data": {
            "text/plain": [
              "read                   2.842171e-16\n",
              "write                  2.131628e-16\n",
              "math                  -4.263256e-16\n",
              "science               -2.131628e-16\n",
              "female_female         -8.437695e-17\n",
              "female_male           -8.881784e-17\n",
              "ses_high               3.552714e-17\n",
              "ses_low                7.105427e-17\n",
              "ses_middle             3.108624e-17\n",
              "schtyp_private        -1.776357e-17\n",
              "schtyp_public          1.065814e-16\n",
              "honors_enrolled       -3.552714e-17\n",
              "honors_not enrolled    3.552714e-17\n",
              "dtype: float64"
            ]
          },
          "metadata": {},
          "execution_count": 18
        }
      ]
    },
    {
      "cell_type": "code",
      "source": [
        "X.std()"
      ],
      "metadata": {
        "colab": {
          "base_uri": "https://localhost:8080/"
        },
        "id": "Ky1_PaYyIm4O",
        "outputId": "990a767d-08d1-4e6e-c4be-de4b02f3f2aa"
      },
      "execution_count": null,
      "outputs": [
        {
          "output_type": "execute_result",
          "data": {
            "text/plain": [
              "read                   1.002509\n",
              "write                  1.002509\n",
              "math                   1.002509\n",
              "science                1.002509\n",
              "female_female          1.002509\n",
              "female_male            1.002509\n",
              "ses_high               1.002509\n",
              "ses_low                1.002509\n",
              "ses_middle             1.002509\n",
              "schtyp_private         1.002509\n",
              "schtyp_public          1.002509\n",
              "honors_enrolled        1.002509\n",
              "honors_not enrolled    1.002509\n",
              "dtype: float64"
            ]
          },
          "metadata": {},
          "execution_count": 19
        }
      ]
    },
    {
      "cell_type": "code",
      "source": [
        "from sklearn.model_selection import train_test_split\n",
        "\n",
        "X_train, X_test,y_train,y_test = train_test_split(X,y,test_size = 0.20,random_state = 1,shuffle = True,stratify = y)"
      ],
      "metadata": {
        "id": "rOzkHBSymdCe"
      },
      "execution_count": null,
      "outputs": []
    },
    {
      "cell_type": "code",
      "source": [
        "X_train.shape , y_train.shape  #training sample"
      ],
      "metadata": {
        "colab": {
          "base_uri": "https://localhost:8080/"
        },
        "id": "uY10SrrgmY8g",
        "outputId": "92be4674-00e5-4b19-c9f4-415cb23f7a8d"
      },
      "execution_count": null,
      "outputs": [
        {
          "output_type": "execute_result",
          "data": {
            "text/plain": [
              "((160, 13), (160, 1))"
            ]
          },
          "metadata": {},
          "execution_count": 21
        }
      ]
    },
    {
      "cell_type": "code",
      "source": [
        "X_test.shape , y_test.shape    #test sample"
      ],
      "metadata": {
        "colab": {
          "base_uri": "https://localhost:8080/"
        },
        "id": "7RBXkUKlnbaC",
        "outputId": "a95b4e62-600a-4c28-9d98-2e6c60caa95c"
      },
      "execution_count": null,
      "outputs": [
        {
          "output_type": "execute_result",
          "data": {
            "text/plain": [
              "((40, 13), (40, 1))"
            ]
          },
          "metadata": {},
          "execution_count": 22
        }
      ]
    },
    {
      "cell_type": "markdown",
      "source": [
        "#6.Model Training"
      ],
      "metadata": {
        "id": "cV9eckcXnkhG"
      }
    },
    {
      "cell_type": "code",
      "source": [
        "from sklearn.linear_model import LogisticRegression\n",
        "logistic_model = LogisticRegression(multi_class='multinomial', solver='lbfgs')\n",
        "logistic_model.fit(X_train, y_train)"
      ],
      "metadata": {
        "colab": {
          "base_uri": "https://localhost:8080/"
        },
        "id": "jv9TLcBSnfea",
        "outputId": "b8e088db-e13a-4431-c5ec-9498f5ab6d71"
      },
      "execution_count": null,
      "outputs": [
        {
          "output_type": "stream",
          "name": "stderr",
          "text": [
            "/usr/local/lib/python3.8/dist-packages/sklearn/utils/validation.py:993: DataConversionWarning: A column-vector y was passed when a 1d array was expected. Please change the shape of y to (n_samples, ), for example using ravel().\n",
            "  y = column_or_1d(y, warn=True)\n"
          ]
        },
        {
          "output_type": "execute_result",
          "data": {
            "text/plain": [
              "LogisticRegression(multi_class='multinomial')"
            ]
          },
          "metadata": {},
          "execution_count": 23
        }
      ]
    },
    {
      "cell_type": "code",
      "source": [
        "logistic_model.coef_"
      ],
      "metadata": {
        "colab": {
          "base_uri": "https://localhost:8080/"
        },
        "id": "JJ0beyzosKSS",
        "outputId": "bd25e5c7-0b0d-4d59-8087-05b55d9d936f"
      },
      "execution_count": null,
      "outputs": [
        {
          "output_type": "execute_result",
          "data": {
            "text/plain": [
              "array([[ 0.25793377,  0.42622127,  0.87941894, -0.49906561, -0.00851565,\n",
              "         0.00851565,  0.30503025, -0.1400053 , -0.15829613,  0.06426247,\n",
              "        -0.06426247, -0.06768471,  0.06768471],\n",
              "       [-0.14191893,  0.15840235, -0.28602027,  0.45640704, -0.08082651,\n",
              "         0.08082651, -0.05414239,  0.22858617, -0.14488624,  0.03500775,\n",
              "        -0.03500775, -0.14825581,  0.14825581],\n",
              "       [-0.11601484, -0.58462362, -0.59339867,  0.04265857,  0.08934216,\n",
              "        -0.08934216, -0.25088786, -0.08858087,  0.30318236, -0.09927022,\n",
              "         0.09927022,  0.21594051, -0.21594051]])"
            ]
          },
          "metadata": {},
          "execution_count": 24
        }
      ]
    },
    {
      "cell_type": "code",
      "source": [
        "logistic_model.intercept_"
      ],
      "metadata": {
        "colab": {
          "base_uri": "https://localhost:8080/"
        },
        "id": "quwLIpvHsPnM",
        "outputId": "2fd00f2d-a379-4682-e763-4a3bbd9b20af"
      },
      "execution_count": null,
      "outputs": [
        {
          "output_type": "execute_result",
          "data": {
            "text/plain": [
              "array([ 0.58640042, -0.14530628, -0.44109413])"
            ]
          },
          "metadata": {},
          "execution_count": 25
        }
      ]
    },
    {
      "cell_type": "markdown",
      "source": [
        "#7.Model Testing"
      ],
      "metadata": {
        "id": "V2pGi7cMoLyE"
      }
    },
    {
      "cell_type": "markdown",
      "source": [
        "Training Accuracy"
      ],
      "metadata": {
        "id": "_SOVvYsMocCr"
      }
    },
    {
      "cell_type": "code",
      "source": [
        "y_train_pred = logistic_model.predict(X_train)"
      ],
      "metadata": {
        "id": "kENWDClkn-R8"
      },
      "execution_count": null,
      "outputs": []
    },
    {
      "cell_type": "markdown",
      "source": [
        "Test Accuracy"
      ],
      "metadata": {
        "id": "0iFqifN9od7e"
      }
    },
    {
      "cell_type": "code",
      "source": [
        "y_test_pred = logistic_model.predict(X_test)"
      ],
      "metadata": {
        "id": "llBHye7goTqM"
      },
      "execution_count": null,
      "outputs": []
    },
    {
      "cell_type": "markdown",
      "source": [
        "#8.Model Evaluation"
      ],
      "metadata": {
        "id": "YIkG4vCuo80V"
      }
    },
    {
      "cell_type": "code",
      "source": [
        "from sklearn.metrics import accuracy_score, confusion_matrix, classification_report"
      ],
      "metadata": {
        "id": "oDueAVQspCLv"
      },
      "execution_count": null,
      "outputs": []
    },
    {
      "cell_type": "markdown",
      "source": [
        "Training Accuracy"
      ],
      "metadata": {
        "id": "zGLEMXBCpBsO"
      }
    },
    {
      "cell_type": "code",
      "source": [
        "print(accuracy_score(y_train,y_train_pred))"
      ],
      "metadata": {
        "colab": {
          "base_uri": "https://localhost:8080/"
        },
        "id": "fUfMIWb2pCPI",
        "outputId": "13129344-4a3e-4358-a273-93642da39e27"
      },
      "execution_count": null,
      "outputs": [
        {
          "output_type": "stream",
          "name": "stdout",
          "text": [
            "0.69375\n"
          ]
        }
      ]
    },
    {
      "cell_type": "code",
      "source": [
        "print(confusion_matrix(y_train,y_train_pred))"
      ],
      "metadata": {
        "colab": {
          "base_uri": "https://localhost:8080/"
        },
        "id": "sgQLYsG6wqdz",
        "outputId": "4ffeaa8f-c872-4f3d-b43c-a0a4b37f3110"
      },
      "execution_count": null,
      "outputs": [
        {
          "output_type": "stream",
          "name": "stdout",
          "text": [
            "[[74  4  6]\n",
            " [15 11 10]\n",
            " [11  3 26]]\n"
          ]
        }
      ]
    },
    {
      "cell_type": "code",
      "source": [
        "print(classification_report(y_train,y_train_pred))"
      ],
      "metadata": {
        "colab": {
          "base_uri": "https://localhost:8080/"
        },
        "id": "V0QsfQhGwqg3",
        "outputId": "c2cb6305-51c6-4d04-a1fc-55685a13f119"
      },
      "execution_count": null,
      "outputs": [
        {
          "output_type": "stream",
          "name": "stdout",
          "text": [
            "              precision    recall  f1-score   support\n",
            "\n",
            "           0       0.74      0.88      0.80        84\n",
            "           1       0.61      0.31      0.41        36\n",
            "           2       0.62      0.65      0.63        40\n",
            "\n",
            "    accuracy                           0.69       160\n",
            "   macro avg       0.66      0.61      0.62       160\n",
            "weighted avg       0.68      0.69      0.67       160\n",
            "\n"
          ]
        }
      ]
    },
    {
      "cell_type": "markdown",
      "source": [
        "Test Accuracy"
      ],
      "metadata": {
        "id": "eMYLGjQKpBsO"
      }
    },
    {
      "cell_type": "code",
      "source": [
        "accuracy_score(y_test,y_test_pred)"
      ],
      "metadata": {
        "colab": {
          "base_uri": "https://localhost:8080/"
        },
        "id": "pWUU4CWFpCva",
        "outputId": "197a9799-a41b-448a-923f-c755f1a34d18"
      },
      "execution_count": null,
      "outputs": [
        {
          "output_type": "execute_result",
          "data": {
            "text/plain": [
              "0.425"
            ]
          },
          "metadata": {},
          "execution_count": 32
        }
      ]
    },
    {
      "cell_type": "markdown",
      "source": [
        "#Normalizing the Data and checking the accuracy"
      ],
      "metadata": {
        "id": "RApUfGlguJfB"
      }
    },
    {
      "cell_type": "code",
      "source": [
        "#Normalization of the data\n",
        "from numpy import set_printoptions\n",
        "from sklearn.preprocessing import MinMaxScaler\n"
      ],
      "metadata": {
        "id": "xBL00sH3t2zK"
      },
      "execution_count": null,
      "outputs": []
    },
    {
      "cell_type": "code",
      "source": [
        "array = X.values\n",
        "\n",
        "scaler = MinMaxScaler()\n",
        "X = scaler.fit_transform(array)\n",
        "\n",
        "#transformed data\n",
        "set_printoptions(precision=2)\n",
        "X"
      ],
      "metadata": {
        "colab": {
          "base_uri": "https://localhost:8080/"
        },
        "id": "7R4DQYRZuTFC",
        "outputId": "1f1956e8-12b0-4ec9-fc41-7822bfa1742b"
      },
      "execution_count": null,
      "outputs": [
        {
          "output_type": "execute_result",
          "data": {
            "text/plain": [
              "array([[0.12, 0.11, 0.19, ..., 1.  , 0.  , 1.  ],\n",
              "       [0.12, 0.06, 0.19, ..., 1.  , 0.  , 1.  ],\n",
              "       [0.23, 0.22, 0.26, ..., 1.  , 0.  , 1.  ],\n",
              "       ...,\n",
              "       [0.94, 1.  , 0.9 , ..., 1.  , 1.  , 0.  ],\n",
              "       [0.9 , 0.94, 0.93, ..., 1.  , 1.  , 0.  ],\n",
              "       [0.94, 0.86, 0.95, ..., 1.  , 1.  , 0.  ]])"
            ]
          },
          "metadata": {},
          "execution_count": 34
        }
      ]
    },
    {
      "cell_type": "code",
      "source": [
        "X = pd.DataFrame(data = X,columns = X_columns)\n",
        "X"
      ],
      "metadata": {
        "colab": {
          "base_uri": "https://localhost:8080/",
          "height": 485
        },
        "id": "ezWOG-N2uTN4",
        "outputId": "160a4eb3-4ed2-45d3-ab14-f7d2d1ad7e75"
      },
      "execution_count": null,
      "outputs": [
        {
          "output_type": "execute_result",
          "data": {
            "text/plain": [
              "         read     write      math   science  female_female  female_male  \\\n",
              "0    0.125000  0.111111  0.190476  0.062500            1.0          0.0   \n",
              "1    0.125000  0.055556  0.190476  0.208333            0.0          1.0   \n",
              "2    0.229167  0.222222  0.261905  0.000000            0.0          1.0   \n",
              "3    0.187500  0.166667  0.214286  0.145833            0.0          1.0   \n",
              "4    0.229167  0.000000  0.166667  0.270833            0.0          1.0   \n",
              "..        ...       ...       ...       ...            ...          ...   \n",
              "195  0.729167  0.944444  0.904762  0.895833            1.0          0.0   \n",
              "196  0.729167  0.888889  1.000000  0.958333            0.0          1.0   \n",
              "197  0.937500  1.000000  0.904762  0.770833            0.0          1.0   \n",
              "198  0.895833  0.944444  0.928571  0.833333            1.0          0.0   \n",
              "199  0.937500  0.861111  0.952381  0.895833            0.0          1.0   \n",
              "\n",
              "     ses_high  ses_low  ses_middle  schtyp_private  schtyp_public  \\\n",
              "0         0.0      1.0         0.0             0.0            1.0   \n",
              "1         0.0      0.0         1.0             0.0            1.0   \n",
              "2         1.0      0.0         0.0             0.0            1.0   \n",
              "3         0.0      1.0         0.0             0.0            1.0   \n",
              "4         0.0      0.0         1.0             0.0            1.0   \n",
              "..        ...      ...         ...             ...            ...   \n",
              "195       1.0      0.0         0.0             0.0            1.0   \n",
              "196       0.0      0.0         1.0             0.0            1.0   \n",
              "197       0.0      0.0         1.0             0.0            1.0   \n",
              "198       0.0      0.0         1.0             0.0            1.0   \n",
              "199       0.0      0.0         1.0             0.0            1.0   \n",
              "\n",
              "     honors_enrolled  honors_not enrolled  \n",
              "0                0.0                  1.0  \n",
              "1                0.0                  1.0  \n",
              "2                0.0                  1.0  \n",
              "3                0.0                  1.0  \n",
              "4                0.0                  1.0  \n",
              "..               ...                  ...  \n",
              "195              1.0                  0.0  \n",
              "196              1.0                  0.0  \n",
              "197              1.0                  0.0  \n",
              "198              1.0                  0.0  \n",
              "199              1.0                  0.0  \n",
              "\n",
              "[200 rows x 13 columns]"
            ],
            "text/html": [
              "\n",
              "  <div id=\"df-27e82049-8f41-4a93-9fcb-29bd60d65740\">\n",
              "    <div class=\"colab-df-container\">\n",
              "      <div>\n",
              "<style scoped>\n",
              "    .dataframe tbody tr th:only-of-type {\n",
              "        vertical-align: middle;\n",
              "    }\n",
              "\n",
              "    .dataframe tbody tr th {\n",
              "        vertical-align: top;\n",
              "    }\n",
              "\n",
              "    .dataframe thead th {\n",
              "        text-align: right;\n",
              "    }\n",
              "</style>\n",
              "<table border=\"1\" class=\"dataframe\">\n",
              "  <thead>\n",
              "    <tr style=\"text-align: right;\">\n",
              "      <th></th>\n",
              "      <th>read</th>\n",
              "      <th>write</th>\n",
              "      <th>math</th>\n",
              "      <th>science</th>\n",
              "      <th>female_female</th>\n",
              "      <th>female_male</th>\n",
              "      <th>ses_high</th>\n",
              "      <th>ses_low</th>\n",
              "      <th>ses_middle</th>\n",
              "      <th>schtyp_private</th>\n",
              "      <th>schtyp_public</th>\n",
              "      <th>honors_enrolled</th>\n",
              "      <th>honors_not enrolled</th>\n",
              "    </tr>\n",
              "  </thead>\n",
              "  <tbody>\n",
              "    <tr>\n",
              "      <th>0</th>\n",
              "      <td>0.125000</td>\n",
              "      <td>0.111111</td>\n",
              "      <td>0.190476</td>\n",
              "      <td>0.062500</td>\n",
              "      <td>1.0</td>\n",
              "      <td>0.0</td>\n",
              "      <td>0.0</td>\n",
              "      <td>1.0</td>\n",
              "      <td>0.0</td>\n",
              "      <td>0.0</td>\n",
              "      <td>1.0</td>\n",
              "      <td>0.0</td>\n",
              "      <td>1.0</td>\n",
              "    </tr>\n",
              "    <tr>\n",
              "      <th>1</th>\n",
              "      <td>0.125000</td>\n",
              "      <td>0.055556</td>\n",
              "      <td>0.190476</td>\n",
              "      <td>0.208333</td>\n",
              "      <td>0.0</td>\n",
              "      <td>1.0</td>\n",
              "      <td>0.0</td>\n",
              "      <td>0.0</td>\n",
              "      <td>1.0</td>\n",
              "      <td>0.0</td>\n",
              "      <td>1.0</td>\n",
              "      <td>0.0</td>\n",
              "      <td>1.0</td>\n",
              "    </tr>\n",
              "    <tr>\n",
              "      <th>2</th>\n",
              "      <td>0.229167</td>\n",
              "      <td>0.222222</td>\n",
              "      <td>0.261905</td>\n",
              "      <td>0.000000</td>\n",
              "      <td>0.0</td>\n",
              "      <td>1.0</td>\n",
              "      <td>1.0</td>\n",
              "      <td>0.0</td>\n",
              "      <td>0.0</td>\n",
              "      <td>0.0</td>\n",
              "      <td>1.0</td>\n",
              "      <td>0.0</td>\n",
              "      <td>1.0</td>\n",
              "    </tr>\n",
              "    <tr>\n",
              "      <th>3</th>\n",
              "      <td>0.187500</td>\n",
              "      <td>0.166667</td>\n",
              "      <td>0.214286</td>\n",
              "      <td>0.145833</td>\n",
              "      <td>0.0</td>\n",
              "      <td>1.0</td>\n",
              "      <td>0.0</td>\n",
              "      <td>1.0</td>\n",
              "      <td>0.0</td>\n",
              "      <td>0.0</td>\n",
              "      <td>1.0</td>\n",
              "      <td>0.0</td>\n",
              "      <td>1.0</td>\n",
              "    </tr>\n",
              "    <tr>\n",
              "      <th>4</th>\n",
              "      <td>0.229167</td>\n",
              "      <td>0.000000</td>\n",
              "      <td>0.166667</td>\n",
              "      <td>0.270833</td>\n",
              "      <td>0.0</td>\n",
              "      <td>1.0</td>\n",
              "      <td>0.0</td>\n",
              "      <td>0.0</td>\n",
              "      <td>1.0</td>\n",
              "      <td>0.0</td>\n",
              "      <td>1.0</td>\n",
              "      <td>0.0</td>\n",
              "      <td>1.0</td>\n",
              "    </tr>\n",
              "    <tr>\n",
              "      <th>...</th>\n",
              "      <td>...</td>\n",
              "      <td>...</td>\n",
              "      <td>...</td>\n",
              "      <td>...</td>\n",
              "      <td>...</td>\n",
              "      <td>...</td>\n",
              "      <td>...</td>\n",
              "      <td>...</td>\n",
              "      <td>...</td>\n",
              "      <td>...</td>\n",
              "      <td>...</td>\n",
              "      <td>...</td>\n",
              "      <td>...</td>\n",
              "    </tr>\n",
              "    <tr>\n",
              "      <th>195</th>\n",
              "      <td>0.729167</td>\n",
              "      <td>0.944444</td>\n",
              "      <td>0.904762</td>\n",
              "      <td>0.895833</td>\n",
              "      <td>1.0</td>\n",
              "      <td>0.0</td>\n",
              "      <td>1.0</td>\n",
              "      <td>0.0</td>\n",
              "      <td>0.0</td>\n",
              "      <td>0.0</td>\n",
              "      <td>1.0</td>\n",
              "      <td>1.0</td>\n",
              "      <td>0.0</td>\n",
              "    </tr>\n",
              "    <tr>\n",
              "      <th>196</th>\n",
              "      <td>0.729167</td>\n",
              "      <td>0.888889</td>\n",
              "      <td>1.000000</td>\n",
              "      <td>0.958333</td>\n",
              "      <td>0.0</td>\n",
              "      <td>1.0</td>\n",
              "      <td>0.0</td>\n",
              "      <td>0.0</td>\n",
              "      <td>1.0</td>\n",
              "      <td>0.0</td>\n",
              "      <td>1.0</td>\n",
              "      <td>1.0</td>\n",
              "      <td>0.0</td>\n",
              "    </tr>\n",
              "    <tr>\n",
              "      <th>197</th>\n",
              "      <td>0.937500</td>\n",
              "      <td>1.000000</td>\n",
              "      <td>0.904762</td>\n",
              "      <td>0.770833</td>\n",
              "      <td>0.0</td>\n",
              "      <td>1.0</td>\n",
              "      <td>0.0</td>\n",
              "      <td>0.0</td>\n",
              "      <td>1.0</td>\n",
              "      <td>0.0</td>\n",
              "      <td>1.0</td>\n",
              "      <td>1.0</td>\n",
              "      <td>0.0</td>\n",
              "    </tr>\n",
              "    <tr>\n",
              "      <th>198</th>\n",
              "      <td>0.895833</td>\n",
              "      <td>0.944444</td>\n",
              "      <td>0.928571</td>\n",
              "      <td>0.833333</td>\n",
              "      <td>1.0</td>\n",
              "      <td>0.0</td>\n",
              "      <td>0.0</td>\n",
              "      <td>0.0</td>\n",
              "      <td>1.0</td>\n",
              "      <td>0.0</td>\n",
              "      <td>1.0</td>\n",
              "      <td>1.0</td>\n",
              "      <td>0.0</td>\n",
              "    </tr>\n",
              "    <tr>\n",
              "      <th>199</th>\n",
              "      <td>0.937500</td>\n",
              "      <td>0.861111</td>\n",
              "      <td>0.952381</td>\n",
              "      <td>0.895833</td>\n",
              "      <td>0.0</td>\n",
              "      <td>1.0</td>\n",
              "      <td>0.0</td>\n",
              "      <td>0.0</td>\n",
              "      <td>1.0</td>\n",
              "      <td>0.0</td>\n",
              "      <td>1.0</td>\n",
              "      <td>1.0</td>\n",
              "      <td>0.0</td>\n",
              "    </tr>\n",
              "  </tbody>\n",
              "</table>\n",
              "<p>200 rows × 13 columns</p>\n",
              "</div>\n",
              "      <button class=\"colab-df-convert\" onclick=\"convertToInteractive('df-27e82049-8f41-4a93-9fcb-29bd60d65740')\"\n",
              "              title=\"Convert this dataframe to an interactive table.\"\n",
              "              style=\"display:none;\">\n",
              "        \n",
              "  <svg xmlns=\"http://www.w3.org/2000/svg\" height=\"24px\"viewBox=\"0 0 24 24\"\n",
              "       width=\"24px\">\n",
              "    <path d=\"M0 0h24v24H0V0z\" fill=\"none\"/>\n",
              "    <path d=\"M18.56 5.44l.94 2.06.94-2.06 2.06-.94-2.06-.94-.94-2.06-.94 2.06-2.06.94zm-11 1L8.5 8.5l.94-2.06 2.06-.94-2.06-.94L8.5 2.5l-.94 2.06-2.06.94zm10 10l.94 2.06.94-2.06 2.06-.94-2.06-.94-.94-2.06-.94 2.06-2.06.94z\"/><path d=\"M17.41 7.96l-1.37-1.37c-.4-.4-.92-.59-1.43-.59-.52 0-1.04.2-1.43.59L10.3 9.45l-7.72 7.72c-.78.78-.78 2.05 0 2.83L4 21.41c.39.39.9.59 1.41.59.51 0 1.02-.2 1.41-.59l7.78-7.78 2.81-2.81c.8-.78.8-2.07 0-2.86zM5.41 20L4 18.59l7.72-7.72 1.47 1.35L5.41 20z\"/>\n",
              "  </svg>\n",
              "      </button>\n",
              "      \n",
              "  <style>\n",
              "    .colab-df-container {\n",
              "      display:flex;\n",
              "      flex-wrap:wrap;\n",
              "      gap: 12px;\n",
              "    }\n",
              "\n",
              "    .colab-df-convert {\n",
              "      background-color: #E8F0FE;\n",
              "      border: none;\n",
              "      border-radius: 50%;\n",
              "      cursor: pointer;\n",
              "      display: none;\n",
              "      fill: #1967D2;\n",
              "      height: 32px;\n",
              "      padding: 0 0 0 0;\n",
              "      width: 32px;\n",
              "    }\n",
              "\n",
              "    .colab-df-convert:hover {\n",
              "      background-color: #E2EBFA;\n",
              "      box-shadow: 0px 1px 2px rgba(60, 64, 67, 0.3), 0px 1px 3px 1px rgba(60, 64, 67, 0.15);\n",
              "      fill: #174EA6;\n",
              "    }\n",
              "\n",
              "    [theme=dark] .colab-df-convert {\n",
              "      background-color: #3B4455;\n",
              "      fill: #D2E3FC;\n",
              "    }\n",
              "\n",
              "    [theme=dark] .colab-df-convert:hover {\n",
              "      background-color: #434B5C;\n",
              "      box-shadow: 0px 1px 3px 1px rgba(0, 0, 0, 0.15);\n",
              "      filter: drop-shadow(0px 1px 2px rgba(0, 0, 0, 0.3));\n",
              "      fill: #FFFFFF;\n",
              "    }\n",
              "  </style>\n",
              "\n",
              "      <script>\n",
              "        const buttonEl =\n",
              "          document.querySelector('#df-27e82049-8f41-4a93-9fcb-29bd60d65740 button.colab-df-convert');\n",
              "        buttonEl.style.display =\n",
              "          google.colab.kernel.accessAllowed ? 'block' : 'none';\n",
              "\n",
              "        async function convertToInteractive(key) {\n",
              "          const element = document.querySelector('#df-27e82049-8f41-4a93-9fcb-29bd60d65740');\n",
              "          const dataTable =\n",
              "            await google.colab.kernel.invokeFunction('convertToInteractive',\n",
              "                                                     [key], {});\n",
              "          if (!dataTable) return;\n",
              "\n",
              "          const docLinkHtml = 'Like what you see? Visit the ' +\n",
              "            '<a target=\"_blank\" href=https://colab.research.google.com/notebooks/data_table.ipynb>data table notebook</a>'\n",
              "            + ' to learn more about interactive tables.';\n",
              "          element.innerHTML = '';\n",
              "          dataTable['output_type'] = 'display_data';\n",
              "          await google.colab.output.renderOutput(dataTable, element);\n",
              "          const docLink = document.createElement('div');\n",
              "          docLink.innerHTML = docLinkHtml;\n",
              "          element.appendChild(docLink);\n",
              "        }\n",
              "      </script>\n",
              "    </div>\n",
              "  </div>\n",
              "  "
            ]
          },
          "metadata": {},
          "execution_count": 35
        }
      ]
    },
    {
      "cell_type": "code",
      "source": [
        "X.mean()"
      ],
      "metadata": {
        "colab": {
          "base_uri": "https://localhost:8080/"
        },
        "outputId": "bf5b4aec-a2b2-4a7e-8f03-a311eaa536d4",
        "id": "Gfs5nhqKwhYw"
      },
      "execution_count": null,
      "outputs": [
        {
          "output_type": "execute_result",
          "data": {
            "text/plain": [
              "read                   0.504792\n",
              "write                  0.604861\n",
              "math                   0.467738\n",
              "science                0.538542\n",
              "female_female          0.545000\n",
              "female_male            0.455000\n",
              "ses_high               0.290000\n",
              "ses_low                0.235000\n",
              "ses_middle             0.475000\n",
              "schtyp_private         0.160000\n",
              "schtyp_public          0.840000\n",
              "honors_enrolled        0.265000\n",
              "honors_not enrolled    0.735000\n",
              "dtype: float64"
            ]
          },
          "metadata": {},
          "execution_count": 36
        }
      ]
    },
    {
      "cell_type": "code",
      "source": [
        "X.std()"
      ],
      "metadata": {
        "colab": {
          "base_uri": "https://localhost:8080/"
        },
        "outputId": "52e59ca6-ee8f-44c3-dca3-dd3319a24ecf",
        "id": "towMZvVowhYx"
      },
      "execution_count": null,
      "outputs": [
        {
          "output_type": "execute_result",
          "data": {
            "text/plain": [
              "read                   0.213603\n",
              "write                  0.263294\n",
              "math                   0.223058\n",
              "science                0.206269\n",
              "female_female          0.499220\n",
              "female_male            0.499220\n",
              "ses_high               0.454901\n",
              "ses_low                0.425063\n",
              "ses_middle             0.500628\n",
              "schtyp_private         0.367526\n",
              "schtyp_public          0.367526\n",
              "honors_enrolled        0.442441\n",
              "honors_not enrolled    0.442441\n",
              "dtype: float64"
            ]
          },
          "metadata": {},
          "execution_count": 37
        }
      ]
    },
    {
      "cell_type": "code",
      "source": [
        "from sklearn.model_selection import train_test_split\n",
        "\n",
        "X_train, X_test,y_train,y_test = train_test_split(X,y,test_size = 0.20,random_state = 1,shuffle = True,stratify = y)"
      ],
      "metadata": {
        "id": "FPh5iSxCwhYx"
      },
      "execution_count": null,
      "outputs": []
    },
    {
      "cell_type": "code",
      "source": [
        "X_train.shape , y_train.shape  #training sample"
      ],
      "metadata": {
        "colab": {
          "base_uri": "https://localhost:8080/"
        },
        "outputId": "371739d4-b5e0-428f-d10e-9d3f32560e59",
        "id": "SsJ6PmYwwhYy"
      },
      "execution_count": null,
      "outputs": [
        {
          "output_type": "execute_result",
          "data": {
            "text/plain": [
              "((160, 13), (160, 1))"
            ]
          },
          "metadata": {},
          "execution_count": 39
        }
      ]
    },
    {
      "cell_type": "code",
      "source": [
        "X_test.shape , y_test.shape    #test sample"
      ],
      "metadata": {
        "colab": {
          "base_uri": "https://localhost:8080/"
        },
        "outputId": "09915698-6f83-4e6e-98a3-65da5299bb2a",
        "id": "25rOLeEdwhYy"
      },
      "execution_count": null,
      "outputs": [
        {
          "output_type": "execute_result",
          "data": {
            "text/plain": [
              "((40, 13), (40, 1))"
            ]
          },
          "metadata": {},
          "execution_count": 40
        }
      ]
    },
    {
      "cell_type": "markdown",
      "source": [
        "Model Training"
      ],
      "metadata": {
        "id": "sKf4eBH8whY0"
      }
    },
    {
      "cell_type": "code",
      "source": [
        "from sklearn.linear_model import LogisticRegression\n",
        "logistic_model = LogisticRegression()\n",
        "logistic_model.fit(X_train, y_train)"
      ],
      "metadata": {
        "colab": {
          "base_uri": "https://localhost:8080/"
        },
        "outputId": "7665d2ed-1c4f-420d-80e6-8673bb033e22",
        "id": "vg82XfnHwhY1"
      },
      "execution_count": null,
      "outputs": [
        {
          "output_type": "stream",
          "name": "stderr",
          "text": [
            "/usr/local/lib/python3.8/dist-packages/sklearn/utils/validation.py:993: DataConversionWarning: A column-vector y was passed when a 1d array was expected. Please change the shape of y to (n_samples, ), for example using ravel().\n",
            "  y = column_or_1d(y, warn=True)\n"
          ]
        },
        {
          "output_type": "execute_result",
          "data": {
            "text/plain": [
              "LogisticRegression()"
            ]
          },
          "metadata": {},
          "execution_count": 41
        }
      ]
    },
    {
      "cell_type": "code",
      "source": [
        "logistic_model.coef_"
      ],
      "metadata": {
        "colab": {
          "base_uri": "https://localhost:8080/"
        },
        "outputId": "7f16abf5-306a-414f-f1c5-558378b2a211",
        "id": "eabmWJmkwhY1"
      },
      "execution_count": null,
      "outputs": [
        {
          "output_type": "execute_result",
          "data": {
            "text/plain": [
              "array([[ 8.13e-01,  9.52e-01,  1.81e+00, -6.52e-01, -8.25e-04,  1.83e-03,\n",
              "         5.62e-01, -3.15e-01, -2.46e-01,  2.07e-01, -2.06e-01,  7.07e-02,\n",
              "        -6.97e-02],\n",
              "       [-2.30e-01,  3.46e-01, -5.47e-01,  9.96e-01, -1.27e-01,  1.26e-01,\n",
              "        -1.19e-01,  4.04e-01, -2.86e-01,  8.87e-02, -8.95e-02, -2.70e-01,\n",
              "         2.69e-01],\n",
              "       [-5.82e-01, -1.30e+00, -1.27e+00, -3.44e-01,  1.27e-01, -1.28e-01,\n",
              "        -4.43e-01, -8.94e-02,  5.32e-01, -2.95e-01,  2.95e-01,  1.99e-01,\n",
              "        -2.00e-01]])"
            ]
          },
          "metadata": {},
          "execution_count": 42
        }
      ]
    },
    {
      "cell_type": "code",
      "source": [
        "logistic_model.intercept_"
      ],
      "metadata": {
        "colab": {
          "base_uri": "https://localhost:8080/"
        },
        "outputId": "1fe9fae0-cd1c-49b1-b989-934eac166197",
        "id": "EtNwwlCxwhY2"
      },
      "execution_count": null,
      "outputs": [
        {
          "output_type": "execute_result",
          "data": {
            "text/plain": [
              "array([-0.72, -0.54,  1.26])"
            ]
          },
          "metadata": {},
          "execution_count": 43
        }
      ]
    },
    {
      "cell_type": "markdown",
      "source": [
        "Model Testing"
      ],
      "metadata": {
        "id": "KTdGW223whY2"
      }
    },
    {
      "cell_type": "markdown",
      "source": [
        "Training Accuracy"
      ],
      "metadata": {
        "id": "IXbjXV4-whY2"
      }
    },
    {
      "cell_type": "code",
      "source": [
        "y_train_pred = logistic_model.predict(X_train)"
      ],
      "metadata": {
        "id": "Rk-WvbjswhY3"
      },
      "execution_count": null,
      "outputs": []
    },
    {
      "cell_type": "markdown",
      "source": [
        "Test Accuracy"
      ],
      "metadata": {
        "id": "UfXwFnj5whY3"
      }
    },
    {
      "cell_type": "code",
      "source": [
        "y_test_pred = logistic_model.predict(X_test)"
      ],
      "metadata": {
        "id": "sGYqmBCSwhY3"
      },
      "execution_count": null,
      "outputs": []
    },
    {
      "cell_type": "markdown",
      "source": [
        "Model Evaluation"
      ],
      "metadata": {
        "id": "cNuXY4ykwhY4"
      }
    },
    {
      "cell_type": "markdown",
      "source": [
        "Training Accuracy"
      ],
      "metadata": {
        "id": "lHyxzgfEwhY4"
      }
    },
    {
      "cell_type": "code",
      "source": [
        "print(accuracy_score(y_train,y_train_pred))"
      ],
      "metadata": {
        "colab": {
          "base_uri": "https://localhost:8080/"
        },
        "outputId": "b952af77-341b-426b-8879-a29e2c76f94a",
        "id": "bNWDdVEJwhY5"
      },
      "execution_count": null,
      "outputs": [
        {
          "output_type": "stream",
          "name": "stdout",
          "text": [
            "0.69375\n"
          ]
        }
      ]
    },
    {
      "cell_type": "code",
      "source": [
        "print(confusion_matrix(y_train,y_train_pred))"
      ],
      "metadata": {
        "colab": {
          "base_uri": "https://localhost:8080/"
        },
        "outputId": "0bee5f9f-4ce3-4c41-ac46-d8c8881db48e",
        "id": "HDPsYtoxwhY5"
      },
      "execution_count": null,
      "outputs": [
        {
          "output_type": "stream",
          "name": "stdout",
          "text": [
            "[[75  2  7]\n",
            " [16  9 11]\n",
            " [12  1 27]]\n"
          ]
        }
      ]
    },
    {
      "cell_type": "code",
      "source": [
        "print(classification_report(y_train,y_train_pred))"
      ],
      "metadata": {
        "colab": {
          "base_uri": "https://localhost:8080/"
        },
        "outputId": "8cf7e50a-966d-4f56-986b-8a774be2baef",
        "id": "-gkOEvs5whY5"
      },
      "execution_count": null,
      "outputs": [
        {
          "output_type": "stream",
          "name": "stdout",
          "text": [
            "              precision    recall  f1-score   support\n",
            "\n",
            "           0       0.73      0.89      0.80        84\n",
            "           1       0.75      0.25      0.38        36\n",
            "           2       0.60      0.68      0.64        40\n",
            "\n",
            "    accuracy                           0.69       160\n",
            "   macro avg       0.69      0.61      0.60       160\n",
            "weighted avg       0.70      0.69      0.66       160\n",
            "\n"
          ]
        }
      ]
    },
    {
      "cell_type": "markdown",
      "source": [
        "Test Accuracy"
      ],
      "metadata": {
        "id": "TiG_xKQTwhY5"
      }
    },
    {
      "cell_type": "code",
      "source": [
        "accuracy_score(y_test,y_test_pred)"
      ],
      "metadata": {
        "colab": {
          "base_uri": "https://localhost:8080/"
        },
        "outputId": "57596eee-59a6-4ccd-9c40-45237eb8c12d",
        "id": "s1A6oyaUwhY6"
      },
      "execution_count": null,
      "outputs": [
        {
          "output_type": "execute_result",
          "data": {
            "text/plain": [
              "0.45"
            ]
          },
          "metadata": {},
          "execution_count": 49
        }
      ]
    },
    {
      "cell_type": "code",
      "source": [
        "mdata.head()"
      ],
      "metadata": {
        "colab": {
          "base_uri": "https://localhost:8080/",
          "height": 250
        },
        "id": "E3zElWGBzbGw",
        "outputId": "4704b0f8-b6db-4b80-941f-94791679dc01"
      },
      "execution_count": null,
      "outputs": [
        {
          "output_type": "execute_result",
          "data": {
            "text/plain": [
              "   prog  read  write  math  science  female_female  female_male  ses_high  \\\n",
              "0     2    34     35    41       29              1            0         0   \n",
              "1     1    34     33    41       36              0            1         0   \n",
              "2     2    39     39    44       26              0            1         1   \n",
              "3     2    37     37    42       33              0            1         0   \n",
              "4     2    39     31    40       39              0            1         0   \n",
              "\n",
              "   ses_low  ses_middle  schtyp_private  schtyp_public  honors_enrolled  \\\n",
              "0        1           0               0              1                0   \n",
              "1        0           1               0              1                0   \n",
              "2        0           0               0              1                0   \n",
              "3        1           0               0              1                0   \n",
              "4        0           1               0              1                0   \n",
              "\n",
              "   honors_not enrolled  \n",
              "0                    1  \n",
              "1                    1  \n",
              "2                    1  \n",
              "3                    1  \n",
              "4                    1  "
            ],
            "text/html": [
              "\n",
              "  <div id=\"df-b8d84d5e-81d2-457a-becd-4229dadf1600\">\n",
              "    <div class=\"colab-df-container\">\n",
              "      <div>\n",
              "<style scoped>\n",
              "    .dataframe tbody tr th:only-of-type {\n",
              "        vertical-align: middle;\n",
              "    }\n",
              "\n",
              "    .dataframe tbody tr th {\n",
              "        vertical-align: top;\n",
              "    }\n",
              "\n",
              "    .dataframe thead th {\n",
              "        text-align: right;\n",
              "    }\n",
              "</style>\n",
              "<table border=\"1\" class=\"dataframe\">\n",
              "  <thead>\n",
              "    <tr style=\"text-align: right;\">\n",
              "      <th></th>\n",
              "      <th>prog</th>\n",
              "      <th>read</th>\n",
              "      <th>write</th>\n",
              "      <th>math</th>\n",
              "      <th>science</th>\n",
              "      <th>female_female</th>\n",
              "      <th>female_male</th>\n",
              "      <th>ses_high</th>\n",
              "      <th>ses_low</th>\n",
              "      <th>ses_middle</th>\n",
              "      <th>schtyp_private</th>\n",
              "      <th>schtyp_public</th>\n",
              "      <th>honors_enrolled</th>\n",
              "      <th>honors_not enrolled</th>\n",
              "    </tr>\n",
              "  </thead>\n",
              "  <tbody>\n",
              "    <tr>\n",
              "      <th>0</th>\n",
              "      <td>2</td>\n",
              "      <td>34</td>\n",
              "      <td>35</td>\n",
              "      <td>41</td>\n",
              "      <td>29</td>\n",
              "      <td>1</td>\n",
              "      <td>0</td>\n",
              "      <td>0</td>\n",
              "      <td>1</td>\n",
              "      <td>0</td>\n",
              "      <td>0</td>\n",
              "      <td>1</td>\n",
              "      <td>0</td>\n",
              "      <td>1</td>\n",
              "    </tr>\n",
              "    <tr>\n",
              "      <th>1</th>\n",
              "      <td>1</td>\n",
              "      <td>34</td>\n",
              "      <td>33</td>\n",
              "      <td>41</td>\n",
              "      <td>36</td>\n",
              "      <td>0</td>\n",
              "      <td>1</td>\n",
              "      <td>0</td>\n",
              "      <td>0</td>\n",
              "      <td>1</td>\n",
              "      <td>0</td>\n",
              "      <td>1</td>\n",
              "      <td>0</td>\n",
              "      <td>1</td>\n",
              "    </tr>\n",
              "    <tr>\n",
              "      <th>2</th>\n",
              "      <td>2</td>\n",
              "      <td>39</td>\n",
              "      <td>39</td>\n",
              "      <td>44</td>\n",
              "      <td>26</td>\n",
              "      <td>0</td>\n",
              "      <td>1</td>\n",
              "      <td>1</td>\n",
              "      <td>0</td>\n",
              "      <td>0</td>\n",
              "      <td>0</td>\n",
              "      <td>1</td>\n",
              "      <td>0</td>\n",
              "      <td>1</td>\n",
              "    </tr>\n",
              "    <tr>\n",
              "      <th>3</th>\n",
              "      <td>2</td>\n",
              "      <td>37</td>\n",
              "      <td>37</td>\n",
              "      <td>42</td>\n",
              "      <td>33</td>\n",
              "      <td>0</td>\n",
              "      <td>1</td>\n",
              "      <td>0</td>\n",
              "      <td>1</td>\n",
              "      <td>0</td>\n",
              "      <td>0</td>\n",
              "      <td>1</td>\n",
              "      <td>0</td>\n",
              "      <td>1</td>\n",
              "    </tr>\n",
              "    <tr>\n",
              "      <th>4</th>\n",
              "      <td>2</td>\n",
              "      <td>39</td>\n",
              "      <td>31</td>\n",
              "      <td>40</td>\n",
              "      <td>39</td>\n",
              "      <td>0</td>\n",
              "      <td>1</td>\n",
              "      <td>0</td>\n",
              "      <td>0</td>\n",
              "      <td>1</td>\n",
              "      <td>0</td>\n",
              "      <td>1</td>\n",
              "      <td>0</td>\n",
              "      <td>1</td>\n",
              "    </tr>\n",
              "  </tbody>\n",
              "</table>\n",
              "</div>\n",
              "      <button class=\"colab-df-convert\" onclick=\"convertToInteractive('df-b8d84d5e-81d2-457a-becd-4229dadf1600')\"\n",
              "              title=\"Convert this dataframe to an interactive table.\"\n",
              "              style=\"display:none;\">\n",
              "        \n",
              "  <svg xmlns=\"http://www.w3.org/2000/svg\" height=\"24px\"viewBox=\"0 0 24 24\"\n",
              "       width=\"24px\">\n",
              "    <path d=\"M0 0h24v24H0V0z\" fill=\"none\"/>\n",
              "    <path d=\"M18.56 5.44l.94 2.06.94-2.06 2.06-.94-2.06-.94-.94-2.06-.94 2.06-2.06.94zm-11 1L8.5 8.5l.94-2.06 2.06-.94-2.06-.94L8.5 2.5l-.94 2.06-2.06.94zm10 10l.94 2.06.94-2.06 2.06-.94-2.06-.94-.94-2.06-.94 2.06-2.06.94z\"/><path d=\"M17.41 7.96l-1.37-1.37c-.4-.4-.92-.59-1.43-.59-.52 0-1.04.2-1.43.59L10.3 9.45l-7.72 7.72c-.78.78-.78 2.05 0 2.83L4 21.41c.39.39.9.59 1.41.59.51 0 1.02-.2 1.41-.59l7.78-7.78 2.81-2.81c.8-.78.8-2.07 0-2.86zM5.41 20L4 18.59l7.72-7.72 1.47 1.35L5.41 20z\"/>\n",
              "  </svg>\n",
              "      </button>\n",
              "      \n",
              "  <style>\n",
              "    .colab-df-container {\n",
              "      display:flex;\n",
              "      flex-wrap:wrap;\n",
              "      gap: 12px;\n",
              "    }\n",
              "\n",
              "    .colab-df-convert {\n",
              "      background-color: #E8F0FE;\n",
              "      border: none;\n",
              "      border-radius: 50%;\n",
              "      cursor: pointer;\n",
              "      display: none;\n",
              "      fill: #1967D2;\n",
              "      height: 32px;\n",
              "      padding: 0 0 0 0;\n",
              "      width: 32px;\n",
              "    }\n",
              "\n",
              "    .colab-df-convert:hover {\n",
              "      background-color: #E2EBFA;\n",
              "      box-shadow: 0px 1px 2px rgba(60, 64, 67, 0.3), 0px 1px 3px 1px rgba(60, 64, 67, 0.15);\n",
              "      fill: #174EA6;\n",
              "    }\n",
              "\n",
              "    [theme=dark] .colab-df-convert {\n",
              "      background-color: #3B4455;\n",
              "      fill: #D2E3FC;\n",
              "    }\n",
              "\n",
              "    [theme=dark] .colab-df-convert:hover {\n",
              "      background-color: #434B5C;\n",
              "      box-shadow: 0px 1px 3px 1px rgba(0, 0, 0, 0.15);\n",
              "      filter: drop-shadow(0px 1px 2px rgba(0, 0, 0, 0.3));\n",
              "      fill: #FFFFFF;\n",
              "    }\n",
              "  </style>\n",
              "\n",
              "      <script>\n",
              "        const buttonEl =\n",
              "          document.querySelector('#df-b8d84d5e-81d2-457a-becd-4229dadf1600 button.colab-df-convert');\n",
              "        buttonEl.style.display =\n",
              "          google.colab.kernel.accessAllowed ? 'block' : 'none';\n",
              "\n",
              "        async function convertToInteractive(key) {\n",
              "          const element = document.querySelector('#df-b8d84d5e-81d2-457a-becd-4229dadf1600');\n",
              "          const dataTable =\n",
              "            await google.colab.kernel.invokeFunction('convertToInteractive',\n",
              "                                                     [key], {});\n",
              "          if (!dataTable) return;\n",
              "\n",
              "          const docLinkHtml = 'Like what you see? Visit the ' +\n",
              "            '<a target=\"_blank\" href=https://colab.research.google.com/notebooks/data_table.ipynb>data table notebook</a>'\n",
              "            + ' to learn more about interactive tables.';\n",
              "          element.innerHTML = '';\n",
              "          dataTable['output_type'] = 'display_data';\n",
              "          await google.colab.output.renderOutput(dataTable, element);\n",
              "          const docLink = document.createElement('div');\n",
              "          docLink.innerHTML = docLinkHtml;\n",
              "          element.appendChild(docLink);\n",
              "        }\n",
              "      </script>\n",
              "    </div>\n",
              "  </div>\n",
              "  "
            ]
          },
          "metadata": {},
          "execution_count": 50
        }
      ]
    },
    {
      "cell_type": "markdown",
      "source": [
        "#Predicting program based on new values"
      ],
      "metadata": {
        "id": "xUeZK3HE0RAu"
      }
    },
    {
      "cell_type": "code",
      "source": [
        "# define a single row of input data\n",
        "row = [33,34, 50, 32, 1,0,0,1,0,0,1,0,1]\n",
        "# predict a multinomial probability distribution\n",
        "yhat = logistic_model.predict([row])\n",
        "# summarize the predicted probabilities\n",
        "print('Predicted value: %s' % yhat[0])"
      ],
      "metadata": {
        "colab": {
          "base_uri": "https://localhost:8080/"
        },
        "id": "F_34s0mUy1n_",
        "outputId": "c19738d1-6795-40ad-c33c-286cda4de2bc"
      },
      "execution_count": null,
      "outputs": [
        {
          "output_type": "stream",
          "name": "stdout",
          "text": [
            "Predicted value: 0\n"
          ]
        },
        {
          "output_type": "stream",
          "name": "stderr",
          "text": [
            "/usr/local/lib/python3.8/dist-packages/sklearn/base.py:450: UserWarning: X does not have valid feature names, but LogisticRegression was fitted with feature names\n",
            "  warnings.warn(\n"
          ]
        }
      ]
    }
  ]
}