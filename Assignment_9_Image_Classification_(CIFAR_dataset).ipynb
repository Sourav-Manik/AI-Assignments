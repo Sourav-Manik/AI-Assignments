{
  "nbformat": 4,
  "nbformat_minor": 0,
  "metadata": {
    "colab": {
      "provenance": [],
      "include_colab_link": true
    },
    "kernelspec": {
      "name": "python3",
      "display_name": "Python 3"
    },
    "language_info": {
      "name": "python"
    },
    "accelerator": "GPU",
    "gpuClass": "standard"
  },
  "cells": [
    {
      "cell_type": "markdown",
      "metadata": {
        "id": "view-in-github",
        "colab_type": "text"
      },
      "source": [
        "<a href=\"https://colab.research.google.com/github/Sourav-Manik/AI-Assignments/blob/main/Assignment_9_Image_Classification_(CIFAR_dataset).ipynb\" target=\"_parent\"><img src=\"https://colab.research.google.com/assets/colab-badge.svg\" alt=\"Open In Colab\"/></a>"
      ]
    },
    {
      "cell_type": "markdown",
      "metadata": {
        "id": "UaOm9MZwSM9e"
      },
      "source": [
        "#Model A - Basic CNN Model"
      ]
    },
    {
      "cell_type": "markdown",
      "metadata": {
        "id": "2qeKtD9_lYrW"
      },
      "source": [
        "##1. Import Libraries"
      ]
    },
    {
      "cell_type": "code",
      "execution_count": null,
      "metadata": {
        "id": "sbrHfiirlR4t"
      },
      "outputs": [],
      "source": [
        "import tensorflow as tf\n",
        "from tensorflow import keras\n",
        "from keras.models import Sequential\n",
        "from keras.layers import Conv2D, MaxPooling2D,Dense, Flatten, Dropout, Activation, MaxPool2D, BatchNormalization\n",
        "import numpy as np\n",
        "from matplotlib import pyplot as plt\n",
        "from keras.preprocessing.image import ImageDataGenerator\n",
        "from keras.utils import to_categorical\n",
        "# tensorflow.keras.image.preprocessing.ImageDataGenerator"
      ]
    },
    {
      "cell_type": "markdown",
      "metadata": {
        "id": "DaqU43Zxl4k-"
      },
      "source": [
        "##2. Import Dataset"
      ]
    },
    {
      "cell_type": "code",
      "execution_count": null,
      "metadata": {
        "id": "0zD8mQMVl3WM",
        "colab": {
          "base_uri": "https://localhost:8080/"
        },
        "outputId": "e76e7dab-d0c0-451b-e27c-5bd150397031"
      },
      "outputs": [
        {
          "output_type": "stream",
          "name": "stdout",
          "text": [
            "Downloading data from https://www.cs.toronto.edu/~kriz/cifar-10-python.tar.gz\n",
            "170498071/170498071 [==============================] - 13s 0us/step\n"
          ]
        }
      ],
      "source": [
        "(X_train, y_train), (X_test,y_test) = keras.datasets.cifar10.load_data()"
      ]
    },
    {
      "cell_type": "code",
      "source": [
        "plt.imshow(X_train[0])\n",
        "plt.show"
      ],
      "metadata": {
        "colab": {
          "base_uri": "https://localhost:8080/",
          "height": 284
        },
        "id": "lAVGK9u9Cbgw",
        "outputId": "c262e835-383b-4d8e-e111-6b9aa67da4d8"
      },
      "execution_count": null,
      "outputs": [
        {
          "output_type": "execute_result",
          "data": {
            "text/plain": [
              "<function matplotlib.pyplot.show(*args, **kw)>"
            ]
          },
          "metadata": {},
          "execution_count": 3
        },
        {
          "output_type": "display_data",
          "data": {
            "text/plain": [
              "<Figure size 432x288 with 1 Axes>"
            ],
            "image/png": "[encoded data removed]"
          },
          "metadata": {
            "needs_background": "light"
          }
        }
      ]
    },
    {
      "cell_type": "markdown",
      "metadata": {
        "id": "-LzLIcjDmGrG"
      },
      "source": [
        "##3. Data Understanding"
      ]
    },
    {
      "cell_type": "code",
      "execution_count": null,
      "metadata": {
        "colab": {
          "base_uri": "https://localhost:8080/"
        },
        "id": "GA-hoiFzmFus",
        "outputId": "19f567b4-e00d-4104-c7bd-fbe9432d7064"
      },
      "outputs": [
        {
          "output_type": "execute_result",
          "data": {
            "text/plain": [
              "((50000, 32, 32, 3), (50000, 1))"
            ]
          },
          "metadata": {},
          "execution_count": 4
        }
      ],
      "source": [
        "X_train.shape, y_train.shape"
      ]
    },
    {
      "cell_type": "code",
      "execution_count": null,
      "metadata": {
        "colab": {
          "base_uri": "https://localhost:8080/"
        },
        "id": "sJprckN1mLbX",
        "outputId": "e398f736-703b-43ee-dbaf-25a5c0c8f5ea"
      },
      "outputs": [
        {
          "output_type": "execute_result",
          "data": {
            "text/plain": [
              "((10000, 32, 32, 3), (10000, 1))"
            ]
          },
          "metadata": {},
          "execution_count": 5
        }
      ],
      "source": [
        "X_test.shape, y_test.shape"
      ]
    },
    {
      "cell_type": "code",
      "execution_count": null,
      "metadata": {
        "colab": {
          "base_uri": "https://localhost:8080/"
        },
        "id": "fV1m2n2PmLea",
        "outputId": "740ee941-7f3a-4de7-ce69-c829b547e71e"
      },
      "outputs": [
        {
          "output_type": "execute_result",
          "data": {
            "text/plain": [
              "(64.1500758911213, 64.06097012299574)"
            ]
          },
          "metadata": {},
          "execution_count": 6
        }
      ],
      "source": [
        "X_train.std(), X_test.std()"
      ]
    },
    {
      "cell_type": "markdown",
      "metadata": {
        "id": "2tJ_VTsZrPd9"
      },
      "source": [
        "Apply Normalization for better learning"
      ]
    },
    {
      "cell_type": "code",
      "execution_count": null,
      "metadata": {
        "id": "6vgMmugYrrNc"
      },
      "outputs": [],
      "source": [
        "X_train = X_train.astype('float')\n",
        "X_test = X_test.astype('float')"
      ]
    },
    {
      "cell_type": "code",
      "execution_count": null,
      "metadata": {
        "colab": {
          "base_uri": "https://localhost:8080/"
        },
        "id": "g-x_x_YTepGT",
        "outputId": "763f0913-60ab-4458-d260-609a6f3d8f39"
      },
      "outputs": [
        {
          "output_type": "execute_result",
          "data": {
            "text/plain": [
              "dtype('float64')"
            ]
          },
          "metadata": {},
          "execution_count": 8
        }
      ],
      "source": [
        "X_train.dtype"
      ]
    },
    {
      "cell_type": "code",
      "execution_count": null,
      "metadata": {
        "id": "QSIJAvm2r3ur"
      },
      "outputs": [],
      "source": [
        "X_train_norm = X_train/255\n",
        "X_test_norm = X_test/255"
      ]
    },
    {
      "cell_type": "code",
      "execution_count": null,
      "metadata": {
        "colab": {
          "base_uri": "https://localhost:8080/"
        },
        "id": "pzq7HNQJ1Gpp",
        "outputId": "6c9ff658-ca5c-4c62-fb68-0c8f1901acb4"
      },
      "outputs": [
        {
          "output_type": "execute_result",
          "data": {
            "text/plain": [
              "(0.25156892506322026, 0.2512194906784146)"
            ]
          },
          "metadata": {},
          "execution_count": 10
        }
      ],
      "source": [
        "X_train_norm.std(), X_test_norm.std()"
      ]
    },
    {
      "cell_type": "code",
      "source": [
        "y_train_encoded = to_categorical(y_train)\n",
        "y_test_encoded = to_categorical(y_test)"
      ],
      "metadata": {
        "id": "I0B1VD_LC5ub"
      },
      "execution_count": null,
      "outputs": []
    },
    {
      "cell_type": "markdown",
      "metadata": {
        "id": "T-xBJ4yammSW"
      },
      "source": [
        "##4. Model Building"
      ]
    },
    {
      "cell_type": "code",
      "execution_count": null,
      "metadata": {
        "colab": {
          "base_uri": "https://localhost:8080/"
        },
        "id": "L1HVFhEemLhG",
        "outputId": "f301e719-2040-4a1a-ee55-e1f59377f772"
      },
      "outputs": [
        {
          "output_type": "stream",
          "name": "stdout",
          "text": [
            "Model: \"sequential\"\n",
            "_________________________________________________________________\n",
            " Layer (type)                Output Shape              Param #   \n",
            "=================================================================\n",
            " conv2d (Conv2D)             (None, 8, 8, 96)          34944     \n",
            "                                                                 \n",
            " max_pooling2d (MaxPooling2D  (None, 4, 4, 96)         0         \n",
            " )                                                               \n",
            "                                                                 \n",
            " conv2d_1 (Conv2D)           (None, 4, 4, 256)         614656    \n",
            "                                                                 \n",
            " max_pooling2d_1 (MaxPooling  (None, 2, 2, 256)        0         \n",
            " 2D)                                                             \n",
            "                                                                 \n",
            " conv2d_2 (Conv2D)           (None, 2, 2, 384)         885120    \n",
            "                                                                 \n",
            " conv2d_3 (Conv2D)           (None, 2, 2, 384)         1327488   \n",
            "                                                                 \n",
            " conv2d_4 (Conv2D)           (None, 2, 2, 256)         884992    \n",
            "                                                                 \n",
            " max_pooling2d_2 (MaxPooling  (None, 1, 1, 256)        0         \n",
            " 2D)                                                             \n",
            "                                                                 \n",
            " flatten (Flatten)           (None, 256)               0         \n",
            "                                                                 \n",
            " dense (Dense)               (None, 4096)              1052672   \n",
            "                                                                 \n",
            " dense_1 (Dense)             (None, 4096)              16781312  \n",
            "                                                                 \n",
            " dense_2 (Dense)             (None, 10)                40970     \n",
            "                                                                 \n",
            "=================================================================\n",
            "Total params: 21,622,154\n",
            "Trainable params: 21,622,154\n",
            "Non-trainable params: 0\n",
            "_________________________________________________________________\n"
          ]
        }
      ],
      "source": [
        "model = Sequential()\n",
        "model.add(Conv2D(input_shape = (32,32,3),filters = 96,kernel_size = 11,strides = 4,padding = 'same',activation = 'relu'))\n",
        "model.add(MaxPooling2D(pool_size = (3,3),strides = (2,2),padding ='same'))\n",
        "model.add(Conv2D(filters = 256,kernel_size = 5,strides = 1,padding = 'same',activation = 'relu'))\n",
        "model.add(MaxPooling2D(pool_size = (3,3),strides = (2,2),padding ='same'))\n",
        "\n",
        "model.add(Conv2D(filters = 384,kernel_size = 3,strides = 1,padding = 'same',activation = 'relu'))\n",
        "model.add(Conv2D(filters = 384,kernel_size = 3,strides = 1,padding = 'same',activation = 'relu'))\n",
        "model.add(Conv2D(filters = 256,kernel_size = 3,strides = 1,padding = 'same',activation = 'relu'))\n",
        "model.add(MaxPooling2D(pool_size = (3,3),strides = (2,2),padding ='same'))\n",
        "\n",
        "model.add(Flatten())\n",
        "model.add(Dense(units = 4096, activation = 'tanh'))\n",
        "model.add(Dense(units = 4096, activation = 'tanh'))\n",
        "model.add(Dense(units = 10, activation = 'softmax'))\n",
        "model.summary()"
      ]
    },
    {
      "cell_type": "markdown",
      "metadata": {
        "id": "C0hl_mR9ocH4"
      },
      "source": [
        "Model Compilation"
      ]
    },
    {
      "cell_type": "code",
      "execution_count": null,
      "metadata": {
        "id": "N-dd5WaNmLj4"
      },
      "outputs": [],
      "source": [
        "model.compile(optimizer = 'sgd',loss = 'categorical_crossentropy',metrics='categorical_accuracy')"
      ]
    },
    {
      "cell_type": "markdown",
      "metadata": {
        "id": "Dls7GQygo1Jl"
      },
      "source": [
        "##5. Model Training"
      ]
    },
    {
      "cell_type": "code",
      "execution_count": null,
      "metadata": {
        "colab": {
          "base_uri": "https://localhost:8080/"
        },
        "id": "pp9LpTUrmLoX",
        "outputId": "d62a85ee-bf67-498d-9ea3-9929ed1afcbb"
      },
      "outputs": [
        {
          "output_type": "stream",
          "name": "stdout",
          "text": [
            "Epoch 1/25\n",
            "1563/1563 - 24s - loss: 2.2187 - categorical_accuracy: 0.1506 - val_loss: 2.0142 - val_categorical_accuracy: 0.2162 - 24s/epoch - 15ms/step\n",
            "Epoch 2/25\n",
            "1563/1563 - 17s - loss: 1.8695 - categorical_accuracy: 0.2967 - val_loss: 2.0437 - val_categorical_accuracy: 0.2455 - 17s/epoch - 11ms/step\n",
            "Epoch 3/25\n",
            "1563/1563 - 17s - loss: 1.5972 - categorical_accuracy: 0.4115 - val_loss: 1.4501 - val_categorical_accuracy: 0.4669 - 17s/epoch - 11ms/step\n",
            "Epoch 4/25\n",
            "1563/1563 - 16s - loss: 1.4473 - categorical_accuracy: 0.4680 - val_loss: 1.4362 - val_categorical_accuracy: 0.4794 - 16s/epoch - 10ms/step\n",
            "Epoch 5/25\n",
            "1563/1563 - 17s - loss: 1.3449 - categorical_accuracy: 0.5138 - val_loss: 1.2821 - val_categorical_accuracy: 0.5344 - 17s/epoch - 11ms/step\n",
            "Epoch 6/25\n",
            "1563/1563 - 16s - loss: 1.2574 - categorical_accuracy: 0.5431 - val_loss: 1.2209 - val_categorical_accuracy: 0.5539 - 16s/epoch - 10ms/step\n",
            "Epoch 7/25\n",
            "1563/1563 - 16s - loss: 1.1818 - categorical_accuracy: 0.5756 - val_loss: 1.3533 - val_categorical_accuracy: 0.5144 - 16s/epoch - 10ms/step\n",
            "Epoch 8/25\n",
            "1563/1563 - 17s - loss: 1.1106 - categorical_accuracy: 0.6004 - val_loss: 1.1312 - val_categorical_accuracy: 0.6006 - 17s/epoch - 11ms/step\n",
            "Epoch 9/25\n",
            "1563/1563 - 16s - loss: 1.0423 - categorical_accuracy: 0.6254 - val_loss: 1.1951 - val_categorical_accuracy: 0.5816 - 16s/epoch - 10ms/step\n",
            "Epoch 10/25\n",
            "1563/1563 - 16s - loss: 0.9805 - categorical_accuracy: 0.6520 - val_loss: 1.1782 - val_categorical_accuracy: 0.5815 - 16s/epoch - 10ms/step\n",
            "Epoch 11/25\n",
            "1563/1563 - 16s - loss: 0.9199 - categorical_accuracy: 0.6741 - val_loss: 1.1485 - val_categorical_accuracy: 0.6095 - 16s/epoch - 10ms/step\n",
            "Epoch 12/25\n",
            "1563/1563 - 17s - loss: 0.8600 - categorical_accuracy: 0.6938 - val_loss: 1.1440 - val_categorical_accuracy: 0.5962 - 17s/epoch - 11ms/step\n",
            "Epoch 13/25\n",
            "1563/1563 - 17s - loss: 0.8032 - categorical_accuracy: 0.7143 - val_loss: 1.1833 - val_categorical_accuracy: 0.6023 - 17s/epoch - 11ms/step\n",
            "Epoch 14/25\n",
            "1563/1563 - 17s - loss: 0.7465 - categorical_accuracy: 0.7339 - val_loss: 1.1348 - val_categorical_accuracy: 0.6141 - 17s/epoch - 11ms/step\n",
            "Epoch 15/25\n",
            "1563/1563 - 16s - loss: 0.6898 - categorical_accuracy: 0.7558 - val_loss: 1.1333 - val_categorical_accuracy: 0.6265 - 16s/epoch - 10ms/step\n",
            "Epoch 16/25\n",
            "1563/1563 - 17s - loss: 0.6371 - categorical_accuracy: 0.7731 - val_loss: 1.0597 - val_categorical_accuracy: 0.6479 - 17s/epoch - 11ms/step\n",
            "Epoch 17/25\n",
            "1563/1563 - 16s - loss: 0.5843 - categorical_accuracy: 0.7901 - val_loss: 1.0939 - val_categorical_accuracy: 0.6393 - 16s/epoch - 10ms/step\n",
            "Epoch 18/25\n",
            "1563/1563 - 17s - loss: 0.5294 - categorical_accuracy: 0.8117 - val_loss: 1.3936 - val_categorical_accuracy: 0.6079 - 17s/epoch - 11ms/step\n",
            "Epoch 19/25\n",
            "1563/1563 - 16s - loss: 0.4752 - categorical_accuracy: 0.8297 - val_loss: 1.2667 - val_categorical_accuracy: 0.6406 - 16s/epoch - 10ms/step\n",
            "Epoch 20/25\n",
            "1563/1563 - 17s - loss: 0.4243 - categorical_accuracy: 0.8484 - val_loss: 1.5543 - val_categorical_accuracy: 0.5970 - 17s/epoch - 11ms/step\n",
            "Epoch 21/25\n",
            "1563/1563 - 17s - loss: 0.3797 - categorical_accuracy: 0.8645 - val_loss: 1.4761 - val_categorical_accuracy: 0.6048 - 17s/epoch - 11ms/step\n",
            "Epoch 22/25\n",
            "1563/1563 - 16s - loss: 0.3424 - categorical_accuracy: 0.8778 - val_loss: 1.3348 - val_categorical_accuracy: 0.6385 - 16s/epoch - 10ms/step\n",
            "Epoch 23/25\n",
            "1563/1563 - 17s - loss: 0.2987 - categorical_accuracy: 0.8930 - val_loss: 1.3619 - val_categorical_accuracy: 0.6535 - 17s/epoch - 11ms/step\n",
            "Epoch 24/25\n",
            "1563/1563 - 16s - loss: 0.2608 - categorical_accuracy: 0.9070 - val_loss: 1.5491 - val_categorical_accuracy: 0.6349 - 16s/epoch - 10ms/step\n",
            "Epoch 25/25\n",
            "1563/1563 - 17s - loss: 0.2346 - categorical_accuracy: 0.9155 - val_loss: 1.7072 - val_categorical_accuracy: 0.6076 - 17s/epoch - 11ms/step\n"
          ]
        }
      ],
      "source": [
        "model_training = model.fit(x=X_train_norm,y=y_train_encoded,batch_size = 32,epochs = 25, validation_data=(X_test_norm,y_test_encoded),verbose = 2)"
      ]
    },
    {
      "cell_type": "markdown",
      "metadata": {
        "id": "yFpqAr0OsHaS"
      },
      "source": [
        "Model Evaluation"
      ]
    },
    {
      "cell_type": "code",
      "source": [
        "plt.imshow(X_train_norm[0])"
      ],
      "metadata": {
        "colab": {
          "base_uri": "https://localhost:8080/",
          "height": 284
        },
        "id": "FG3Aup6NQMyw",
        "outputId": "e35e6adf-a0c1-48f1-f38b-21d0fab66fb5"
      },
      "execution_count": null,
      "outputs": [
        {
          "output_type": "execute_result",
          "data": {
            "text/plain": [
              "<matplotlib.image.AxesImage at 0x7f70103d9310>"
            ]
          },
          "metadata": {},
          "execution_count": 15
        },
        {
          "output_type": "display_data",
          "data": {
            "text/plain": [
              "<Figure size 432x288 with 1 Axes>"
            ],
            "image/png": "[encoded data removed]"
          },
          "metadata": {
            "needs_background": "light"
          }
        }
      ]
    },
    {
      "cell_type": "code",
      "execution_count": null,
      "metadata": {
        "id": "kFF9ENPFmI8y",
        "colab": {
          "base_uri": "https://localhost:8080/"
        },
        "outputId": "dd8c1fc5-6921-4bf2-c982-af8ba874bcdb"
      },
      "outputs": [
        {
          "output_type": "execute_result",
          "data": {
            "text/plain": [
              "array([6], dtype=uint8)"
            ]
          },
          "metadata": {},
          "execution_count": 16
        }
      ],
      "source": [
        "y_train[0]"
      ]
    },
    {
      "cell_type": "code",
      "execution_count": null,
      "metadata": {
        "id": "kc9pys-XrUjS",
        "colab": {
          "base_uri": "https://localhost:8080/"
        },
        "outputId": "57abb3b9-bed8-410e-c0cf-aa34f32f2b8a"
      },
      "outputs": [
        {
          "output_type": "execute_result",
          "data": {
            "text/plain": [
              "['airplane',\n",
              " 'automobile',\n",
              " 'bird',\n",
              " 'cat',\n",
              " 'deer',\n",
              " 'dog',\n",
              " 'frog',\n",
              " 'horse',\n",
              " 'ship',\n",
              " 'truck']"
            ]
          },
          "metadata": {},
          "execution_count": 17
        }
      ],
      "source": [
        "class_names = ['airplane','automobile','bird','cat','deer','dog','frog','horse','ship','truck']\n",
        "class_names"
      ]
    },
    {
      "cell_type": "code",
      "execution_count": null,
      "metadata": {
        "id": "pF5TCAQnrUmm",
        "colab": {
          "base_uri": "https://localhost:8080/"
        },
        "outputId": "18bfb956-b210-4569-9f0e-3c889be5c776"
      },
      "outputs": [
        {
          "output_type": "execute_result",
          "data": {
            "text/plain": [
              "(50000, 1)"
            ]
          },
          "metadata": {},
          "execution_count": 18
        }
      ],
      "source": [
        "y_train.shape"
      ]
    },
    {
      "cell_type": "code",
      "execution_count": null,
      "metadata": {
        "id": "jVD_EceorUpS",
        "colab": {
          "base_uri": "https://localhost:8080/"
        },
        "outputId": "febfa109-7f8b-4dd6-d6f9-a189c631c5f5"
      },
      "outputs": [
        {
          "output_type": "execute_result",
          "data": {
            "text/plain": [
              "((50000,), (10000,))"
            ]
          },
          "metadata": {},
          "execution_count": 19
        }
      ],
      "source": [
        "y_train = np.reshape(a= y_train, newshape = -1,)\n",
        "y_test = np.reshape(a=y_test,newshape = -1,)\n",
        "y_train.shape,y_test.shape"
      ]
    },
    {
      "cell_type": "code",
      "execution_count": null,
      "metadata": {
        "id": "xnnrgUyqrUsO",
        "colab": {
          "base_uri": "https://localhost:8080/",
          "height": 36
        },
        "outputId": "6ac5b3b2-a631-4eea-c8d0-180b212c0fb5"
      },
      "outputs": [
        {
          "output_type": "execute_result",
          "data": {
            "text/plain": [
              "'frog'"
            ],
            "application/vnd.google.colaboratory.intrinsic+json": {
              "type": "string"
            }
          },
          "metadata": {},
          "execution_count": 20
        }
      ],
      "source": [
        "class_names[y_train[0]]"
      ]
    },
    {
      "cell_type": "markdown",
      "metadata": {
        "id": "9LmgigPxqLbP"
      },
      "source": [
        "##Model Prediction/ Testing"
      ]
    },
    {
      "cell_type": "code",
      "execution_count": null,
      "metadata": {
        "id": "HTFJkQRvtfNM"
      },
      "outputs": [],
      "source": [
        "# y_pred_test = model.predict(X_test_norm)\n",
        "# y_pred_train = model.predict(X_train_norm)"
      ]
    },
    {
      "cell_type": "code",
      "execution_count": null,
      "metadata": {
        "id": "B38dmLsvoM_8",
        "colab": {
          "base_uri": "https://localhost:8080/"
        },
        "outputId": "128efada-b95c-4006-c9d5-305cfc7b4a94"
      },
      "outputs": [
        {
          "output_type": "stream",
          "name": "stdout",
          "text": [
            "313/313 [==============================] - 1s 4ms/step\n",
            "6\n"
          ]
        }
      ],
      "source": [
        "prediction = model.predict(X_test_norm)\n",
        "prediction\n",
        "print(np.argmax(prediction[29]))"
      ]
    },
    {
      "cell_type": "code",
      "execution_count": null,
      "metadata": {
        "id": "N_JYgOOMoNCr",
        "colab": {
          "base_uri": "https://localhost:8080/"
        },
        "outputId": "df18f162-e61b-47d5-98af-7b84d15b47e7"
      },
      "outputs": [
        {
          "output_type": "execute_result",
          "data": {
            "text/plain": [
              "6"
            ]
          },
          "metadata": {},
          "execution_count": 23
        }
      ],
      "source": [
        "y_test[29]"
      ]
    },
    {
      "cell_type": "code",
      "source": [
        "evaluation_score = model.evaluate(x=X_test_norm,y=y_test_encoded)"
      ],
      "metadata": {
        "colab": {
          "base_uri": "https://localhost:8080/"
        },
        "outputId": "2f526309-ded4-43ea-bf22-040604f3ed48",
        "id": "BRXnPyj55hVD"
      },
      "execution_count": null,
      "outputs": [
        {
          "output_type": "stream",
          "name": "stdout",
          "text": [
            "313/313 [==============================] - 2s 5ms/step - loss: 1.7072 - categorical_accuracy: 0.6076\n"
          ]
        }
      ]
    },
    {
      "cell_type": "code",
      "source": [
        "evaluation_score"
      ],
      "metadata": {
        "colab": {
          "base_uri": "https://localhost:8080/"
        },
        "outputId": "26277334-fa1c-4edc-951e-1bfe42f949c5",
        "id": "__HaEtkS5hVN"
      },
      "execution_count": null,
      "outputs": [
        {
          "output_type": "execute_result",
          "data": {
            "text/plain": [
              "[1.7071958780288696, 0.6075999736785889]"
            ]
          },
          "metadata": {},
          "execution_count": 25
        }
      ]
    },
    {
      "cell_type": "code",
      "source": [
        "print('Loss        =', evaluation_score[0])\n",
        "print('Accuracy    =', evaluation_score[1])"
      ],
      "metadata": {
        "colab": {
          "base_uri": "https://localhost:8080/"
        },
        "outputId": "994e7230-e7ab-4c6f-f34a-17df93fa5b78",
        "id": "EI4LH7jM5hVO"
      },
      "execution_count": null,
      "outputs": [
        {
          "output_type": "stream",
          "name": "stdout",
          "text": [
            "Loss        = 1.7071958780288696\n",
            "Accuracy    = 0.6075999736785889\n"
          ]
        }
      ]
    },
    {
      "cell_type": "code",
      "source": [
        "model_loss = evaluation_score[0]\n",
        "model_accuracy = evaluation_score[1]"
      ],
      "metadata": {
        "id": "k3ACtwhE5hFm"
      },
      "execution_count": null,
      "outputs": []
    },
    {
      "cell_type": "markdown",
      "metadata": {
        "id": "i-qnQeV0qhgr"
      },
      "source": [
        "##Model Performance"
      ]
    },
    {
      "cell_type": "markdown",
      "metadata": {
        "id": "yKwhLl1rqtY-"
      },
      "source": [
        "Model Accuracy"
      ]
    },
    {
      "cell_type": "code",
      "execution_count": null,
      "metadata": {
        "id": "rbvg3Dd0oNF5",
        "colab": {
          "base_uri": "https://localhost:8080/",
          "height": 295
        },
        "outputId": "a7f4a64e-9d67-4a76-fc9f-be7f2df0fe43"
      },
      "outputs": [
        {
          "output_type": "display_data",
          "data": {
            "text/plain": [
              "<Figure size 432x288 with 1 Axes>"
            ],
            "image/png": "[encoded data removed]"
          },
          "metadata": {
            "needs_background": "light"
          }
        }
      ],
      "source": [
        "plt.plot(model_training.history['categorical_accuracy'],label = 'Train accuracy')\n",
        "\n",
        "plt.plot(model_training.history['val_categorical_accuracy'],label='Test accuracy')\n",
        "\n",
        "plt.xlabel('Epochs')\n",
        "plt.ylabel('Accuracy')\n",
        "plt.title('Model Accuracy Performance')\n",
        "plt.legend()\n",
        "plt.show()"
      ]
    },
    {
      "cell_type": "markdown",
      "metadata": {
        "id": "-zqMhicircww"
      },
      "source": [
        "Model Loss"
      ]
    },
    {
      "cell_type": "code",
      "execution_count": null,
      "metadata": {
        "id": "Q8XoGaQkoNIa",
        "colab": {
          "base_uri": "https://localhost:8080/",
          "height": 295
        },
        "outputId": "e631a3d0-57ba-4ba8-aa9b-97e516c1b544"
      },
      "outputs": [
        {
          "output_type": "display_data",
          "data": {
            "text/plain": [
              "<Figure size 432x288 with 1 Axes>"
            ],
            "image/png": "[encoded data removed]"
          },
          "metadata": {
            "needs_background": "light"
          }
        }
      ],
      "source": [
        "plt.plot(model_training.history['loss'],label = 'Train loss')\n",
        "\n",
        "plt.plot(model_training.history['val_loss'],label='Test loss')\n",
        "\n",
        "plt.xlabel('Epochs')\n",
        "plt.ylabel('Loss')\n",
        "plt.title('Model loss Performance')\n",
        "plt.legend()\n",
        "plt.show()"
      ]
    },
    {
      "cell_type": "markdown",
      "metadata": {
        "id": "RdESsKjISl3y"
      },
      "source": [
        "#Model B - CNN Model using Data Augmentation"
      ]
    },
    {
      "cell_type": "code",
      "source": [
        "datagen = ImageDataGenerator(\n",
        "    featurewise_center=True,\n",
        "    featurewise_std_normalization=True,\n",
        "    rotation_range=20,\n",
        "    width_shift_range=0.2,\n",
        "    height_shift_range=0.2,\n",
        "    horizontal_flip=True,\n",
        "    zoom_range=0.2,\n",
        "    validation_split=0.2)\n",
        "\n",
        "datagen.fit(X_train_norm)"
      ],
      "metadata": {
        "id": "hEWn7Wb_Ft5_"
      },
      "execution_count": null,
      "outputs": []
    },
    {
      "cell_type": "markdown",
      "metadata": {
        "id": "EWa8vOy1carT"
      },
      "source": [
        "##5. Model Training"
      ]
    },
    {
      "cell_type": "code",
      "execution_count": null,
      "metadata": {
        "id": "DrmpDHKYcarU",
        "colab": {
          "base_uri": "https://localhost:8080/"
        },
        "outputId": "96a64e4a-a4eb-43e5-d8c6-20614de1e0f0"
      },
      "outputs": [
        {
          "output_type": "stream",
          "name": "stdout",
          "text": [
            "Epoch 1/25\n",
            "1250/1250 - 46s - loss: 3.2409 - categorical_accuracy: 0.3959 - val_loss: 1.3966 - val_categorical_accuracy: 0.5080 - 46s/epoch - 36ms/step\n",
            "Epoch 2/25\n",
            "1250/1250 - 46s - loss: 1.3447 - categorical_accuracy: 0.5210 - val_loss: 1.2935 - val_categorical_accuracy: 0.5530 - 46s/epoch - 37ms/step\n",
            "Epoch 3/25\n",
            "1250/1250 - 45s - loss: 1.2772 - categorical_accuracy: 0.5471 - val_loss: 1.2417 - val_categorical_accuracy: 0.5543 - 45s/epoch - 36ms/step\n",
            "Epoch 4/25\n",
            "1250/1250 - 49s - loss: 1.2273 - categorical_accuracy: 0.5663 - val_loss: 1.2044 - val_categorical_accuracy: 0.5723 - 49s/epoch - 39ms/step\n",
            "Epoch 5/25\n",
            "1250/1250 - 47s - loss: 1.1936 - categorical_accuracy: 0.5774 - val_loss: 1.1655 - val_categorical_accuracy: 0.5856 - 47s/epoch - 38ms/step\n",
            "Epoch 6/25\n",
            "1250/1250 - 45s - loss: 1.1669 - categorical_accuracy: 0.5867 - val_loss: 1.1467 - val_categorical_accuracy: 0.5967 - 45s/epoch - 36ms/step\n",
            "Epoch 7/25\n",
            "1250/1250 - 45s - loss: 1.1362 - categorical_accuracy: 0.5983 - val_loss: 1.1495 - val_categorical_accuracy: 0.5899 - 45s/epoch - 36ms/step\n",
            "Epoch 8/25\n",
            "1250/1250 - 45s - loss: 1.1125 - categorical_accuracy: 0.6058 - val_loss: 1.1527 - val_categorical_accuracy: 0.5912 - 45s/epoch - 36ms/step\n",
            "Epoch 9/25\n",
            "1250/1250 - 45s - loss: 1.0972 - categorical_accuracy: 0.6105 - val_loss: 1.1049 - val_categorical_accuracy: 0.6095 - 45s/epoch - 36ms/step\n",
            "Epoch 10/25\n",
            "1250/1250 - 46s - loss: 1.0709 - categorical_accuracy: 0.6195 - val_loss: 1.1057 - val_categorical_accuracy: 0.6058 - 46s/epoch - 37ms/step\n",
            "Epoch 11/25\n",
            "1250/1250 - 45s - loss: 1.0589 - categorical_accuracy: 0.6251 - val_loss: 1.1085 - val_categorical_accuracy: 0.6066 - 45s/epoch - 36ms/step\n",
            "Epoch 12/25\n",
            "1250/1250 - 45s - loss: 1.0468 - categorical_accuracy: 0.6287 - val_loss: 1.0665 - val_categorical_accuracy: 0.6235 - 45s/epoch - 36ms/step\n",
            "Epoch 13/25\n",
            "1250/1250 - 45s - loss: 1.0277 - categorical_accuracy: 0.6355 - val_loss: 1.0572 - val_categorical_accuracy: 0.6265 - 45s/epoch - 36ms/step\n",
            "Epoch 14/25\n",
            "1250/1250 - 45s - loss: 1.0099 - categorical_accuracy: 0.6415 - val_loss: 1.0358 - val_categorical_accuracy: 0.6310 - 45s/epoch - 36ms/step\n",
            "Epoch 15/25\n",
            "1250/1250 - 54s - loss: 0.9985 - categorical_accuracy: 0.6432 - val_loss: 1.0474 - val_categorical_accuracy: 0.6318 - 54s/epoch - 43ms/step\n",
            "Epoch 16/25\n",
            "1250/1250 - 45s - loss: 0.9854 - categorical_accuracy: 0.6492 - val_loss: 1.0182 - val_categorical_accuracy: 0.6395 - 45s/epoch - 36ms/step\n",
            "Epoch 17/25\n",
            "1250/1250 - 46s - loss: 0.9777 - categorical_accuracy: 0.6539 - val_loss: 1.0194 - val_categorical_accuracy: 0.6435 - 46s/epoch - 36ms/step\n",
            "Epoch 18/25\n",
            "1250/1250 - 44s - loss: 0.9586 - categorical_accuracy: 0.6598 - val_loss: 1.0168 - val_categorical_accuracy: 0.6440 - 44s/epoch - 36ms/step\n",
            "Epoch 19/25\n",
            "1250/1250 - 45s - loss: 0.9499 - categorical_accuracy: 0.6635 - val_loss: 1.0156 - val_categorical_accuracy: 0.6399 - 45s/epoch - 36ms/step\n",
            "Epoch 20/25\n",
            "1250/1250 - 45s - loss: 0.9437 - categorical_accuracy: 0.6658 - val_loss: 1.0018 - val_categorical_accuracy: 0.6490 - 45s/epoch - 36ms/step\n",
            "Epoch 21/25\n",
            "1250/1250 - 45s - loss: 0.9262 - categorical_accuracy: 0.6705 - val_loss: 0.9987 - val_categorical_accuracy: 0.6469 - 45s/epoch - 36ms/step\n",
            "Epoch 22/25\n",
            "1250/1250 - 45s - loss: 0.9185 - categorical_accuracy: 0.6754 - val_loss: 1.0101 - val_categorical_accuracy: 0.6405 - 45s/epoch - 36ms/step\n",
            "Epoch 23/25\n",
            "1250/1250 - 44s - loss: 0.9176 - categorical_accuracy: 0.6759 - val_loss: 1.0196 - val_categorical_accuracy: 0.6454 - 44s/epoch - 35ms/step\n",
            "Epoch 24/25\n",
            "1250/1250 - 44s - loss: 0.9066 - categorical_accuracy: 0.6772 - val_loss: 1.0303 - val_categorical_accuracy: 0.6365 - 44s/epoch - 35ms/step\n",
            "Epoch 25/25\n",
            "1250/1250 - 45s - loss: 0.8989 - categorical_accuracy: 0.6820 - val_loss: 0.9683 - val_categorical_accuracy: 0.6582 - 45s/epoch - 36ms/step\n"
          ]
        }
      ],
      "source": [
        "Agumented_model_training = model.fit(datagen.flow(X_train_norm, y_train_encoded, batch_size=32, subset='training'),\n",
        "                                              validation_data=datagen.flow(X_train_norm, y_train_encoded,batch_size=8, subset='validation'),\n",
        "                                              epochs=25,verbose = 2)"
      ]
    },
    {
      "cell_type": "markdown",
      "metadata": {
        "id": "SVg7ZsXFcarU"
      },
      "source": [
        "Model Evaluation"
      ]
    },
    {
      "cell_type": "code",
      "execution_count": null,
      "metadata": {
        "colab": {
          "base_uri": "https://localhost:8080/",
          "height": 284
        },
        "id": "8K9UOanJcarV",
        "outputId": "cfbb1284-189d-4113-ca16-9f2df3cd1f92"
      },
      "outputs": [
        {
          "output_type": "execute_result",
          "data": {
            "text/plain": [
              "<function matplotlib.pyplot.show(*args, **kw)>"
            ]
          },
          "metadata": {},
          "execution_count": 32
        },
        {
          "output_type": "display_data",
          "data": {
            "text/plain": [
              "<Figure size 432x288 with 1 Axes>"
            ],
            "image/png": "[encoded data removed]"
          },
          "metadata": {
            "needs_background": "light"
          }
        }
      ],
      "source": [
        "plt.imshow(X_train_norm[102])\n",
        "plt.show"
      ]
    },
    {
      "cell_type": "code",
      "execution_count": null,
      "metadata": {
        "colab": {
          "base_uri": "https://localhost:8080/"
        },
        "id": "lHoivriqcarV",
        "outputId": "773fcfbf-67b2-466b-9cb8-23a985245336"
      },
      "outputs": [
        {
          "output_type": "execute_result",
          "data": {
            "text/plain": [
              "6"
            ]
          },
          "metadata": {},
          "execution_count": 33
        }
      ],
      "source": [
        "y_train[0]"
      ]
    },
    {
      "cell_type": "code",
      "execution_count": null,
      "metadata": {
        "id": "hWRYi0t-carX"
      },
      "outputs": [],
      "source": [
        "# y_pred_test = model.predict(X_test)\n",
        "# y_pred_train = model.predict(X_train)"
      ]
    },
    {
      "cell_type": "markdown",
      "metadata": {
        "id": "smJvczOucarY"
      },
      "source": [
        "## 7. Model Prediction"
      ]
    },
    {
      "cell_type": "code",
      "execution_count": null,
      "metadata": {
        "colab": {
          "base_uri": "https://localhost:8080/"
        },
        "id": "t0J8cpqRcarY",
        "outputId": "8660c97b-71b0-4ce9-b6ad-85bee0d58c2f"
      },
      "outputs": [
        {
          "output_type": "stream",
          "name": "stdout",
          "text": [
            "313/313 [==============================] - 1s 4ms/step\n",
            "6\n"
          ]
        }
      ],
      "source": [
        "Agumented_prediction = model.predict(X_test_norm)    #X_test_norm value has been updated as we have used ImageDataGenerator\n",
        "Agumented_prediction\n",
        "print(np.argmax(prediction[29]))"
      ]
    },
    {
      "cell_type": "code",
      "execution_count": null,
      "metadata": {
        "colab": {
          "base_uri": "https://localhost:8080/"
        },
        "id": "Ikf2-QTCcarY",
        "outputId": "0fa4179e-fbe1-4c9e-bf49-b6fb72a9e808"
      },
      "outputs": [
        {
          "output_type": "execute_result",
          "data": {
            "text/plain": [
              "6"
            ]
          },
          "metadata": {},
          "execution_count": 36
        }
      ],
      "source": [
        "y_test[29]"
      ]
    },
    {
      "cell_type": "code",
      "source": [
        "Agumented_evaluation_score = model.evaluate(x=X_test_norm,y=y_test_encoded)"
      ],
      "metadata": {
        "colab": {
          "base_uri": "https://localhost:8080/"
        },
        "outputId": "f5ae1ea2-9aa6-4e1e-8597-7a0c5160f14e",
        "id": "aYuw-qXIjkbd"
      },
      "execution_count": null,
      "outputs": [
        {
          "output_type": "stream",
          "name": "stdout",
          "text": [
            "313/313 [==============================] - 2s 5ms/step - loss: 2.3635 - categorical_accuracy: 0.3957\n"
          ]
        }
      ]
    },
    {
      "cell_type": "code",
      "source": [
        "Agumented_evaluation_score"
      ],
      "metadata": {
        "colab": {
          "base_uri": "https://localhost:8080/"
        },
        "outputId": "8a7ba265-e40c-45f7-8f1e-fcc23d5908a5",
        "id": "uq_Dxzmqjkbf"
      },
      "execution_count": null,
      "outputs": [
        {
          "output_type": "execute_result",
          "data": {
            "text/plain": [
              "[2.363480567932129, 0.39570000767707825]"
            ]
          },
          "metadata": {},
          "execution_count": 38
        }
      ]
    },
    {
      "cell_type": "code",
      "source": [
        "print('Loss        =', Agumented_evaluation_score[0])\n",
        "print('Accuracy    =', Agumented_evaluation_score[1])"
      ],
      "metadata": {
        "colab": {
          "base_uri": "https://localhost:8080/"
        },
        "outputId": "2a0e95bc-a3d4-48d5-85bc-59002d243f3d",
        "id": "KP8blekxjkbg"
      },
      "execution_count": null,
      "outputs": [
        {
          "output_type": "stream",
          "name": "stdout",
          "text": [
            "Loss        = 2.363480567932129\n",
            "Accuracy    = 0.39570000767707825\n"
          ]
        }
      ]
    },
    {
      "cell_type": "code",
      "source": [
        "Agumented_model_loss = Agumented_evaluation_score[0]\n",
        "Agumented_model_accuracy = Agumented_evaluation_score[1]"
      ],
      "metadata": {
        "id": "_4WFheZijkbg"
      },
      "execution_count": null,
      "outputs": []
    },
    {
      "cell_type": "markdown",
      "metadata": {
        "id": "E7Db0KJucarZ"
      },
      "source": [
        "## 8. Model Performance"
      ]
    },
    {
      "cell_type": "markdown",
      "metadata": {
        "id": "R4t5nSBucarZ"
      },
      "source": [
        "Model Accuracy"
      ]
    },
    {
      "cell_type": "code",
      "execution_count": null,
      "metadata": {
        "colab": {
          "base_uri": "https://localhost:8080/",
          "height": 295
        },
        "id": "O_sH7qDucarZ",
        "outputId": "f9ba60c1-8529-4832-e0d6-9fef53b4339a"
      },
      "outputs": [
        {
          "output_type": "display_data",
          "data": {
            "text/plain": [
              "<Figure size 432x288 with 1 Axes>"
            ],
            "image/png": "[encoded data removed]"
          },
          "metadata": {
            "needs_background": "light"
          }
        }
      ],
      "source": [
        "plt.plot(Agumented_model_training.history['categorical_accuracy'],label = 'Train accuracy')\n",
        "\n",
        "plt.plot(Agumented_model_training.history['val_categorical_accuracy'],label='Test accuracy')\n",
        "\n",
        "plt.xlabel('Epochs')\n",
        "plt.ylabel('Accuracy')\n",
        "plt.title('Model Accuracy Performance')\n",
        "plt.legend()\n",
        "plt.show()"
      ]
    },
    {
      "cell_type": "markdown",
      "metadata": {
        "id": "AMmflUqwcara"
      },
      "source": [
        "Model Loss"
      ]
    },
    {
      "cell_type": "code",
      "execution_count": null,
      "metadata": {
        "colab": {
          "base_uri": "https://localhost:8080/",
          "height": 295
        },
        "id": "92h_nketcara",
        "outputId": "55f4f69a-c30d-4b7d-aa09-d6a0f6c3515f"
      },
      "outputs": [
        {
          "output_type": "display_data",
          "data": {
            "text/plain": [
              "<Figure size 432x288 with 1 Axes>"
            ],
            "image/png": "[encoded data removed]"
          },
          "metadata": {
            "needs_background": "light"
          }
        }
      ],
      "source": [
        "plt.plot(Agumented_model_training.history['loss'],label = 'Train loss')\n",
        "\n",
        "plt.plot(Agumented_model_training.history['val_loss'],label='Test loss')\n",
        "\n",
        "plt.xlabel('Epochs')\n",
        "plt.ylabel('Loss')\n",
        "plt.title('Model loss Performance')\n",
        "plt.legend()\n",
        "plt.show()"
      ]
    },
    {
      "cell_type": "markdown",
      "metadata": {
        "id": "itLvRQVoSweq"
      },
      "source": [
        "#Model C - CNN Model using Dropout, Data Augmentation and Batch Normalization"
      ]
    },
    {
      "cell_type": "markdown",
      "source": [
        "##Model Building"
      ],
      "metadata": {
        "id": "S3oBPgxal51f"
      }
    },
    {
      "cell_type": "code",
      "source": [
        "enhanced_model = Sequential()\n",
        "enhanced_model.add(Conv2D(input_shape = (32,32,3),filters = 96,kernel_size = 11,strides = 4,padding = 'same',activation = 'relu'))\n",
        "enhanced_model.add(BatchNormalization())\n",
        "enhanced_model.add(MaxPooling2D(pool_size = (3,3),strides = (2,2),padding ='same'))\n",
        "enhanced_model.add(Conv2D(filters = 256,kernel_size = 5,strides = 1,padding = 'same',activation = 'relu'))\n",
        "enhanced_model.add(BatchNormalization())\n",
        "enhanced_model.add(MaxPooling2D(pool_size = (3,3),strides = (2,2),padding ='same'))\n",
        "\n",
        "enhanced_model.add(Conv2D(filters = 384,kernel_size = 3,strides = 1,padding = 'same',activation = 'relu'))\n",
        "enhanced_model.add(BatchNormalization())\n",
        "enhanced_model.add(Conv2D(filters = 384,kernel_size = 3,strides = 1,padding = 'same',activation = 'relu'))\n",
        "enhanced_model.add(BatchNormalization())\n",
        "enhanced_model.add(Conv2D(filters = 256,kernel_size = 3,strides = 1,padding = 'same',activation = 'relu'))\n",
        "enhanced_model.add(BatchNormalization())\n",
        "enhanced_model.add(MaxPooling2D(pool_size = (3,3),strides = (2,2),padding ='same'))\n",
        "\n",
        "enhanced_model.add(Flatten())\n",
        "enhanced_model.add(Dense(units = 4096, activation = 'tanh'))\n",
        "enhanced_model.add(Dropout(rate = 0.30))\n",
        "enhanced_model.add(Dense(units = 4096, activation = 'tanh'))\n",
        "enhanced_model.add(Dropout(rate = 0.30))\n",
        "enhanced_model.add(Dense(units = 10, activation = 'softmax'))\n",
        "enhanced_model.summary()"
      ],
      "metadata": {
        "colab": {
          "base_uri": "https://localhost:8080/"
        },
        "id": "hcqrsLq-lxoH",
        "outputId": "043129db-eece-4027-b5ab-80c0bee6eb84"
      },
      "execution_count": null,
      "outputs": [
        {
          "output_type": "stream",
          "name": "stdout",
          "text": [
            "Model: \"sequential_1\"\n",
            "_________________________________________________________________\n",
            " Layer (type)                Output Shape              Param #   \n",
            "=================================================================\n",
            " conv2d_5 (Conv2D)           (None, 8, 8, 96)          34944     \n",
            "                                                                 \n",
            " batch_normalization (BatchN  (None, 8, 8, 96)         384       \n",
            " ormalization)                                                   \n",
            "                                                                 \n",
            " max_pooling2d_3 (MaxPooling  (None, 4, 4, 96)         0         \n",
            " 2D)                                                             \n",
            "                                                                 \n",
            " conv2d_6 (Conv2D)           (None, 4, 4, 256)         614656    \n",
            "                                                                 \n",
            " batch_normalization_1 (Batc  (None, 4, 4, 256)        1024      \n",
            " hNormalization)                                                 \n",
            "                                                                 \n",
            " max_pooling2d_4 (MaxPooling  (None, 2, 2, 256)        0         \n",
            " 2D)                                                             \n",
            "                                                                 \n",
            " conv2d_7 (Conv2D)           (None, 2, 2, 384)         885120    \n",
            "                                                                 \n",
            " batch_normalization_2 (Batc  (None, 2, 2, 384)        1536      \n",
            " hNormalization)                                                 \n",
            "                                                                 \n",
            " conv2d_8 (Conv2D)           (None, 2, 2, 384)         1327488   \n",
            "                                                                 \n",
            " batch_normalization_3 (Batc  (None, 2, 2, 384)        1536      \n",
            " hNormalization)                                                 \n",
            "                                                                 \n",
            " conv2d_9 (Conv2D)           (None, 2, 2, 256)         884992    \n",
            "                                                                 \n",
            " batch_normalization_4 (Batc  (None, 2, 2, 256)        1024      \n",
            " hNormalization)                                                 \n",
            "                                                                 \n",
            " max_pooling2d_5 (MaxPooling  (None, 1, 1, 256)        0         \n",
            " 2D)                                                             \n",
            "                                                                 \n",
            " flatten_1 (Flatten)         (None, 256)               0         \n",
            "                                                                 \n",
            " dense_3 (Dense)             (None, 4096)              1052672   \n",
            "                                                                 \n",
            " dropout (Dropout)           (None, 4096)              0         \n",
            "                                                                 \n",
            " dense_4 (Dense)             (None, 4096)              16781312  \n",
            "                                                                 \n",
            " dropout_1 (Dropout)         (None, 4096)              0         \n",
            "                                                                 \n",
            " dense_5 (Dense)             (None, 10)                40970     \n",
            "                                                                 \n",
            "=================================================================\n",
            "Total params: 21,627,658\n",
            "Trainable params: 21,624,906\n",
            "Non-trainable params: 2,752\n",
            "_________________________________________________________________\n"
          ]
        }
      ]
    },
    {
      "cell_type": "markdown",
      "metadata": {
        "id": "yRvxJyYbnOTD"
      },
      "source": [
        "Model Compilation"
      ]
    },
    {
      "cell_type": "code",
      "execution_count": null,
      "metadata": {
        "id": "h4qXy1fVnOTJ"
      },
      "outputs": [],
      "source": [
        "enhanced_model.compile(optimizer = 'sgd',loss = 'categorical_crossentropy',metrics='categorical_accuracy')"
      ]
    },
    {
      "cell_type": "markdown",
      "metadata": {
        "id": "jPHtXsfbnOTJ"
      },
      "source": [
        "##5. Model Training"
      ]
    },
    {
      "cell_type": "code",
      "execution_count": null,
      "metadata": {
        "colab": {
          "base_uri": "https://localhost:8080/"
        },
        "outputId": "02167e6b-545e-48e4-8fc6-abc7042cabea",
        "id": "hbNi31HbnOTK"
      },
      "outputs": [
        {
          "output_type": "stream",
          "name": "stdout",
          "text": [
            "Epoch 1/25\n",
            "1250/1250 - 47s - loss: 1.8992 - categorical_accuracy: 0.3237 - val_loss: 1.5743 - val_categorical_accuracy: 0.4193 - 47s/epoch - 37ms/step\n",
            "Epoch 2/25\n",
            "1250/1250 - 45s - loss: 1.6226 - categorical_accuracy: 0.4161 - val_loss: 1.4851 - val_categorical_accuracy: 0.4636 - 45s/epoch - 36ms/step\n",
            "Epoch 3/25\n",
            "1250/1250 - 47s - loss: 1.4994 - categorical_accuracy: 0.4590 - val_loss: 1.4166 - val_categorical_accuracy: 0.4955 - 47s/epoch - 38ms/step\n",
            "Epoch 4/25\n",
            "1250/1250 - 45s - loss: 1.4197 - categorical_accuracy: 0.4947 - val_loss: 1.3762 - val_categorical_accuracy: 0.5083 - 45s/epoch - 36ms/step\n",
            "Epoch 5/25\n",
            "1250/1250 - 45s - loss: 1.3634 - categorical_accuracy: 0.5102 - val_loss: 1.3167 - val_categorical_accuracy: 0.5267 - 45s/epoch - 36ms/step\n",
            "Epoch 6/25\n",
            "1250/1250 - 46s - loss: 1.3087 - categorical_accuracy: 0.5338 - val_loss: 1.3148 - val_categorical_accuracy: 0.5350 - 46s/epoch - 37ms/step\n",
            "Epoch 7/25\n",
            "1250/1250 - 48s - loss: 1.2688 - categorical_accuracy: 0.5474 - val_loss: 1.2076 - val_categorical_accuracy: 0.5678 - 48s/epoch - 38ms/step\n",
            "Epoch 8/25\n",
            "1250/1250 - 45s - loss: 1.2374 - categorical_accuracy: 0.5605 - val_loss: 1.1855 - val_categorical_accuracy: 0.5809 - 45s/epoch - 36ms/step\n",
            "Epoch 9/25\n",
            "1250/1250 - 45s - loss: 1.2008 - categorical_accuracy: 0.5736 - val_loss: 1.1432 - val_categorical_accuracy: 0.5921 - 45s/epoch - 36ms/step\n",
            "Epoch 10/25\n",
            "1250/1250 - 45s - loss: 1.1779 - categorical_accuracy: 0.5829 - val_loss: 1.1528 - val_categorical_accuracy: 0.5872 - 45s/epoch - 36ms/step\n",
            "Epoch 11/25\n",
            "1250/1250 - 45s - loss: 1.1478 - categorical_accuracy: 0.5915 - val_loss: 1.1202 - val_categorical_accuracy: 0.6035 - 45s/epoch - 36ms/step\n",
            "Epoch 12/25\n",
            "1250/1250 - 45s - loss: 1.1325 - categorical_accuracy: 0.5992 - val_loss: 1.0992 - val_categorical_accuracy: 0.6119 - 45s/epoch - 36ms/step\n",
            "Epoch 13/25\n",
            "1250/1250 - 45s - loss: 1.1068 - categorical_accuracy: 0.6087 - val_loss: 1.0927 - val_categorical_accuracy: 0.6152 - 45s/epoch - 36ms/step\n",
            "Epoch 14/25\n",
            "1250/1250 - 45s - loss: 1.0853 - categorical_accuracy: 0.6173 - val_loss: 1.0754 - val_categorical_accuracy: 0.6202 - 45s/epoch - 36ms/step\n",
            "Epoch 15/25\n",
            "1250/1250 - 50s - loss: 1.0652 - categorical_accuracy: 0.6226 - val_loss: 1.1109 - val_categorical_accuracy: 0.6134 - 50s/epoch - 40ms/step\n",
            "Epoch 16/25\n",
            "1250/1250 - 60s - loss: 1.0548 - categorical_accuracy: 0.6268 - val_loss: 1.0688 - val_categorical_accuracy: 0.6230 - 60s/epoch - 48ms/step\n",
            "Epoch 17/25\n",
            "1250/1250 - 60s - loss: 1.0432 - categorical_accuracy: 0.6338 - val_loss: 1.0330 - val_categorical_accuracy: 0.6316 - 60s/epoch - 48ms/step\n",
            "Epoch 18/25\n",
            "1250/1250 - 51s - loss: 1.0162 - categorical_accuracy: 0.6406 - val_loss: 1.0235 - val_categorical_accuracy: 0.6363 - 51s/epoch - 40ms/step\n",
            "Epoch 19/25\n",
            "1250/1250 - 45s - loss: 1.0091 - categorical_accuracy: 0.6436 - val_loss: 1.0125 - val_categorical_accuracy: 0.6420 - 45s/epoch - 36ms/step\n",
            "Epoch 20/25\n",
            "1250/1250 - 55s - loss: 0.9958 - categorical_accuracy: 0.6474 - val_loss: 1.0240 - val_categorical_accuracy: 0.6377 - 55s/epoch - 44ms/step\n",
            "Epoch 21/25\n",
            "1250/1250 - 46s - loss: 0.9876 - categorical_accuracy: 0.6510 - val_loss: 1.0147 - val_categorical_accuracy: 0.6371 - 46s/epoch - 37ms/step\n",
            "Epoch 22/25\n",
            "1250/1250 - 45s - loss: 0.9702 - categorical_accuracy: 0.6553 - val_loss: 1.0151 - val_categorical_accuracy: 0.6437 - 45s/epoch - 36ms/step\n",
            "Epoch 23/25\n",
            "1250/1250 - 45s - loss: 0.9598 - categorical_accuracy: 0.6631 - val_loss: 0.9911 - val_categorical_accuracy: 0.6493 - 45s/epoch - 36ms/step\n",
            "Epoch 24/25\n",
            "1250/1250 - 46s - loss: 0.9432 - categorical_accuracy: 0.6684 - val_loss: 1.0062 - val_categorical_accuracy: 0.6430 - 46s/epoch - 37ms/step\n",
            "Epoch 25/25\n",
            "1250/1250 - 45s - loss: 0.9343 - categorical_accuracy: 0.6700 - val_loss: 0.9858 - val_categorical_accuracy: 0.6549 - 45s/epoch - 36ms/step\n"
          ]
        }
      ],
      "source": [
        "enhanced_model_training = enhanced_model.fit(datagen.flow(X_train_norm, y_train_encoded, batch_size=32, subset='training'),\n",
        "                                              validation_data=datagen.flow(X_train_norm, y_train_encoded,batch_size=8, subset='validation'),\n",
        "                                              epochs=25,verbose = 2)"
      ]
    },
    {
      "cell_type": "markdown",
      "metadata": {
        "id": "XQ4CQ_S5nOTK"
      },
      "source": [
        "##Model Prediction/ Testing"
      ]
    },
    {
      "cell_type": "code",
      "execution_count": null,
      "metadata": {
        "colab": {
          "base_uri": "https://localhost:8080/"
        },
        "outputId": "8bf66f70-4125-4cce-bf72-7ace30504cba",
        "id": "6bNrrk9qnOTK"
      },
      "outputs": [
        {
          "output_type": "stream",
          "name": "stdout",
          "text": [
            "313/313 [==============================] - 2s 4ms/step\n",
            "6\n"
          ]
        }
      ],
      "source": [
        "enhanced_model_prediction = enhanced_model.predict(X_test_norm)\n",
        "enhanced_model_prediction\n",
        "print(np.argmax(prediction[29]))"
      ]
    },
    {
      "cell_type": "code",
      "execution_count": null,
      "metadata": {
        "colab": {
          "base_uri": "https://localhost:8080/"
        },
        "outputId": "67b883cf-c594-4b8d-a8a1-5e49ab32cbba",
        "id": "dO2ImmwcnOTL"
      },
      "outputs": [
        {
          "output_type": "execute_result",
          "data": {
            "text/plain": [
              "6"
            ]
          },
          "metadata": {},
          "execution_count": 47
        }
      ],
      "source": [
        "y_test[29]"
      ]
    },
    {
      "cell_type": "code",
      "source": [
        "enhanced_model_evaluation_score = enhanced_model.evaluate(x=X_test_norm,y=y_test_encoded)"
      ],
      "metadata": {
        "colab": {
          "base_uri": "https://localhost:8080/"
        },
        "outputId": "188e70f8-4694-4499-86ac-9c098623e013",
        "id": "YDaK9esGnOTL"
      },
      "execution_count": null,
      "outputs": [
        {
          "output_type": "stream",
          "name": "stdout",
          "text": [
            "313/313 [==============================] - 3s 8ms/step - loss: 4.4545 - categorical_accuracy: 0.1200\n"
          ]
        }
      ]
    },
    {
      "cell_type": "code",
      "source": [
        "enhanced_model_evaluation_score"
      ],
      "metadata": {
        "colab": {
          "base_uri": "https://localhost:8080/"
        },
        "outputId": "4c7ec669-b7ba-4613-f0b9-67d5f582947a",
        "id": "yoGaH0x8nOTL"
      },
      "execution_count": null,
      "outputs": [
        {
          "output_type": "execute_result",
          "data": {
            "text/plain": [
              "[4.454463481903076, 0.11999999731779099]"
            ]
          },
          "metadata": {},
          "execution_count": 49
        }
      ]
    },
    {
      "cell_type": "code",
      "source": [
        "print('Loss        =', enhanced_model_evaluation_score[0])\n",
        "print('Accuracy    =', enhanced_model_evaluation_score[1])"
      ],
      "metadata": {
        "colab": {
          "base_uri": "https://localhost:8080/"
        },
        "outputId": "ab6c8b31-ed5c-4bd8-d35d-24f63d662ed5",
        "id": "b-8J_0BonOTL"
      },
      "execution_count": null,
      "outputs": [
        {
          "output_type": "stream",
          "name": "stdout",
          "text": [
            "Loss        = 4.454463481903076\n",
            "Accuracy    = 0.11999999731779099\n"
          ]
        }
      ]
    },
    {
      "cell_type": "code",
      "source": [
        "enhanced_model_model_loss = enhanced_model_evaluation_score[0]\n",
        "enhanced_model_model_accuracy = enhanced_model_evaluation_score[1]"
      ],
      "metadata": {
        "id": "7VNnoEiBnOTL"
      },
      "execution_count": null,
      "outputs": []
    },
    {
      "cell_type": "markdown",
      "metadata": {
        "id": "sUgpejX2nOTL"
      },
      "source": [
        "##Model Performance"
      ]
    },
    {
      "cell_type": "markdown",
      "metadata": {
        "id": "l3aw8qbCnOTL"
      },
      "source": [
        "Model Accuracy"
      ]
    },
    {
      "cell_type": "code",
      "execution_count": null,
      "metadata": {
        "colab": {
          "base_uri": "https://localhost:8080/",
          "height": 295
        },
        "outputId": "b19175cb-0e69-4eaf-be4e-118aa94b3227",
        "id": "9OTo2zpenOTL"
      },
      "outputs": [
        {
          "output_type": "display_data",
          "data": {
            "text/plain": [
              "<Figure size 432x288 with 1 Axes>"
            ],
            "image/png": "[encoded data removed]"
          },
          "metadata": {
            "needs_background": "light"
          }
        }
      ],
      "source": [
        "plt.plot(enhanced_model_training.history['categorical_accuracy'],label = 'Train accuracy')\n",
        "\n",
        "plt.plot(enhanced_model_training.history['val_categorical_accuracy'],label='Test accuracy')\n",
        "\n",
        "plt.xlabel('Epochs')\n",
        "plt.ylabel('Accuracy')\n",
        "plt.title('Model Accuracy Performance')\n",
        "plt.legend()\n",
        "plt.show()"
      ]
    },
    {
      "cell_type": "markdown",
      "metadata": {
        "id": "Mgc79xnanOTL"
      },
      "source": [
        "Model Loss"
      ]
    },
    {
      "cell_type": "code",
      "execution_count": null,
      "metadata": {
        "colab": {
          "base_uri": "https://localhost:8080/",
          "height": 295
        },
        "outputId": "c0f3323d-40ed-46b8-cfdf-b3a8a2090daa",
        "id": "vyAqRAXinOTL"
      },
      "outputs": [
        {
          "output_type": "display_data",
          "data": {
            "text/plain": [
              "<Figure size 432x288 with 1 Axes>"
            ],
            "image/png": "[encoded data removed]"
          },
          "metadata": {
            "needs_background": "light"
          }
        }
      ],
      "source": [
        "plt.plot(enhanced_model_training.history['loss'],label = 'Train loss')\n",
        "\n",
        "plt.plot(enhanced_model_training.history['val_loss'],label='Test loss')\n",
        "\n",
        "plt.xlabel('Epochs')\n",
        "plt.ylabel('Loss')\n",
        "plt.title('Model loss Performance')\n",
        "plt.legend()\n",
        "plt.show()"
      ]
    },
    {
      "cell_type": "markdown",
      "source": [
        "#Conclusion"
      ],
      "metadata": {
        "id": "TyUAO52K52Io"
      }
    },
    {
      "cell_type": "markdown",
      "source": [
        " - It is observed that with basic model the accuracy was okay but when we increased the image observations using image agumentation technique overall performance was reduced. Lastly, even when we apply dropout and batch normalization we did not get the best results. "
      ],
      "metadata": {
        "id": "RwbMB2mS6xq1"
      }
    }
  ]
}